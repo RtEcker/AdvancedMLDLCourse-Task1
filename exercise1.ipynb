{
  "cells": [
    {
      "cell_type": "markdown",
      "metadata": {
        "id": "view-in-github",
        "colab_type": "text"
      },
      "source": [
        "<a href=\"https://colab.research.google.com/github/sivanitzhaki/AdvancedMLDLCourse-Task1/blob/master/exercise1.ipynb\" target=\"_parent\"><img src=\"https://colab.research.google.com/assets/colab-badge.svg\" alt=\"Open In Colab\"/></a>"
      ]
    },
    {
      "cell_type": "markdown",
      "metadata": {
        "id": "bePl7F-7p2Li"
      },
      "source": [
        "# Assignment **I**\n",
        "**predict the number of bicycles that were rented in each day**\n",
        "\n",
        "Sivan Itzhaki  \n",
        "\n",
        "Rotem Ecker  \n",
        "\n",
        "Mor Schenavsky  \n",
        "\n",
        "Brit Lev  "
      ]
    },
    {
      "cell_type": "markdown",
      "source": [
        "\n",
        "First we'll import all the relevant libraries:"
      ],
      "metadata": {
        "id": "WAekaLi7_FLd"
      }
    },
    {
      "cell_type": "code",
      "execution_count": null,
      "metadata": {
        "colab": {
          "base_uri": "https://localhost:8080/"
        },
        "id": "k34JHgv1GfRU",
        "outputId": "157e2a55-c595-4044-cc60-124385bbb0a4"
      },
      "outputs": [
        {
          "output_type": "stream",
          "name": "stdout",
          "text": [
            "Drive already mounted at /content/drive; to attempt to forcibly remount, call drive.mount(\"/content/drive\", force_remount=True).\n"
          ]
        }
      ],
      "source": [
        "import pandas as pd\n",
        "import numpy as np\n",
        "import seaborn as sns\n",
        "import matplotlib.pyplot as plt\n",
        "from sklearn.metrics import mean_squared_error\n",
        "from sklearn.preprocessing import MinMaxScaler\n",
        "from datetime import time\n",
        "\n",
        "from google.colab import drive\n",
        "drive.mount('/content/drive')\n",
        "\n",
        "\n",
        "#Modeling\n",
        "from sklearn.linear_model import LinearRegression\n",
        "from sklearn.linear_model import LogisticRegression\n",
        "from sklearn.ensemble import RandomForestRegressor\n",
        "from sklearn.model_selection import train_test_split, KFold, cross_val_score, GridSearchCV\n",
        "from sklearn.tree import DecisionTreeRegressor\n",
        "\n",
        "import os\n",
        "\n",
        "#for displaying running time \n",
        "import time as t\n",
        "\n",
        "import warnings\n",
        "warnings.filterwarnings('ignore')"
      ]
    },
    {
      "cell_type": "markdown",
      "metadata": {
        "id": "8qJT9F_Jqlz7"
      },
      "source": [
        "uploading the dataset"
      ]
    },
    {
      "cell_type": "code",
      "execution_count": null,
      "metadata": {
        "id": "qFKj_OdrXh2y",
        "colab": {
          "base_uri": "https://localhost:8080/",
          "height": 424
        },
        "outputId": "7c13f9bd-d35e-42b2-cee1-6c7b8cdc0b35"
      },
      "outputs": [
        {
          "output_type": "execute_result",
          "data": {
            "text/plain": [
              "                 datetime  season  holiday  workingday  weather   temp  \\\n",
              "0     2011-07-19 11:00:00       3        0           1        1  33.62   \n",
              "1     2012-01-16 06:00:00       1        1           0        1   4.10   \n",
              "2     2011-12-11 18:00:00       4        0           0        1   9.84   \n",
              "3     2012-08-15 10:00:00       3        0           1        2  29.52   \n",
              "4     2012-06-15 23:00:00       2        0           1        1  25.42   \n",
              "...                   ...     ...      ...         ...      ...    ...   \n",
              "2717  2011-03-19 15:00:00       1        0           0        1  20.50   \n",
              "2718  2012-01-08 16:00:00       1        0           0        1  16.40   \n",
              "2719  2011-07-11 05:00:00       3        0           1        1  27.06   \n",
              "2720  2011-07-16 08:00:00       3        0           0        1  27.06   \n",
              "2721  2011-01-01 12:00:00       1        0           0        1  17.22   \n",
              "\n",
              "       atemp  humidity  windspeed   pollution  sunlight   traffic  count  \n",
              "0     40.150        59     0.0000   10.317020    33.621  0.015615    127  \n",
              "1      6.820        54     6.0032    3.502209     4.101  0.004489     13  \n",
              "2     11.365        48    12.9980   25.945915     9.841  0.000000    163  \n",
              "3     34.090        62    12.9980  116.935908    29.521  0.004489    233  \n",
              "4     31.060        53    16.9979  120.824789    25.421  0.015615    222  \n",
              "...      ...       ...        ...         ...       ...       ...    ...  \n",
              "2717  24.240        29    27.9993   44.665581    20.501  0.000242    313  \n",
              "2718  20.455        37    19.9995   31.090380    16.401  0.000000    314  \n",
              "2719  31.060        74     8.9981    1.075298    27.061  0.015615     26  \n",
              "2720  31.060        65    11.0014    2.291586    27.061  0.004489    127  \n",
              "2721  21.210        77    19.0012    8.940201    17.221  0.015615     84  \n",
              "\n",
              "[2722 rows x 13 columns]"
            ],
            "text/html": [
              "\n",
              "  <div id=\"df-7e72d3fa-731f-477a-bf11-4e7b0029584b\">\n",
              "    <div class=\"colab-df-container\">\n",
              "      <div>\n",
              "<style scoped>\n",
              "    .dataframe tbody tr th:only-of-type {\n",
              "        vertical-align: middle;\n",
              "    }\n",
              "\n",
              "    .dataframe tbody tr th {\n",
              "        vertical-align: top;\n",
              "    }\n",
              "\n",
              "    .dataframe thead th {\n",
              "        text-align: right;\n",
              "    }\n",
              "</style>\n",
              "<table border=\"1\" class=\"dataframe\">\n",
              "  <thead>\n",
              "    <tr style=\"text-align: right;\">\n",
              "      <th></th>\n",
              "      <th>datetime</th>\n",
              "      <th>season</th>\n",
              "      <th>holiday</th>\n",
              "      <th>workingday</th>\n",
              "      <th>weather</th>\n",
              "      <th>temp</th>\n",
              "      <th>atemp</th>\n",
              "      <th>humidity</th>\n",
              "      <th>windspeed</th>\n",
              "      <th>pollution</th>\n",
              "      <th>sunlight</th>\n",
              "      <th>traffic</th>\n",
              "      <th>count</th>\n",
              "    </tr>\n",
              "  </thead>\n",
              "  <tbody>\n",
              "    <tr>\n",
              "      <th>0</th>\n",
              "      <td>2011-07-19 11:00:00</td>\n",
              "      <td>3</td>\n",
              "      <td>0</td>\n",
              "      <td>1</td>\n",
              "      <td>1</td>\n",
              "      <td>33.62</td>\n",
              "      <td>40.150</td>\n",
              "      <td>59</td>\n",
              "      <td>0.0000</td>\n",
              "      <td>10.317020</td>\n",
              "      <td>33.621</td>\n",
              "      <td>0.015615</td>\n",
              "      <td>127</td>\n",
              "    </tr>\n",
              "    <tr>\n",
              "      <th>1</th>\n",
              "      <td>2012-01-16 06:00:00</td>\n",
              "      <td>1</td>\n",
              "      <td>1</td>\n",
              "      <td>0</td>\n",
              "      <td>1</td>\n",
              "      <td>4.10</td>\n",
              "      <td>6.820</td>\n",
              "      <td>54</td>\n",
              "      <td>6.0032</td>\n",
              "      <td>3.502209</td>\n",
              "      <td>4.101</td>\n",
              "      <td>0.004489</td>\n",
              "      <td>13</td>\n",
              "    </tr>\n",
              "    <tr>\n",
              "      <th>2</th>\n",
              "      <td>2011-12-11 18:00:00</td>\n",
              "      <td>4</td>\n",
              "      <td>0</td>\n",
              "      <td>0</td>\n",
              "      <td>1</td>\n",
              "      <td>9.84</td>\n",
              "      <td>11.365</td>\n",
              "      <td>48</td>\n",
              "      <td>12.9980</td>\n",
              "      <td>25.945915</td>\n",
              "      <td>9.841</td>\n",
              "      <td>0.000000</td>\n",
              "      <td>163</td>\n",
              "    </tr>\n",
              "    <tr>\n",
              "      <th>3</th>\n",
              "      <td>2012-08-15 10:00:00</td>\n",
              "      <td>3</td>\n",
              "      <td>0</td>\n",
              "      <td>1</td>\n",
              "      <td>2</td>\n",
              "      <td>29.52</td>\n",
              "      <td>34.090</td>\n",
              "      <td>62</td>\n",
              "      <td>12.9980</td>\n",
              "      <td>116.935908</td>\n",
              "      <td>29.521</td>\n",
              "      <td>0.004489</td>\n",
              "      <td>233</td>\n",
              "    </tr>\n",
              "    <tr>\n",
              "      <th>4</th>\n",
              "      <td>2012-06-15 23:00:00</td>\n",
              "      <td>2</td>\n",
              "      <td>0</td>\n",
              "      <td>1</td>\n",
              "      <td>1</td>\n",
              "      <td>25.42</td>\n",
              "      <td>31.060</td>\n",
              "      <td>53</td>\n",
              "      <td>16.9979</td>\n",
              "      <td>120.824789</td>\n",
              "      <td>25.421</td>\n",
              "      <td>0.015615</td>\n",
              "      <td>222</td>\n",
              "    </tr>\n",
              "    <tr>\n",
              "      <th>...</th>\n",
              "      <td>...</td>\n",
              "      <td>...</td>\n",
              "      <td>...</td>\n",
              "      <td>...</td>\n",
              "      <td>...</td>\n",
              "      <td>...</td>\n",
              "      <td>...</td>\n",
              "      <td>...</td>\n",
              "      <td>...</td>\n",
              "      <td>...</td>\n",
              "      <td>...</td>\n",
              "      <td>...</td>\n",
              "      <td>...</td>\n",
              "    </tr>\n",
              "    <tr>\n",
              "      <th>2717</th>\n",
              "      <td>2011-03-19 15:00:00</td>\n",
              "      <td>1</td>\n",
              "      <td>0</td>\n",
              "      <td>0</td>\n",
              "      <td>1</td>\n",
              "      <td>20.50</td>\n",
              "      <td>24.240</td>\n",
              "      <td>29</td>\n",
              "      <td>27.9993</td>\n",
              "      <td>44.665581</td>\n",
              "      <td>20.501</td>\n",
              "      <td>0.000242</td>\n",
              "      <td>313</td>\n",
              "    </tr>\n",
              "    <tr>\n",
              "      <th>2718</th>\n",
              "      <td>2012-01-08 16:00:00</td>\n",
              "      <td>1</td>\n",
              "      <td>0</td>\n",
              "      <td>0</td>\n",
              "      <td>1</td>\n",
              "      <td>16.40</td>\n",
              "      <td>20.455</td>\n",
              "      <td>37</td>\n",
              "      <td>19.9995</td>\n",
              "      <td>31.090380</td>\n",
              "      <td>16.401</td>\n",
              "      <td>0.000000</td>\n",
              "      <td>314</td>\n",
              "    </tr>\n",
              "    <tr>\n",
              "      <th>2719</th>\n",
              "      <td>2011-07-11 05:00:00</td>\n",
              "      <td>3</td>\n",
              "      <td>0</td>\n",
              "      <td>1</td>\n",
              "      <td>1</td>\n",
              "      <td>27.06</td>\n",
              "      <td>31.060</td>\n",
              "      <td>74</td>\n",
              "      <td>8.9981</td>\n",
              "      <td>1.075298</td>\n",
              "      <td>27.061</td>\n",
              "      <td>0.015615</td>\n",
              "      <td>26</td>\n",
              "    </tr>\n",
              "    <tr>\n",
              "      <th>2720</th>\n",
              "      <td>2011-07-16 08:00:00</td>\n",
              "      <td>3</td>\n",
              "      <td>0</td>\n",
              "      <td>0</td>\n",
              "      <td>1</td>\n",
              "      <td>27.06</td>\n",
              "      <td>31.060</td>\n",
              "      <td>65</td>\n",
              "      <td>11.0014</td>\n",
              "      <td>2.291586</td>\n",
              "      <td>27.061</td>\n",
              "      <td>0.004489</td>\n",
              "      <td>127</td>\n",
              "    </tr>\n",
              "    <tr>\n",
              "      <th>2721</th>\n",
              "      <td>2011-01-01 12:00:00</td>\n",
              "      <td>1</td>\n",
              "      <td>0</td>\n",
              "      <td>0</td>\n",
              "      <td>1</td>\n",
              "      <td>17.22</td>\n",
              "      <td>21.210</td>\n",
              "      <td>77</td>\n",
              "      <td>19.0012</td>\n",
              "      <td>8.940201</td>\n",
              "      <td>17.221</td>\n",
              "      <td>0.015615</td>\n",
              "      <td>84</td>\n",
              "    </tr>\n",
              "  </tbody>\n",
              "</table>\n",
              "<p>2722 rows × 13 columns</p>\n",
              "</div>\n",
              "      <button class=\"colab-df-convert\" onclick=\"convertToInteractive('df-7e72d3fa-731f-477a-bf11-4e7b0029584b')\"\n",
              "              title=\"Convert this dataframe to an interactive table.\"\n",
              "              style=\"display:none;\">\n",
              "        \n",
              "  <svg xmlns=\"http://www.w3.org/2000/svg\" height=\"24px\"viewBox=\"0 0 24 24\"\n",
              "       width=\"24px\">\n",
              "    <path d=\"M0 0h24v24H0V0z\" fill=\"none\"/>\n",
              "    <path d=\"M18.56 5.44l.94 2.06.94-2.06 2.06-.94-2.06-.94-.94-2.06-.94 2.06-2.06.94zm-11 1L8.5 8.5l.94-2.06 2.06-.94-2.06-.94L8.5 2.5l-.94 2.06-2.06.94zm10 10l.94 2.06.94-2.06 2.06-.94-2.06-.94-.94-2.06-.94 2.06-2.06.94z\"/><path d=\"M17.41 7.96l-1.37-1.37c-.4-.4-.92-.59-1.43-.59-.52 0-1.04.2-1.43.59L10.3 9.45l-7.72 7.72c-.78.78-.78 2.05 0 2.83L4 21.41c.39.39.9.59 1.41.59.51 0 1.02-.2 1.41-.59l7.78-7.78 2.81-2.81c.8-.78.8-2.07 0-2.86zM5.41 20L4 18.59l7.72-7.72 1.47 1.35L5.41 20z\"/>\n",
              "  </svg>\n",
              "      </button>\n",
              "      \n",
              "  <style>\n",
              "    .colab-df-container {\n",
              "      display:flex;\n",
              "      flex-wrap:wrap;\n",
              "      gap: 12px;\n",
              "    }\n",
              "\n",
              "    .colab-df-convert {\n",
              "      background-color: #E8F0FE;\n",
              "      border: none;\n",
              "      border-radius: 50%;\n",
              "      cursor: pointer;\n",
              "      display: none;\n",
              "      fill: #1967D2;\n",
              "      height: 32px;\n",
              "      padding: 0 0 0 0;\n",
              "      width: 32px;\n",
              "    }\n",
              "\n",
              "    .colab-df-convert:hover {\n",
              "      background-color: #E2EBFA;\n",
              "      box-shadow: 0px 1px 2px rgba(60, 64, 67, 0.3), 0px 1px 3px 1px rgba(60, 64, 67, 0.15);\n",
              "      fill: #174EA6;\n",
              "    }\n",
              "\n",
              "    [theme=dark] .colab-df-convert {\n",
              "      background-color: #3B4455;\n",
              "      fill: #D2E3FC;\n",
              "    }\n",
              "\n",
              "    [theme=dark] .colab-df-convert:hover {\n",
              "      background-color: #434B5C;\n",
              "      box-shadow: 0px 1px 3px 1px rgba(0, 0, 0, 0.15);\n",
              "      filter: drop-shadow(0px 1px 2px rgba(0, 0, 0, 0.3));\n",
              "      fill: #FFFFFF;\n",
              "    }\n",
              "  </style>\n",
              "\n",
              "      <script>\n",
              "        const buttonEl =\n",
              "          document.querySelector('#df-7e72d3fa-731f-477a-bf11-4e7b0029584b button.colab-df-convert');\n",
              "        buttonEl.style.display =\n",
              "          google.colab.kernel.accessAllowed ? 'block' : 'none';\n",
              "\n",
              "        async function convertToInteractive(key) {\n",
              "          const element = document.querySelector('#df-7e72d3fa-731f-477a-bf11-4e7b0029584b');\n",
              "          const dataTable =\n",
              "            await google.colab.kernel.invokeFunction('convertToInteractive',\n",
              "                                                     [key], {});\n",
              "          if (!dataTable) return;\n",
              "\n",
              "          const docLinkHtml = 'Like what you see? Visit the ' +\n",
              "            '<a target=\"_blank\" href=https://colab.research.google.com/notebooks/data_table.ipynb>data table notebook</a>'\n",
              "            + ' to learn more about interactive tables.';\n",
              "          element.innerHTML = '';\n",
              "          dataTable['output_type'] = 'display_data';\n",
              "          await google.colab.output.renderOutput(dataTable, element);\n",
              "          const docLink = document.createElement('div');\n",
              "          docLink.innerHTML = docLinkHtml;\n",
              "          element.appendChild(docLink);\n",
              "        }\n",
              "      </script>\n",
              "    </div>\n",
              "  </div>\n",
              "  "
            ]
          },
          "metadata": {},
          "execution_count": 90
        }
      ],
      "source": [
        "df = pd.read_csv('/content/drive/My Drive/Colab Notebook/train.csv')\n",
        "df_test = pd.read_csv('/content/drive/My Drive/Colab Notebook/test.csv')\n",
        "df_test"
      ]
    },
    {
      "cell_type": "markdown",
      "metadata": {
        "id": "mRV9_C5slwCM"
      },
      "source": [
        "### Exploring the data\n",
        "Let's look at some statistical attributes of the data:"
      ]
    },
    {
      "cell_type": "code",
      "execution_count": null,
      "metadata": {
        "id": "UBnSj4IAkOjV",
        "colab": {
          "base_uri": "https://localhost:8080/",
          "height": 364
        },
        "outputId": "ae79d180-dd31-41e0-a799-9b1085e0a805"
      },
      "outputs": [
        {
          "output_type": "execute_result",
          "data": {
            "text/plain": [
              "            season      holiday   workingday      weather         temp  \\\n",
              "count  8164.000000  8164.000000  8164.000000  8164.000000  8164.000000   \n",
              "mean      2.510289     0.029397     0.683244     1.415483    20.244980   \n",
              "std       1.117178     0.168928     0.465240     0.631242     7.796018   \n",
              "min       1.000000     0.000000     0.000000     1.000000     0.820000   \n",
              "25%       2.000000     0.000000     0.000000     1.000000    13.940000   \n",
              "50%       3.000000     0.000000     1.000000     1.000000    20.500000   \n",
              "75%       4.000000     0.000000     1.000000     2.000000    26.240000   \n",
              "max       4.000000     1.000000     1.000000     4.000000    41.000000   \n",
              "\n",
              "             atemp     humidity    windspeed    pollution     sunlight  \\\n",
              "count  8164.000000  8164.000000  8164.000000  8164.000000  8164.000000   \n",
              "mean     23.670160    61.835130    12.791334    47.152120    20.245980   \n",
              "std       8.468725    19.255791     8.213914    72.882602     7.796018   \n",
              "min       0.760000     0.000000     0.000000     0.000304     0.821000   \n",
              "25%      16.665000    47.000000     7.001500     3.693188    13.941000   \n",
              "50%      24.240000    62.000000    12.998000    17.684113    20.501000   \n",
              "75%      31.060000    77.000000    16.997900    59.257746    26.241000   \n",
              "max      45.455000   100.000000    56.996900   754.304876    41.001000   \n",
              "\n",
              "           traffic        count  \n",
              "count  8164.000000  8164.000000  \n",
              "mean      0.004986   191.339784  \n",
              "std       0.006319   181.143178  \n",
              "min       0.000000     1.000000  \n",
              "25%       0.000000    41.000000  \n",
              "50%       0.000242   145.000000  \n",
              "75%       0.004489   285.000000  \n",
              "max       0.015615   970.000000  "
            ],
            "text/html": [
              "\n",
              "  <div id=\"df-adf06765-5261-49e4-b045-44ef030c9f95\">\n",
              "    <div class=\"colab-df-container\">\n",
              "      <div>\n",
              "<style scoped>\n",
              "    .dataframe tbody tr th:only-of-type {\n",
              "        vertical-align: middle;\n",
              "    }\n",
              "\n",
              "    .dataframe tbody tr th {\n",
              "        vertical-align: top;\n",
              "    }\n",
              "\n",
              "    .dataframe thead th {\n",
              "        text-align: right;\n",
              "    }\n",
              "</style>\n",
              "<table border=\"1\" class=\"dataframe\">\n",
              "  <thead>\n",
              "    <tr style=\"text-align: right;\">\n",
              "      <th></th>\n",
              "      <th>season</th>\n",
              "      <th>holiday</th>\n",
              "      <th>workingday</th>\n",
              "      <th>weather</th>\n",
              "      <th>temp</th>\n",
              "      <th>atemp</th>\n",
              "      <th>humidity</th>\n",
              "      <th>windspeed</th>\n",
              "      <th>pollution</th>\n",
              "      <th>sunlight</th>\n",
              "      <th>traffic</th>\n",
              "      <th>count</th>\n",
              "    </tr>\n",
              "  </thead>\n",
              "  <tbody>\n",
              "    <tr>\n",
              "      <th>count</th>\n",
              "      <td>8164.000000</td>\n",
              "      <td>8164.000000</td>\n",
              "      <td>8164.000000</td>\n",
              "      <td>8164.000000</td>\n",
              "      <td>8164.000000</td>\n",
              "      <td>8164.000000</td>\n",
              "      <td>8164.000000</td>\n",
              "      <td>8164.000000</td>\n",
              "      <td>8164.000000</td>\n",
              "      <td>8164.000000</td>\n",
              "      <td>8164.000000</td>\n",
              "      <td>8164.000000</td>\n",
              "    </tr>\n",
              "    <tr>\n",
              "      <th>mean</th>\n",
              "      <td>2.510289</td>\n",
              "      <td>0.029397</td>\n",
              "      <td>0.683244</td>\n",
              "      <td>1.415483</td>\n",
              "      <td>20.244980</td>\n",
              "      <td>23.670160</td>\n",
              "      <td>61.835130</td>\n",
              "      <td>12.791334</td>\n",
              "      <td>47.152120</td>\n",
              "      <td>20.245980</td>\n",
              "      <td>0.004986</td>\n",
              "      <td>191.339784</td>\n",
              "    </tr>\n",
              "    <tr>\n",
              "      <th>std</th>\n",
              "      <td>1.117178</td>\n",
              "      <td>0.168928</td>\n",
              "      <td>0.465240</td>\n",
              "      <td>0.631242</td>\n",
              "      <td>7.796018</td>\n",
              "      <td>8.468725</td>\n",
              "      <td>19.255791</td>\n",
              "      <td>8.213914</td>\n",
              "      <td>72.882602</td>\n",
              "      <td>7.796018</td>\n",
              "      <td>0.006319</td>\n",
              "      <td>181.143178</td>\n",
              "    </tr>\n",
              "    <tr>\n",
              "      <th>min</th>\n",
              "      <td>1.000000</td>\n",
              "      <td>0.000000</td>\n",
              "      <td>0.000000</td>\n",
              "      <td>1.000000</td>\n",
              "      <td>0.820000</td>\n",
              "      <td>0.760000</td>\n",
              "      <td>0.000000</td>\n",
              "      <td>0.000000</td>\n",
              "      <td>0.000304</td>\n",
              "      <td>0.821000</td>\n",
              "      <td>0.000000</td>\n",
              "      <td>1.000000</td>\n",
              "    </tr>\n",
              "    <tr>\n",
              "      <th>25%</th>\n",
              "      <td>2.000000</td>\n",
              "      <td>0.000000</td>\n",
              "      <td>0.000000</td>\n",
              "      <td>1.000000</td>\n",
              "      <td>13.940000</td>\n",
              "      <td>16.665000</td>\n",
              "      <td>47.000000</td>\n",
              "      <td>7.001500</td>\n",
              "      <td>3.693188</td>\n",
              "      <td>13.941000</td>\n",
              "      <td>0.000000</td>\n",
              "      <td>41.000000</td>\n",
              "    </tr>\n",
              "    <tr>\n",
              "      <th>50%</th>\n",
              "      <td>3.000000</td>\n",
              "      <td>0.000000</td>\n",
              "      <td>1.000000</td>\n",
              "      <td>1.000000</td>\n",
              "      <td>20.500000</td>\n",
              "      <td>24.240000</td>\n",
              "      <td>62.000000</td>\n",
              "      <td>12.998000</td>\n",
              "      <td>17.684113</td>\n",
              "      <td>20.501000</td>\n",
              "      <td>0.000242</td>\n",
              "      <td>145.000000</td>\n",
              "    </tr>\n",
              "    <tr>\n",
              "      <th>75%</th>\n",
              "      <td>4.000000</td>\n",
              "      <td>0.000000</td>\n",
              "      <td>1.000000</td>\n",
              "      <td>2.000000</td>\n",
              "      <td>26.240000</td>\n",
              "      <td>31.060000</td>\n",
              "      <td>77.000000</td>\n",
              "      <td>16.997900</td>\n",
              "      <td>59.257746</td>\n",
              "      <td>26.241000</td>\n",
              "      <td>0.004489</td>\n",
              "      <td>285.000000</td>\n",
              "    </tr>\n",
              "    <tr>\n",
              "      <th>max</th>\n",
              "      <td>4.000000</td>\n",
              "      <td>1.000000</td>\n",
              "      <td>1.000000</td>\n",
              "      <td>4.000000</td>\n",
              "      <td>41.000000</td>\n",
              "      <td>45.455000</td>\n",
              "      <td>100.000000</td>\n",
              "      <td>56.996900</td>\n",
              "      <td>754.304876</td>\n",
              "      <td>41.001000</td>\n",
              "      <td>0.015615</td>\n",
              "      <td>970.000000</td>\n",
              "    </tr>\n",
              "  </tbody>\n",
              "</table>\n",
              "</div>\n",
              "      <button class=\"colab-df-convert\" onclick=\"convertToInteractive('df-adf06765-5261-49e4-b045-44ef030c9f95')\"\n",
              "              title=\"Convert this dataframe to an interactive table.\"\n",
              "              style=\"display:none;\">\n",
              "        \n",
              "  <svg xmlns=\"http://www.w3.org/2000/svg\" height=\"24px\"viewBox=\"0 0 24 24\"\n",
              "       width=\"24px\">\n",
              "    <path d=\"M0 0h24v24H0V0z\" fill=\"none\"/>\n",
              "    <path d=\"M18.56 5.44l.94 2.06.94-2.06 2.06-.94-2.06-.94-.94-2.06-.94 2.06-2.06.94zm-11 1L8.5 8.5l.94-2.06 2.06-.94-2.06-.94L8.5 2.5l-.94 2.06-2.06.94zm10 10l.94 2.06.94-2.06 2.06-.94-2.06-.94-.94-2.06-.94 2.06-2.06.94z\"/><path d=\"M17.41 7.96l-1.37-1.37c-.4-.4-.92-.59-1.43-.59-.52 0-1.04.2-1.43.59L10.3 9.45l-7.72 7.72c-.78.78-.78 2.05 0 2.83L4 21.41c.39.39.9.59 1.41.59.51 0 1.02-.2 1.41-.59l7.78-7.78 2.81-2.81c.8-.78.8-2.07 0-2.86zM5.41 20L4 18.59l7.72-7.72 1.47 1.35L5.41 20z\"/>\n",
              "  </svg>\n",
              "      </button>\n",
              "      \n",
              "  <style>\n",
              "    .colab-df-container {\n",
              "      display:flex;\n",
              "      flex-wrap:wrap;\n",
              "      gap: 12px;\n",
              "    }\n",
              "\n",
              "    .colab-df-convert {\n",
              "      background-color: #E8F0FE;\n",
              "      border: none;\n",
              "      border-radius: 50%;\n",
              "      cursor: pointer;\n",
              "      display: none;\n",
              "      fill: #1967D2;\n",
              "      height: 32px;\n",
              "      padding: 0 0 0 0;\n",
              "      width: 32px;\n",
              "    }\n",
              "\n",
              "    .colab-df-convert:hover {\n",
              "      background-color: #E2EBFA;\n",
              "      box-shadow: 0px 1px 2px rgba(60, 64, 67, 0.3), 0px 1px 3px 1px rgba(60, 64, 67, 0.15);\n",
              "      fill: #174EA6;\n",
              "    }\n",
              "\n",
              "    [theme=dark] .colab-df-convert {\n",
              "      background-color: #3B4455;\n",
              "      fill: #D2E3FC;\n",
              "    }\n",
              "\n",
              "    [theme=dark] .colab-df-convert:hover {\n",
              "      background-color: #434B5C;\n",
              "      box-shadow: 0px 1px 3px 1px rgba(0, 0, 0, 0.15);\n",
              "      filter: drop-shadow(0px 1px 2px rgba(0, 0, 0, 0.3));\n",
              "      fill: #FFFFFF;\n",
              "    }\n",
              "  </style>\n",
              "\n",
              "      <script>\n",
              "        const buttonEl =\n",
              "          document.querySelector('#df-adf06765-5261-49e4-b045-44ef030c9f95 button.colab-df-convert');\n",
              "        buttonEl.style.display =\n",
              "          google.colab.kernel.accessAllowed ? 'block' : 'none';\n",
              "\n",
              "        async function convertToInteractive(key) {\n",
              "          const element = document.querySelector('#df-adf06765-5261-49e4-b045-44ef030c9f95');\n",
              "          const dataTable =\n",
              "            await google.colab.kernel.invokeFunction('convertToInteractive',\n",
              "                                                     [key], {});\n",
              "          if (!dataTable) return;\n",
              "\n",
              "          const docLinkHtml = 'Like what you see? Visit the ' +\n",
              "            '<a target=\"_blank\" href=https://colab.research.google.com/notebooks/data_table.ipynb>data table notebook</a>'\n",
              "            + ' to learn more about interactive tables.';\n",
              "          element.innerHTML = '';\n",
              "          dataTable['output_type'] = 'display_data';\n",
              "          await google.colab.output.renderOutput(dataTable, element);\n",
              "          const docLink = document.createElement('div');\n",
              "          docLink.innerHTML = docLinkHtml;\n",
              "          element.appendChild(docLink);\n",
              "        }\n",
              "      </script>\n",
              "    </div>\n",
              "  </div>\n",
              "  "
            ]
          },
          "metadata": {},
          "execution_count": 91
        }
      ],
      "source": [
        "df.describe()"
      ]
    },
    {
      "cell_type": "markdown",
      "metadata": {
        "id": "nJQ724xErg8J"
      },
      "source": [
        "correlations table between the features:"
      ]
    },
    {
      "cell_type": "code",
      "execution_count": null,
      "metadata": {
        "id": "i0lmnbbalIV0"
      },
      "outputs": [],
      "source": [
        "correlations = df.corr()"
      ]
    },
    {
      "cell_type": "code",
      "execution_count": null,
      "metadata": {
        "id": "5nLWb4_Mle0T",
        "colab": {
          "base_uri": "https://localhost:8080/",
          "height": 1000
        },
        "outputId": "602569eb-af21-41c0-a12d-8a694218f993"
      },
      "outputs": [
        {
          "output_type": "execute_result",
          "data": {
            "text/plain": [
              "<matplotlib.axes._subplots.AxesSubplot at 0x7fecae84b760>"
            ]
          },
          "metadata": {},
          "execution_count": 93
        },
        {
          "output_type": "display_data",
          "data": {
            "text/plain": [
              "<Figure size 1440x1440 with 2 Axes>"
            ],
            "image/png": "[encoded data removed]"
          },
          "metadata": {}
        }
      ],
      "source": [
        "mask = np.zeros_like(correlations, dtype=bool)\n",
        "mask[np.triu_indices_from(mask, k=1)] = True\n",
        "\n",
        "fig, ax = plt.subplots(figsize=(20, 20))\n",
        "plt.title('Pearson Correlation Heatmap', fontsize=23)\n",
        "\n",
        "sns.heatmap(correlations, linewidths=0.25, vmax=1.0, square=True, cmap=\"PRGn\",\n",
        "            linecolor='w', annot=True, mask=mask)"
      ]
    },
    {
      "cell_type": "markdown",
      "metadata": {
        "id": "vGIIXW9cfl38"
      },
      "source": [
        "We can see in the heatmap that we have 3 features with high correlation: \"temp\", \"atemp\" and \"sunlight\". We would like to take out the \"temp\" feature because we can see that \"temp\" and \"sunlight\" are in perfect correlation (1, as can be seen in the heatmap). Also, we assume that people rent bikes according to the temperature they feel (represented by \"atemp\") and not the temperatured measured (\"temp\"). Because we can see that \"temp\" and \"atemp\" are also in high correlation (0.98), we would prefer to remove the \"temp\" feature."
      ]
    },
    {
      "cell_type": "markdown",
      "metadata": {
        "id": "QStSEY2hl6ja"
      },
      "source": [
        "Check for null values:"
      ]
    },
    {
      "cell_type": "code",
      "execution_count": null,
      "metadata": {
        "id": "xWG-PPEZl7SO",
        "colab": {
          "base_uri": "https://localhost:8080/"
        },
        "outputId": "e67ebac9-4527-4745-d348-e9e64b561d95"
      },
      "outputs": [
        {
          "output_type": "stream",
          "name": "stdout",
          "text": [
            "<class 'pandas.core.frame.DataFrame'>\n",
            "RangeIndex: 8164 entries, 0 to 8163\n",
            "Data columns (total 13 columns):\n",
            " #   Column      Non-Null Count  Dtype  \n",
            "---  ------      --------------  -----  \n",
            " 0   datetime    8164 non-null   object \n",
            " 1   season      8164 non-null   int64  \n",
            " 2   holiday     8164 non-null   int64  \n",
            " 3   workingday  8164 non-null   int64  \n",
            " 4   weather     8164 non-null   int64  \n",
            " 5   temp        8164 non-null   float64\n",
            " 6   atemp       8164 non-null   float64\n",
            " 7   humidity    8164 non-null   int64  \n",
            " 8   windspeed   8164 non-null   float64\n",
            " 9   pollution   8164 non-null   float64\n",
            " 10  sunlight    8164 non-null   float64\n",
            " 11  traffic     8164 non-null   float64\n",
            " 12  count       8164 non-null   int64  \n",
            "dtypes: float64(6), int64(6), object(1)\n",
            "memory usage: 829.3+ KB\n"
          ]
        }
      ],
      "source": [
        "df.info()"
      ]
    },
    {
      "cell_type": "code",
      "execution_count": null,
      "metadata": {
        "id": "ekwH6Xoe1F7M",
        "colab": {
          "base_uri": "https://localhost:8080/"
        },
        "outputId": "1642225f-78d1-4a41-c7d0-018ef19b0ee2"
      },
      "outputs": [
        {
          "output_type": "stream",
          "name": "stdout",
          "text": [
            "<class 'pandas.core.frame.DataFrame'>\n",
            "RangeIndex: 2722 entries, 0 to 2721\n",
            "Data columns (total 13 columns):\n",
            " #   Column      Non-Null Count  Dtype  \n",
            "---  ------      --------------  -----  \n",
            " 0   datetime    2722 non-null   object \n",
            " 1   season      2722 non-null   int64  \n",
            " 2   holiday     2722 non-null   int64  \n",
            " 3   workingday  2722 non-null   int64  \n",
            " 4   weather     2722 non-null   int64  \n",
            " 5   temp        2722 non-null   float64\n",
            " 6   atemp       2722 non-null   float64\n",
            " 7   humidity    2722 non-null   int64  \n",
            " 8   windspeed   2722 non-null   float64\n",
            " 9   pollution   2722 non-null   float64\n",
            " 10  sunlight    2722 non-null   float64\n",
            " 11  traffic     2722 non-null   float64\n",
            " 12  count       2722 non-null   int64  \n",
            "dtypes: float64(6), int64(6), object(1)\n",
            "memory usage: 276.6+ KB\n"
          ]
        }
      ],
      "source": [
        "df_test.info()"
      ]
    },
    {
      "cell_type": "markdown",
      "metadata": {
        "id": "LdIOE_Lqr5rA"
      },
      "source": [
        "It can be seen that there are no missing values and that almost all the values are numeric except for the datetime variable. so later we'll convert the datetime column to pandas timestamp. "
      ]
    },
    {
      "cell_type": "markdown",
      "metadata": {
        "id": "g7mV36l7sopC"
      },
      "source": [
        "Now we'll plot the distribution of each feature values"
      ]
    },
    {
      "cell_type": "code",
      "execution_count": null,
      "metadata": {
        "id": "IMYzbY_eo6PD",
        "colab": {
          "base_uri": "https://localhost:8080/",
          "height": 997
        },
        "outputId": "2a018e42-0e88-4299-c5ee-08f9f7eb2617"
      },
      "outputs": [
        {
          "output_type": "execute_result",
          "data": {
            "text/plain": [
              "array([[<matplotlib.axes._subplots.AxesSubplot object at 0x7fecae6de970>,\n",
              "        <matplotlib.axes._subplots.AxesSubplot object at 0x7fecaeb35280>,\n",
              "        <matplotlib.axes._subplots.AxesSubplot object at 0x7fecaea99820>],\n",
              "       [<matplotlib.axes._subplots.AxesSubplot object at 0x7fecaea89ac0>,\n",
              "        <matplotlib.axes._subplots.AxesSubplot object at 0x7fecaefc64c0>,\n",
              "        <matplotlib.axes._subplots.AxesSubplot object at 0x7fecaeaca7f0>],\n",
              "       [<matplotlib.axes._subplots.AxesSubplot object at 0x7fecaeacaac0>,\n",
              "        <matplotlib.axes._subplots.AxesSubplot object at 0x7fecaba9e6d0>,\n",
              "        <matplotlib.axes._subplots.AxesSubplot object at 0x7fecaba48e20>],\n",
              "       [<matplotlib.axes._subplots.AxesSubplot object at 0x7fecaba04250>,\n",
              "        <matplotlib.axes._subplots.AxesSubplot object at 0x7fecaba2e670>,\n",
              "        <matplotlib.axes._subplots.AxesSubplot object at 0x7fecab9dba60>]],\n",
              "      dtype=object)"
            ]
          },
          "metadata": {},
          "execution_count": 96
        },
        {
          "output_type": "display_data",
          "data": {
            "text/plain": [
              "<Figure size 2160x1440 with 12 Axes>"
            ],
            "image/png": "[encoded data removed]"
          },
          "metadata": {}
        }
      ],
      "source": [
        "df.hist(figsize=(30, 20), bins=50, xlabelsize=8, ylabelsize=8, color=\"purple\")"
      ]
    },
    {
      "cell_type": "markdown",
      "metadata": {
        "id": "QwoEmHmlrKyL"
      },
      "source": [
        "As it seem from the plot above, the feature \"temp\" looks like a near perfect gausion distribution. Features \"pollution\" and \" count\" are asymmetrical Left distribution.\n",
        "Moreover we can see that features \"season\", \"holiday\", \"workingday\" and \"weather\" are categorial features.\n",
        "\n",
        "\n"
      ]
    },
    {
      "cell_type": "markdown",
      "metadata": {
        "id": "7GR73e4gtCG-"
      },
      "source": [
        "## A look on the Categorial & Binary Columns\n",
        "\n",
        "Let's see the visualization of the categories in each categorical feature"
      ]
    },
    {
      "cell_type": "code",
      "execution_count": null,
      "metadata": {
        "id": "4fV1oBi0tC4u"
      },
      "outputs": [],
      "source": [
        "data_category = df[['season','holiday','workingday','weather']]\n"
      ]
    },
    {
      "cell_type": "code",
      "execution_count": null,
      "metadata": {
        "id": "L50crCobufgB",
        "colab": {
          "base_uri": "https://localhost:8080/"
        },
        "outputId": "a54c1d09-bdf3-40d8-e690-93b084a5730a"
      },
      "outputs": [
        {
          "output_type": "stream",
          "name": "stdout",
          "text": [
            "Feature name: season\n"
          ]
        },
        {
          "output_type": "display_data",
          "data": {
            "text/plain": [
              "<Figure size 360x360 with 1 Axes>"
            ],
            "image/png": "[encoded data removed]"
          },
          "metadata": {}
        },
        {
          "output_type": "stream",
          "name": "stdout",
          "text": [
            "Feature name: holiday\n"
          ]
        },
        {
          "output_type": "display_data",
          "data": {
            "text/plain": [
              "<Figure size 360x360 with 1 Axes>"
            ],
            "image/png": "[encoded data removed]"
          },
          "metadata": {}
        },
        {
          "output_type": "stream",
          "name": "stdout",
          "text": [
            "Feature name: workingday\n"
          ]
        },
        {
          "output_type": "display_data",
          "data": {
            "text/plain": [
              "<Figure size 360x360 with 1 Axes>"
            ],
            "image/png": "[encoded data removed]"
          },
          "metadata": {}
        },
        {
          "output_type": "stream",
          "name": "stdout",
          "text": [
            "Feature name: weather\n"
          ]
        },
        {
          "output_type": "display_data",
          "data": {
            "text/plain": [
              "<Figure size 360x360 with 1 Axes>"
            ],
            "image/png": "[encoded data removed]"
          },
          "metadata": {}
        }
      ],
      "source": [
        "def categorial_dist(df):\n",
        "    for column in df:                                                 \n",
        "            print ('Feature name:', column)\n",
        "            fig, ax =plt.subplots(figsize=(5, 5))                                  \n",
        "            sns.countplot(df[column], palette=\"PRGn\")\n",
        "            plt.show()\n",
        "categorial_dist(data_category)"
      ]
    },
    {
      "cell_type": "markdown",
      "metadata": {
        "id": "W3qyO7F6ZeEk"
      },
      "source": [
        "It can be seen that the amount of bicycle rental is relatively balanced between the four seasons. In addition, as expected, most observations are on working days and less on holidays and weekends. Also, it can be seen that most of our observations are from the winter season significantly more than the other seasons."
      ]
    },
    {
      "cell_type": "markdown",
      "metadata": {
        "id": "MOnV1Wbwwwd4"
      },
      "source": [
        "**converting the timestamp column of Object Data type to pandas-DateTime Data Type. It’s important so we can aggregate our data and resample it as per our need**"
      ]
    },
    {
      "cell_type": "code",
      "execution_count": null,
      "metadata": {
        "id": "YKdlqRpOw_IJ",
        "colab": {
          "base_uri": "https://localhost:8080/"
        },
        "outputId": "82de2d04-b133-4de7-e2aa-a0fc10c30a94"
      },
      "outputs": [
        {
          "output_type": "stream",
          "name": "stdout",
          "text": [
            "<class 'pandas.core.frame.DataFrame'>\n",
            "RangeIndex: 8164 entries, 0 to 8163\n",
            "Data columns (total 13 columns):\n",
            " #   Column      Non-Null Count  Dtype         \n",
            "---  ------      --------------  -----         \n",
            " 0   datetime    8164 non-null   datetime64[ns]\n",
            " 1   season      8164 non-null   int64         \n",
            " 2   holiday     8164 non-null   int64         \n",
            " 3   workingday  8164 non-null   int64         \n",
            " 4   weather     8164 non-null   int64         \n",
            " 5   temp        8164 non-null   float64       \n",
            " 6   atemp       8164 non-null   float64       \n",
            " 7   humidity    8164 non-null   int64         \n",
            " 8   windspeed   8164 non-null   float64       \n",
            " 9   pollution   8164 non-null   float64       \n",
            " 10  sunlight    8164 non-null   float64       \n",
            " 11  traffic     8164 non-null   float64       \n",
            " 12  count       8164 non-null   int64         \n",
            "dtypes: datetime64[ns](1), float64(6), int64(6)\n",
            "memory usage: 829.3 KB\n"
          ]
        }
      ],
      "source": [
        "df['datetime'] = pd.to_datetime(df['datetime'])\n",
        "df.info()"
      ]
    },
    {
      "cell_type": "markdown",
      "metadata": {
        "id": "JWAbxgTq0EXj"
      },
      "source": [
        "plotting the count column against datetime"
      ]
    },
    {
      "cell_type": "code",
      "execution_count": null,
      "metadata": {
        "id": "Xwmiw23byAid",
        "colab": {
          "base_uri": "https://localhost:8080/"
        },
        "outputId": "1c7ff356-ab6a-4d7c-84da-7ed5e120e69c"
      },
      "outputs": [
        {
          "output_type": "display_data",
          "data": {
            "text/plain": [
              "<Figure size 1800x360 with 1 Axes>"
            ],
            "image/png": "[encoded data removed]"
          },
          "metadata": {}
        }
      ],
      "source": [
        "df.set_index(['datetime'])['count'].plot(title='Plot count over time', figsize=(25, 5), color=\"purple\");"
      ]
    },
    {
      "cell_type": "markdown",
      "metadata": {
        "id": "gu7hlYwcGBco"
      },
      "source": [
        "We only have partial data for 2013, so we will only look at plots for 2011 and 2012, where we have full 12 months.\n",
        "It can be seen that the amount of bicycle rental is somewhat similar from year to year but increases from year to year."
      ]
    },
    {
      "cell_type": "markdown",
      "metadata": {
        "id": "3mDWEhN6N6Aw"
      },
      "source": [
        "Let's check if the count column is an aggregate value or specific to a certain time:\n"
      ]
    },
    {
      "cell_type": "code",
      "execution_count": null,
      "metadata": {
        "id": "bZNVPPyVN_RQ",
        "colab": {
          "base_uri": "https://localhost:8080/"
        },
        "outputId": "0dbceb31-2432-4e88-dd9f-4d49c007831c"
      },
      "outputs": [
        {
          "output_type": "execute_result",
          "data": {
            "text/plain": [
              "                datetime  season  holiday  workingday  weather   temp   atemp  \\\n",
              "6560 2011-01-01 01:00:00       1        0           0        1   9.02  13.635   \n",
              "3754 2011-01-01 02:00:00       1        0           0        1   9.02  13.635   \n",
              "7767 2011-01-01 04:00:00       1        0           0        1   9.84  14.395   \n",
              "7272 2011-01-01 05:00:00       1        0           0        2   9.84  12.880   \n",
              "5381 2011-01-01 06:00:00       1        0           0        1   9.02  13.635   \n",
              "...                  ...     ...      ...         ...      ...    ...     ...   \n",
              "4763 2012-12-19 16:00:00       4        0           1        1  17.22  21.210   \n",
              "467  2012-12-19 18:00:00       4        0           1        1  15.58  19.695   \n",
              "4423 2012-12-19 19:00:00       4        0           1        1  15.58  19.695   \n",
              "3307 2012-12-19 20:00:00       4        0           1        1  14.76  17.425   \n",
              "6621 2012-12-19 21:00:00       4        0           1        1  13.94  15.910   \n",
              "\n",
              "      humidity  windspeed   pollution  sunlight   traffic  count  \n",
              "6560        80     0.0000   10.820673     9.021  0.000000     40  \n",
              "3754        80     0.0000   19.189498     9.021  0.004489     32  \n",
              "7767        75     0.0000    0.133472     9.841  0.015615      1  \n",
              "7272        75     6.0032    0.014335     9.841  0.000000      1  \n",
              "5381        80     0.0000    0.096936     9.021  0.004489      2  \n",
              "...        ...        ...         ...       ...       ...    ...  \n",
              "4763        50    23.9994   19.956957    17.221  0.015615    334  \n",
              "467         50    23.9994  212.578827    15.581  0.004489    569  \n",
              "4423        50    26.0027   21.027171    15.581  0.015615    336  \n",
              "3307        57    15.0013   37.737255    14.761  0.004489    241  \n",
              "6621        61    15.0013   49.855590    13.941  0.000000    168  \n",
              "\n",
              "[8164 rows x 13 columns]"
            ],
            "text/html": [
              "\n",
              "  <div id=\"df-45ef31c1-ee25-4fbd-9128-091d8da79f67\">\n",
              "    <div class=\"colab-df-container\">\n",
              "      <div>\n",
              "<style scoped>\n",
              "    .dataframe tbody tr th:only-of-type {\n",
              "        vertical-align: middle;\n",
              "    }\n",
              "\n",
              "    .dataframe tbody tr th {\n",
              "        vertical-align: top;\n",
              "    }\n",
              "\n",
              "    .dataframe thead th {\n",
              "        text-align: right;\n",
              "    }\n",
              "</style>\n",
              "<table border=\"1\" class=\"dataframe\">\n",
              "  <thead>\n",
              "    <tr style=\"text-align: right;\">\n",
              "      <th></th>\n",
              "      <th>datetime</th>\n",
              "      <th>season</th>\n",
              "      <th>holiday</th>\n",
              "      <th>workingday</th>\n",
              "      <th>weather</th>\n",
              "      <th>temp</th>\n",
              "      <th>atemp</th>\n",
              "      <th>humidity</th>\n",
              "      <th>windspeed</th>\n",
              "      <th>pollution</th>\n",
              "      <th>sunlight</th>\n",
              "      <th>traffic</th>\n",
              "      <th>count</th>\n",
              "    </tr>\n",
              "  </thead>\n",
              "  <tbody>\n",
              "    <tr>\n",
              "      <th>6560</th>\n",
              "      <td>2011-01-01 01:00:00</td>\n",
              "      <td>1</td>\n",
              "      <td>0</td>\n",
              "      <td>0</td>\n",
              "      <td>1</td>\n",
              "      <td>9.02</td>\n",
              "      <td>13.635</td>\n",
              "      <td>80</td>\n",
              "      <td>0.0000</td>\n",
              "      <td>10.820673</td>\n",
              "      <td>9.021</td>\n",
              "      <td>0.000000</td>\n",
              "      <td>40</td>\n",
              "    </tr>\n",
              "    <tr>\n",
              "      <th>3754</th>\n",
              "      <td>2011-01-01 02:00:00</td>\n",
              "      <td>1</td>\n",
              "      <td>0</td>\n",
              "      <td>0</td>\n",
              "      <td>1</td>\n",
              "      <td>9.02</td>\n",
              "      <td>13.635</td>\n",
              "      <td>80</td>\n",
              "      <td>0.0000</td>\n",
              "      <td>19.189498</td>\n",
              "      <td>9.021</td>\n",
              "      <td>0.004489</td>\n",
              "      <td>32</td>\n",
              "    </tr>\n",
              "    <tr>\n",
              "      <th>7767</th>\n",
              "      <td>2011-01-01 04:00:00</td>\n",
              "      <td>1</td>\n",
              "      <td>0</td>\n",
              "      <td>0</td>\n",
              "      <td>1</td>\n",
              "      <td>9.84</td>\n",
              "      <td>14.395</td>\n",
              "      <td>75</td>\n",
              "      <td>0.0000</td>\n",
              "      <td>0.133472</td>\n",
              "      <td>9.841</td>\n",
              "      <td>0.015615</td>\n",
              "      <td>1</td>\n",
              "    </tr>\n",
              "    <tr>\n",
              "      <th>7272</th>\n",
              "      <td>2011-01-01 05:00:00</td>\n",
              "      <td>1</td>\n",
              "      <td>0</td>\n",
              "      <td>0</td>\n",
              "      <td>2</td>\n",
              "      <td>9.84</td>\n",
              "      <td>12.880</td>\n",
              "      <td>75</td>\n",
              "      <td>6.0032</td>\n",
              "      <td>0.014335</td>\n",
              "      <td>9.841</td>\n",
              "      <td>0.000000</td>\n",
              "      <td>1</td>\n",
              "    </tr>\n",
              "    <tr>\n",
              "      <th>5381</th>\n",
              "      <td>2011-01-01 06:00:00</td>\n",
              "      <td>1</td>\n",
              "      <td>0</td>\n",
              "      <td>0</td>\n",
              "      <td>1</td>\n",
              "      <td>9.02</td>\n",
              "      <td>13.635</td>\n",
              "      <td>80</td>\n",
              "      <td>0.0000</td>\n",
              "      <td>0.096936</td>\n",
              "      <td>9.021</td>\n",
              "      <td>0.004489</td>\n",
              "      <td>2</td>\n",
              "    </tr>\n",
              "    <tr>\n",
              "      <th>...</th>\n",
              "      <td>...</td>\n",
              "      <td>...</td>\n",
              "      <td>...</td>\n",
              "      <td>...</td>\n",
              "      <td>...</td>\n",
              "      <td>...</td>\n",
              "      <td>...</td>\n",
              "      <td>...</td>\n",
              "      <td>...</td>\n",
              "      <td>...</td>\n",
              "      <td>...</td>\n",
              "      <td>...</td>\n",
              "      <td>...</td>\n",
              "    </tr>\n",
              "    <tr>\n",
              "      <th>4763</th>\n",
              "      <td>2012-12-19 16:00:00</td>\n",
              "      <td>4</td>\n",
              "      <td>0</td>\n",
              "      <td>1</td>\n",
              "      <td>1</td>\n",
              "      <td>17.22</td>\n",
              "      <td>21.210</td>\n",
              "      <td>50</td>\n",
              "      <td>23.9994</td>\n",
              "      <td>19.956957</td>\n",
              "      <td>17.221</td>\n",
              "      <td>0.015615</td>\n",
              "      <td>334</td>\n",
              "    </tr>\n",
              "    <tr>\n",
              "      <th>467</th>\n",
              "      <td>2012-12-19 18:00:00</td>\n",
              "      <td>4</td>\n",
              "      <td>0</td>\n",
              "      <td>1</td>\n",
              "      <td>1</td>\n",
              "      <td>15.58</td>\n",
              "      <td>19.695</td>\n",
              "      <td>50</td>\n",
              "      <td>23.9994</td>\n",
              "      <td>212.578827</td>\n",
              "      <td>15.581</td>\n",
              "      <td>0.004489</td>\n",
              "      <td>569</td>\n",
              "    </tr>\n",
              "    <tr>\n",
              "      <th>4423</th>\n",
              "      <td>2012-12-19 19:00:00</td>\n",
              "      <td>4</td>\n",
              "      <td>0</td>\n",
              "      <td>1</td>\n",
              "      <td>1</td>\n",
              "      <td>15.58</td>\n",
              "      <td>19.695</td>\n",
              "      <td>50</td>\n",
              "      <td>26.0027</td>\n",
              "      <td>21.027171</td>\n",
              "      <td>15.581</td>\n",
              "      <td>0.015615</td>\n",
              "      <td>336</td>\n",
              "    </tr>\n",
              "    <tr>\n",
              "      <th>3307</th>\n",
              "      <td>2012-12-19 20:00:00</td>\n",
              "      <td>4</td>\n",
              "      <td>0</td>\n",
              "      <td>1</td>\n",
              "      <td>1</td>\n",
              "      <td>14.76</td>\n",
              "      <td>17.425</td>\n",
              "      <td>57</td>\n",
              "      <td>15.0013</td>\n",
              "      <td>37.737255</td>\n",
              "      <td>14.761</td>\n",
              "      <td>0.004489</td>\n",
              "      <td>241</td>\n",
              "    </tr>\n",
              "    <tr>\n",
              "      <th>6621</th>\n",
              "      <td>2012-12-19 21:00:00</td>\n",
              "      <td>4</td>\n",
              "      <td>0</td>\n",
              "      <td>1</td>\n",
              "      <td>1</td>\n",
              "      <td>13.94</td>\n",
              "      <td>15.910</td>\n",
              "      <td>61</td>\n",
              "      <td>15.0013</td>\n",
              "      <td>49.855590</td>\n",
              "      <td>13.941</td>\n",
              "      <td>0.000000</td>\n",
              "      <td>168</td>\n",
              "    </tr>\n",
              "  </tbody>\n",
              "</table>\n",
              "<p>8164 rows × 13 columns</p>\n",
              "</div>\n",
              "      <button class=\"colab-df-convert\" onclick=\"convertToInteractive('df-45ef31c1-ee25-4fbd-9128-091d8da79f67')\"\n",
              "              title=\"Convert this dataframe to an interactive table.\"\n",
              "              style=\"display:none;\">\n",
              "        \n",
              "  <svg xmlns=\"http://www.w3.org/2000/svg\" height=\"24px\"viewBox=\"0 0 24 24\"\n",
              "       width=\"24px\">\n",
              "    <path d=\"M0 0h24v24H0V0z\" fill=\"none\"/>\n",
              "    <path d=\"M18.56 5.44l.94 2.06.94-2.06 2.06-.94-2.06-.94-.94-2.06-.94 2.06-2.06.94zm-11 1L8.5 8.5l.94-2.06 2.06-.94-2.06-.94L8.5 2.5l-.94 2.06-2.06.94zm10 10l.94 2.06.94-2.06 2.06-.94-2.06-.94-.94-2.06-.94 2.06-2.06.94z\"/><path d=\"M17.41 7.96l-1.37-1.37c-.4-.4-.92-.59-1.43-.59-.52 0-1.04.2-1.43.59L10.3 9.45l-7.72 7.72c-.78.78-.78 2.05 0 2.83L4 21.41c.39.39.9.59 1.41.59.51 0 1.02-.2 1.41-.59l7.78-7.78 2.81-2.81c.8-.78.8-2.07 0-2.86zM5.41 20L4 18.59l7.72-7.72 1.47 1.35L5.41 20z\"/>\n",
              "  </svg>\n",
              "      </button>\n",
              "      \n",
              "  <style>\n",
              "    .colab-df-container {\n",
              "      display:flex;\n",
              "      flex-wrap:wrap;\n",
              "      gap: 12px;\n",
              "    }\n",
              "\n",
              "    .colab-df-convert {\n",
              "      background-color: #E8F0FE;\n",
              "      border: none;\n",
              "      border-radius: 50%;\n",
              "      cursor: pointer;\n",
              "      display: none;\n",
              "      fill: #1967D2;\n",
              "      height: 32px;\n",
              "      padding: 0 0 0 0;\n",
              "      width: 32px;\n",
              "    }\n",
              "\n",
              "    .colab-df-convert:hover {\n",
              "      background-color: #E2EBFA;\n",
              "      box-shadow: 0px 1px 2px rgba(60, 64, 67, 0.3), 0px 1px 3px 1px rgba(60, 64, 67, 0.15);\n",
              "      fill: #174EA6;\n",
              "    }\n",
              "\n",
              "    [theme=dark] .colab-df-convert {\n",
              "      background-color: #3B4455;\n",
              "      fill: #D2E3FC;\n",
              "    }\n",
              "\n",
              "    [theme=dark] .colab-df-convert:hover {\n",
              "      background-color: #434B5C;\n",
              "      box-shadow: 0px 1px 3px 1px rgba(0, 0, 0, 0.15);\n",
              "      filter: drop-shadow(0px 1px 2px rgba(0, 0, 0, 0.3));\n",
              "      fill: #FFFFFF;\n",
              "    }\n",
              "  </style>\n",
              "\n",
              "      <script>\n",
              "        const buttonEl =\n",
              "          document.querySelector('#df-45ef31c1-ee25-4fbd-9128-091d8da79f67 button.colab-df-convert');\n",
              "        buttonEl.style.display =\n",
              "          google.colab.kernel.accessAllowed ? 'block' : 'none';\n",
              "\n",
              "        async function convertToInteractive(key) {\n",
              "          const element = document.querySelector('#df-45ef31c1-ee25-4fbd-9128-091d8da79f67');\n",
              "          const dataTable =\n",
              "            await google.colab.kernel.invokeFunction('convertToInteractive',\n",
              "                                                     [key], {});\n",
              "          if (!dataTable) return;\n",
              "\n",
              "          const docLinkHtml = 'Like what you see? Visit the ' +\n",
              "            '<a target=\"_blank\" href=https://colab.research.google.com/notebooks/data_table.ipynb>data table notebook</a>'\n",
              "            + ' to learn more about interactive tables.';\n",
              "          element.innerHTML = '';\n",
              "          dataTable['output_type'] = 'display_data';\n",
              "          await google.colab.output.renderOutput(dataTable, element);\n",
              "          const docLink = document.createElement('div');\n",
              "          docLink.innerHTML = docLinkHtml;\n",
              "          element.appendChild(docLink);\n",
              "        }\n",
              "      </script>\n",
              "    </div>\n",
              "  </div>\n",
              "  "
            ]
          },
          "metadata": {},
          "execution_count": 101
        }
      ],
      "source": [
        "df.sort_values(by='datetime', inplace= True)\n",
        "df"
      ]
    },
    {
      "cell_type": "markdown",
      "metadata": {
        "id": "hRjZmSEIOFuy"
      },
      "source": [
        "as we can see the count value is specific to a certain time"
      ]
    },
    {
      "cell_type": "markdown",
      "metadata": {
        "id": "-HgU9xpu2b_E"
      },
      "source": [
        "Now we'll compare the monthly bicycles rental between the years 2011 and 2012 given in the samples"
      ]
    },
    {
      "cell_type": "code",
      "execution_count": null,
      "metadata": {
        "id": "zq3qS4HQGIkg",
        "colab": {
          "base_uri": "https://localhost:8080/"
        },
        "outputId": "c96eb1e4-647d-4d00-ea62-77ea82be835b"
      },
      "outputs": [
        {
          "output_type": "display_data",
          "data": {
            "text/plain": [
              "<Figure size 936x504 with 1 Axes>"
            ],
            "image/png": "[encoded data removed]"
          },
          "metadata": {}
        },
        {
          "output_type": "display_data",
          "data": {
            "text/plain": [
              "<Figure size 936x504 with 1 Axes>"
            ],
            "image/png": "[encoded data removed]"
          },
          "metadata": {}
        }
      ],
      "source": [
        "def plot_By_year(df,yearofpurchase):\n",
        "\n",
        "  df_filter = df[df.apply(lambda row: row['datetime'].year == yearofpurchase, axis=1)]\n",
        "  df_filter['month'] = pd.DatetimeIndex(df_filter['datetime']).month\n",
        "  pur_month=df_filter.loc[(df_filter['count'] > 0) , 'month']\n",
        "  pur_month.value_counts(sort=False).plot.bar(color=\"purple\", figsize=(13,7))\n",
        "  plt.xlabel('Month')\n",
        "  plt.ylabel('Total rented bicycles')\n",
        "  plt.title(f'Bicycle rentals per month in '+ str(yearofpurchase))\n",
        "  plt.show()\n",
        "    \n",
        "plot_By_year(df, 2011)\n",
        "plot_By_year(df, 2012)"
      ]
    },
    {
      "cell_type": "markdown",
      "metadata": {
        "id": "-7r1LNbvaHt0"
      },
      "source": [
        "As we mentioned before, it is now more clear that there is a similarity in the distribution of demand for bicycles over the years, but that in some months the demand is greater than the year before."
      ]
    },
    {
      "cell_type": "markdown",
      "metadata": {
        "id": "vvqWVr8YafAn"
      },
      "source": [
        "**Now we'll take a look at the demand by months, days and hours**"
      ]
    },
    {
      "cell_type": "code",
      "execution_count": null,
      "metadata": {
        "id": "EtbwP5_F7R_x"
      },
      "outputs": [],
      "source": [
        "# Plot by day, hour and month\n",
        "def plot_sum_by_datettime(df,col):\n",
        "  if col=='month':\n",
        "    df1 = df.groupby(df.datetime.dt.month)['count'].sum()\n",
        "  elif col=='day':\n",
        "    df1 = df.groupby(df.datetime.dt.day)['count'].sum()\n",
        "  elif col=='time':\n",
        "    df1 = df.groupby(df.datetime.dt.time)['count'].sum()\n",
        "  elif col=='weekday':\n",
        "    df1 = df.groupby(df.datetime.dt.weekday)['count'].sum()\n",
        "  df1.plot.bar(color=\"purple\", figsize=(15,10))\n",
        "  plt.xlabel(col)\n",
        "  plt.ylabel('Sum of rented bicycles')\n",
        "  plt.title(f'Bicycle rentals per '+ str(col))\n",
        "  plt.show()\n"
      ]
    },
    {
      "cell_type": "code",
      "execution_count": null,
      "metadata": {
        "id": "aEXpSguQ8AwL",
        "colab": {
          "base_uri": "https://localhost:8080/"
        },
        "outputId": "a8066ddc-7aa1-4f2d-85dc-90d8c9e0db3b"
      },
      "outputs": [
        {
          "output_type": "display_data",
          "data": {
            "text/plain": [
              "<Figure size 1080x720 with 1 Axes>"
            ],
            "image/png": "[encoded data removed]"
          },
          "metadata": {}
        }
      ],
      "source": [
        "plot_sum_by_datettime(df,'month')"
      ]
    },
    {
      "cell_type": "markdown",
      "metadata": {
        "id": "ZdpeOMt03bTB"
      },
      "source": [
        "from the bicycle rental per month plot we can see that there are a few levels of demand:\n",
        "*   the highest demand level1 : 6,7,8\n",
        "*   level2 : 5,9,10\n",
        "*   level3 : 4,11,12\n",
        "*   the lowest , level4: 1,2,3\n",
        "\n",
        "In one of the model trainings that we tried , we created new features of these levels by months but we didn't saw an improvement in the performance of the models, and so we chose not to do this in the final model.\n",
        "\n",
        "\n",
        "\n",
        "\n",
        "\n",
        "\n",
        "\n",
        "\n",
        "\n",
        "\n"
      ]
    },
    {
      "cell_type": "code",
      "execution_count": null,
      "metadata": {
        "id": "SLOkPLmW_8H8",
        "colab": {
          "base_uri": "https://localhost:8080/"
        },
        "outputId": "ce5d746c-9992-4b62-b1ae-aa4377097c81"
      },
      "outputs": [
        {
          "output_type": "display_data",
          "data": {
            "text/plain": [
              "<Figure size 1080x720 with 1 Axes>"
            ],
            "image/png": "[encoded data removed]"
          },
          "metadata": {}
        }
      ],
      "source": [
        "plot_sum_by_datettime(df,'time')"
      ]
    },
    {
      "cell_type": "markdown",
      "metadata": {
        "id": "QiO9xn5b3YdV"
      },
      "source": [
        "from the bicycle rental per time plotwe have two periods of rush hours: 08:00-09:00 and 17:00-19:00. We also have clear off-peak hours, 00:00-06:00.\n",
        "Due to this,we would like to express this information in the form of dummy variables and we'll do it in the preprocessing stage. \n",
        "\n"
      ]
    },
    {
      "cell_type": "code",
      "execution_count": null,
      "metadata": {
        "id": "-88DBNnk_7_q",
        "colab": {
          "base_uri": "https://localhost:8080/"
        },
        "outputId": "3a9a5deb-c00c-4d98-e792-4a90557fd7b7"
      },
      "outputs": [
        {
          "output_type": "display_data",
          "data": {
            "text/plain": [
              "<Figure size 1080x720 with 1 Axes>"
            ],
            "image/png": "[encoded data removed]"
          },
          "metadata": {}
        }
      ],
      "source": [
        "plot_sum_by_datettime(df,'weekday')"
      ]
    },
    {
      "cell_type": "code",
      "execution_count": null,
      "metadata": {
        "id": "ZQdN5cel_70F",
        "colab": {
          "base_uri": "https://localhost:8080/"
        },
        "outputId": "35fda885-9776-4295-a47b-49c2e28b16e6"
      },
      "outputs": [
        {
          "output_type": "display_data",
          "data": {
            "text/plain": [
              "<Figure size 1080x720 with 1 Axes>"
            ],
            "image/png": "[encoded data removed]"
          },
          "metadata": {}
        }
      ],
      "source": [
        "plot_sum_by_datettime(df,'day')"
      ]
    },
    {
      "cell_type": "markdown",
      "metadata": {
        "id": "uldQLwUJpymw"
      },
      "source": [
        "# Preprocessing"
      ]
    },
    {
      "cell_type": "markdown",
      "metadata": {
        "id": "UFa_NP1qyDnw"
      },
      "source": [
        "**Here are the actions we will perform in the pre-processing based on the exploration from the previous step:**\n",
        "\n",
        "\n",
        "1. create dummy variables for \"season\" and \"weather\".\n",
        "2. remove high corelative columns.\n",
        "3. normelize the humidity column - manualy. \n",
        "4. convert the \"datetime\" column to a format we can use : year, month, time.\n",
        "5. create additional columns that reflect the relevant rush hour according to the time ranges we've found in the exploration stage: rush hours and off-peak hours.\n"
      ]
    },
    {
      "cell_type": "markdown",
      "metadata": {
        "id": "-4DJYDsIdO_V"
      },
      "source": [
        "**Below are all the pre-processing actions we performed that didn't contribute to the performance of the models and decided not to perform them on the final model :**\n",
        "1. We created new features of demand levels by month and concentrated in each feature the 3 months with a similar level of demand.\n",
        "2. We created a dummies variable for day, month and year features.\n",
        "3. creating a ordinal based year feature - that the base year in 2011 and deleting the original year feature.\n",
        "4. We created new variables for features that had a significant contribution to the models after we ran them - feature the variables in the square and feature the relevant variables in the log.\n",
        "5. We did normalization using both standard and minmax methods.\n",
        "6. Creating new features using the PCA method.\n",
        "\n",
        "All these actions together,separately and in different combinations, only increased the model error and therefore we chose to give them up in the final model."
      ]
    },
    {
      "cell_type": "code",
      "execution_count": null,
      "metadata": {
        "id": "a3iH8zVvSu9T"
      },
      "outputs": [],
      "source": [
        "def data_preproessing(dataframe):\n",
        "  # creating a copy of the data\n",
        "  df_copy = dataframe.copy()\n",
        "\n",
        "  # removing the high corelative feature: temp, sunlight\n",
        "  removing_temp = df_copy.pop('temp')\n",
        "  removing_sunlight = df_copy.pop('sunlight')\n",
        "\n",
        "  # split datetime to year, month and hour\n",
        "  df_copy['time'] = pd.to_datetime(df_copy['datetime']).dt.time\n",
        "  df_copy['month'] = pd.to_datetime(df_copy['datetime']).dt.month\n",
        "  df_copy['year'] = pd.to_datetime(df_copy['datetime']).dt.year\n",
        "  # split datetime to weekday\n",
        "  df_copy['day'] = pd.to_datetime(df_copy['datetime']).dt.weekday # Monday is 0 and Sunday is 6\n",
        "  df_copy['hour'] = pd.to_datetime(df_copy['datetime']).dt.hour\n",
        "  df_copy.drop(['datetime'], axis=1, inplace=True) #drop datetime column\n",
        "  # Add new features: 'rush_h' and 'off-peak_h'\n",
        "  df_copy['rush_h'] = df_copy.loc[:, 'time']\n",
        "  df_copy['offpeak_h'] = df_copy.loc[:, 'time']\n",
        "  m_rush1, m_rush2 = time(8), time(9) # 08:00, 09:00, morning rush hours\n",
        "  e_rush1, e_rush2 = time(17), time(19) # 17:00, 19:00, evning rush hours\n",
        "  o_p1 , o_p2 = time(0), time(7) #off-peak hours\n",
        "  # Filling up the dummy variables of off-peak and rush hour\n",
        "  df_copy[\"rush_h\"] = np.where(((df_copy[\"time\"] >= m_rush1) & (df_copy[\"time\"] < m_rush2)) | ((df_copy[\"time\"] >= e_rush1) & (df_copy[\"time\"] < e_rush2)) , 1, 0)\n",
        "  df_copy[\"offpeak_h\"] = np.where((df_copy[\"time\"] >= o_p1) & (df_copy[\"time\"] < o_p2) , 1, 0)\n",
        "  df_copy.drop(['time'], axis=1, inplace=True) #deleting time col\n",
        "  \n",
        "\n",
        "  # converting the categorial features: season and weather into dummies\n",
        "  df_copy = pd.get_dummies(df_copy, columns=['season', 'weather'],drop_first=True) \n",
        "  \n",
        "  # normelizing the humidity feature\n",
        "  df_copy['humidity'] = df_copy['humidity']/100\n",
        "\n",
        "  return df_copy"
      ]
    },
    {
      "cell_type": "code",
      "execution_count": null,
      "metadata": {
        "id": "ltrs-7yiCAZF"
      },
      "outputs": [],
      "source": [
        "#utilty function to removing features:\n",
        "\n",
        "def remove_excess_features(dataframe, features):\n",
        "  for feature in features:\n",
        "    feature = dataframe.pop(feature)"
      ]
    },
    {
      "cell_type": "markdown",
      "metadata": {
        "id": "hakAhZCoelFl"
      },
      "source": [
        "**Applying the preprocessing to the training and test models**"
      ]
    },
    {
      "cell_type": "code",
      "execution_count": null,
      "metadata": {
        "id": "EP2yKQHuVu51"
      },
      "outputs": [],
      "source": [
        "df_copy = data_preproessing(df)\n",
        "df_test = data_preproessing(df_test)"
      ]
    },
    {
      "cell_type": "markdown",
      "metadata": {
        "id": "PgYBL9P0Rj-T"
      },
      "source": [
        "let's check the train and test dataframes after the preprocessing"
      ]
    },
    {
      "cell_type": "code",
      "execution_count": null,
      "metadata": {
        "id": "fDcMClT6Rxos",
        "colab": {
          "base_uri": "https://localhost:8080/",
          "height": 488
        },
        "outputId": "56a73b21-052a-4d3a-e887-1b43444a46d2"
      },
      "outputs": [
        {
          "output_type": "execute_result",
          "data": {
            "text/plain": [
              "      holiday  workingday   atemp  humidity  windspeed   pollution   traffic  \\\n",
              "6560        0           0  13.635      0.80     0.0000   10.820673  0.000000   \n",
              "3754        0           0  13.635      0.80     0.0000   19.189498  0.004489   \n",
              "7767        0           0  14.395      0.75     0.0000    0.133472  0.015615   \n",
              "7272        0           0  12.880      0.75     6.0032    0.014335  0.000000   \n",
              "5381        0           0  13.635      0.80     0.0000    0.096936  0.004489   \n",
              "...       ...         ...     ...       ...        ...         ...       ...   \n",
              "4763        0           1  21.210      0.50    23.9994   19.956957  0.015615   \n",
              "467         0           1  19.695      0.50    23.9994  212.578827  0.004489   \n",
              "4423        0           1  19.695      0.50    26.0027   21.027171  0.015615   \n",
              "3307        0           1  17.425      0.57    15.0013   37.737255  0.004489   \n",
              "6621        0           1  15.910      0.61    15.0013   49.855590  0.000000   \n",
              "\n",
              "      count  month  year  day  hour  rush_h  offpeak_h  season_2  season_3  \\\n",
              "6560     40      1  2011    5     1       0          1         0         0   \n",
              "3754     32      1  2011    5     2       0          1         0         0   \n",
              "7767      1      1  2011    5     4       0          1         0         0   \n",
              "7272      1      1  2011    5     5       0          1         0         0   \n",
              "5381      2      1  2011    5     6       0          1         0         0   \n",
              "...     ...    ...   ...  ...   ...     ...        ...       ...       ...   \n",
              "4763    334     12  2012    2    16       0          0         0         0   \n",
              "467     569     12  2012    2    18       1          0         0         0   \n",
              "4423    336     12  2012    2    19       0          0         0         0   \n",
              "3307    241     12  2012    2    20       0          0         0         0   \n",
              "6621    168     12  2012    2    21       0          0         0         0   \n",
              "\n",
              "      season_4  weather_2  weather_3  weather_4  \n",
              "6560         0          0          0          0  \n",
              "3754         0          0          0          0  \n",
              "7767         0          0          0          0  \n",
              "7272         0          1          0          0  \n",
              "5381         0          0          0          0  \n",
              "...        ...        ...        ...        ...  \n",
              "4763         1          0          0          0  \n",
              "467          1          0          0          0  \n",
              "4423         1          0          0          0  \n",
              "3307         1          0          0          0  \n",
              "6621         1          0          0          0  \n",
              "\n",
              "[8164 rows x 20 columns]"
            ],
            "text/html": [
              "\n",
              "  <div id=\"df-582ce1ac-48df-43b9-8854-ad3b29cb6d3f\">\n",
              "    <div class=\"colab-df-container\">\n",
              "      <div>\n",
              "<style scoped>\n",
              "    .dataframe tbody tr th:only-of-type {\n",
              "        vertical-align: middle;\n",
              "    }\n",
              "\n",
              "    .dataframe tbody tr th {\n",
              "        vertical-align: top;\n",
              "    }\n",
              "\n",
              "    .dataframe thead th {\n",
              "        text-align: right;\n",
              "    }\n",
              "</style>\n",
              "<table border=\"1\" class=\"dataframe\">\n",
              "  <thead>\n",
              "    <tr style=\"text-align: right;\">\n",
              "      <th></th>\n",
              "      <th>holiday</th>\n",
              "      <th>workingday</th>\n",
              "      <th>atemp</th>\n",
              "      <th>humidity</th>\n",
              "      <th>windspeed</th>\n",
              "      <th>pollution</th>\n",
              "      <th>traffic</th>\n",
              "      <th>count</th>\n",
              "      <th>month</th>\n",
              "      <th>year</th>\n",
              "      <th>day</th>\n",
              "      <th>hour</th>\n",
              "      <th>rush_h</th>\n",
              "      <th>offpeak_h</th>\n",
              "      <th>season_2</th>\n",
              "      <th>season_3</th>\n",
              "      <th>season_4</th>\n",
              "      <th>weather_2</th>\n",
              "      <th>weather_3</th>\n",
              "      <th>weather_4</th>\n",
              "    </tr>\n",
              "  </thead>\n",
              "  <tbody>\n",
              "    <tr>\n",
              "      <th>6560</th>\n",
              "      <td>0</td>\n",
              "      <td>0</td>\n",
              "      <td>13.635</td>\n",
              "      <td>0.80</td>\n",
              "      <td>0.0000</td>\n",
              "      <td>10.820673</td>\n",
              "      <td>0.000000</td>\n",
              "      <td>40</td>\n",
              "      <td>1</td>\n",
              "      <td>2011</td>\n",
              "      <td>5</td>\n",
              "      <td>1</td>\n",
              "      <td>0</td>\n",
              "      <td>1</td>\n",
              "      <td>0</td>\n",
              "      <td>0</td>\n",
              "      <td>0</td>\n",
              "      <td>0</td>\n",
              "      <td>0</td>\n",
              "      <td>0</td>\n",
              "    </tr>\n",
              "    <tr>\n",
              "      <th>3754</th>\n",
              "      <td>0</td>\n",
              "      <td>0</td>\n",
              "      <td>13.635</td>\n",
              "      <td>0.80</td>\n",
              "      <td>0.0000</td>\n",
              "      <td>19.189498</td>\n",
              "      <td>0.004489</td>\n",
              "      <td>32</td>\n",
              "      <td>1</td>\n",
              "      <td>2011</td>\n",
              "      <td>5</td>\n",
              "      <td>2</td>\n",
              "      <td>0</td>\n",
              "      <td>1</td>\n",
              "      <td>0</td>\n",
              "      <td>0</td>\n",
              "      <td>0</td>\n",
              "      <td>0</td>\n",
              "      <td>0</td>\n",
              "      <td>0</td>\n",
              "    </tr>\n",
              "    <tr>\n",
              "      <th>7767</th>\n",
              "      <td>0</td>\n",
              "      <td>0</td>\n",
              "      <td>14.395</td>\n",
              "      <td>0.75</td>\n",
              "      <td>0.0000</td>\n",
              "      <td>0.133472</td>\n",
              "      <td>0.015615</td>\n",
              "      <td>1</td>\n",
              "      <td>1</td>\n",
              "      <td>2011</td>\n",
              "      <td>5</td>\n",
              "      <td>4</td>\n",
              "      <td>0</td>\n",
              "      <td>1</td>\n",
              "      <td>0</td>\n",
              "      <td>0</td>\n",
              "      <td>0</td>\n",
              "      <td>0</td>\n",
              "      <td>0</td>\n",
              "      <td>0</td>\n",
              "    </tr>\n",
              "    <tr>\n",
              "      <th>7272</th>\n",
              "      <td>0</td>\n",
              "      <td>0</td>\n",
              "      <td>12.880</td>\n",
              "      <td>0.75</td>\n",
              "      <td>6.0032</td>\n",
              "      <td>0.014335</td>\n",
              "      <td>0.000000</td>\n",
              "      <td>1</td>\n",
              "      <td>1</td>\n",
              "      <td>2011</td>\n",
              "      <td>5</td>\n",
              "      <td>5</td>\n",
              "      <td>0</td>\n",
              "      <td>1</td>\n",
              "      <td>0</td>\n",
              "      <td>0</td>\n",
              "      <td>0</td>\n",
              "      <td>1</td>\n",
              "      <td>0</td>\n",
              "      <td>0</td>\n",
              "    </tr>\n",
              "    <tr>\n",
              "      <th>5381</th>\n",
              "      <td>0</td>\n",
              "      <td>0</td>\n",
              "      <td>13.635</td>\n",
              "      <td>0.80</td>\n",
              "      <td>0.0000</td>\n",
              "      <td>0.096936</td>\n",
              "      <td>0.004489</td>\n",
              "      <td>2</td>\n",
              "      <td>1</td>\n",
              "      <td>2011</td>\n",
              "      <td>5</td>\n",
              "      <td>6</td>\n",
              "      <td>0</td>\n",
              "      <td>1</td>\n",
              "      <td>0</td>\n",
              "      <td>0</td>\n",
              "      <td>0</td>\n",
              "      <td>0</td>\n",
              "      <td>0</td>\n",
              "      <td>0</td>\n",
              "    </tr>\n",
              "    <tr>\n",
              "      <th>...</th>\n",
              "      <td>...</td>\n",
              "      <td>...</td>\n",
              "      <td>...</td>\n",
              "      <td>...</td>\n",
              "      <td>...</td>\n",
              "      <td>...</td>\n",
              "      <td>...</td>\n",
              "      <td>...</td>\n",
              "      <td>...</td>\n",
              "      <td>...</td>\n",
              "      <td>...</td>\n",
              "      <td>...</td>\n",
              "      <td>...</td>\n",
              "      <td>...</td>\n",
              "      <td>...</td>\n",
              "      <td>...</td>\n",
              "      <td>...</td>\n",
              "      <td>...</td>\n",
              "      <td>...</td>\n",
              "      <td>...</td>\n",
              "    </tr>\n",
              "    <tr>\n",
              "      <th>4763</th>\n",
              "      <td>0</td>\n",
              "      <td>1</td>\n",
              "      <td>21.210</td>\n",
              "      <td>0.50</td>\n",
              "      <td>23.9994</td>\n",
              "      <td>19.956957</td>\n",
              "      <td>0.015615</td>\n",
              "      <td>334</td>\n",
              "      <td>12</td>\n",
              "      <td>2012</td>\n",
              "      <td>2</td>\n",
              "      <td>16</td>\n",
              "      <td>0</td>\n",
              "      <td>0</td>\n",
              "      <td>0</td>\n",
              "      <td>0</td>\n",
              "      <td>1</td>\n",
              "      <td>0</td>\n",
              "      <td>0</td>\n",
              "      <td>0</td>\n",
              "    </tr>\n",
              "    <tr>\n",
              "      <th>467</th>\n",
              "      <td>0</td>\n",
              "      <td>1</td>\n",
              "      <td>19.695</td>\n",
              "      <td>0.50</td>\n",
              "      <td>23.9994</td>\n",
              "      <td>212.578827</td>\n",
              "      <td>0.004489</td>\n",
              "      <td>569</td>\n",
              "      <td>12</td>\n",
              "      <td>2012</td>\n",
              "      <td>2</td>\n",
              "      <td>18</td>\n",
              "      <td>1</td>\n",
              "      <td>0</td>\n",
              "      <td>0</td>\n",
              "      <td>0</td>\n",
              "      <td>1</td>\n",
              "      <td>0</td>\n",
              "      <td>0</td>\n",
              "      <td>0</td>\n",
              "    </tr>\n",
              "    <tr>\n",
              "      <th>4423</th>\n",
              "      <td>0</td>\n",
              "      <td>1</td>\n",
              "      <td>19.695</td>\n",
              "      <td>0.50</td>\n",
              "      <td>26.0027</td>\n",
              "      <td>21.027171</td>\n",
              "      <td>0.015615</td>\n",
              "      <td>336</td>\n",
              "      <td>12</td>\n",
              "      <td>2012</td>\n",
              "      <td>2</td>\n",
              "      <td>19</td>\n",
              "      <td>0</td>\n",
              "      <td>0</td>\n",
              "      <td>0</td>\n",
              "      <td>0</td>\n",
              "      <td>1</td>\n",
              "      <td>0</td>\n",
              "      <td>0</td>\n",
              "      <td>0</td>\n",
              "    </tr>\n",
              "    <tr>\n",
              "      <th>3307</th>\n",
              "      <td>0</td>\n",
              "      <td>1</td>\n",
              "      <td>17.425</td>\n",
              "      <td>0.57</td>\n",
              "      <td>15.0013</td>\n",
              "      <td>37.737255</td>\n",
              "      <td>0.004489</td>\n",
              "      <td>241</td>\n",
              "      <td>12</td>\n",
              "      <td>2012</td>\n",
              "      <td>2</td>\n",
              "      <td>20</td>\n",
              "      <td>0</td>\n",
              "      <td>0</td>\n",
              "      <td>0</td>\n",
              "      <td>0</td>\n",
              "      <td>1</td>\n",
              "      <td>0</td>\n",
              "      <td>0</td>\n",
              "      <td>0</td>\n",
              "    </tr>\n",
              "    <tr>\n",
              "      <th>6621</th>\n",
              "      <td>0</td>\n",
              "      <td>1</td>\n",
              "      <td>15.910</td>\n",
              "      <td>0.61</td>\n",
              "      <td>15.0013</td>\n",
              "      <td>49.855590</td>\n",
              "      <td>0.000000</td>\n",
              "      <td>168</td>\n",
              "      <td>12</td>\n",
              "      <td>2012</td>\n",
              "      <td>2</td>\n",
              "      <td>21</td>\n",
              "      <td>0</td>\n",
              "      <td>0</td>\n",
              "      <td>0</td>\n",
              "      <td>0</td>\n",
              "      <td>1</td>\n",
              "      <td>0</td>\n",
              "      <td>0</td>\n",
              "      <td>0</td>\n",
              "    </tr>\n",
              "  </tbody>\n",
              "</table>\n",
              "<p>8164 rows × 20 columns</p>\n",
              "</div>\n",
              "      <button class=\"colab-df-convert\" onclick=\"convertToInteractive('df-582ce1ac-48df-43b9-8854-ad3b29cb6d3f')\"\n",
              "              title=\"Convert this dataframe to an interactive table.\"\n",
              "              style=\"display:none;\">\n",
              "        \n",
              "  <svg xmlns=\"http://www.w3.org/2000/svg\" height=\"24px\"viewBox=\"0 0 24 24\"\n",
              "       width=\"24px\">\n",
              "    <path d=\"M0 0h24v24H0V0z\" fill=\"none\"/>\n",
              "    <path d=\"M18.56 5.44l.94 2.06.94-2.06 2.06-.94-2.06-.94-.94-2.06-.94 2.06-2.06.94zm-11 1L8.5 8.5l.94-2.06 2.06-.94-2.06-.94L8.5 2.5l-.94 2.06-2.06.94zm10 10l.94 2.06.94-2.06 2.06-.94-2.06-.94-.94-2.06-.94 2.06-2.06.94z\"/><path d=\"M17.41 7.96l-1.37-1.37c-.4-.4-.92-.59-1.43-.59-.52 0-1.04.2-1.43.59L10.3 9.45l-7.72 7.72c-.78.78-.78 2.05 0 2.83L4 21.41c.39.39.9.59 1.41.59.51 0 1.02-.2 1.41-.59l7.78-7.78 2.81-2.81c.8-.78.8-2.07 0-2.86zM5.41 20L4 18.59l7.72-7.72 1.47 1.35L5.41 20z\"/>\n",
              "  </svg>\n",
              "      </button>\n",
              "      \n",
              "  <style>\n",
              "    .colab-df-container {\n",
              "      display:flex;\n",
              "      flex-wrap:wrap;\n",
              "      gap: 12px;\n",
              "    }\n",
              "\n",
              "    .colab-df-convert {\n",
              "      background-color: #E8F0FE;\n",
              "      border: none;\n",
              "      border-radius: 50%;\n",
              "      cursor: pointer;\n",
              "      display: none;\n",
              "      fill: #1967D2;\n",
              "      height: 32px;\n",
              "      padding: 0 0 0 0;\n",
              "      width: 32px;\n",
              "    }\n",
              "\n",
              "    .colab-df-convert:hover {\n",
              "      background-color: #E2EBFA;\n",
              "      box-shadow: 0px 1px 2px rgba(60, 64, 67, 0.3), 0px 1px 3px 1px rgba(60, 64, 67, 0.15);\n",
              "      fill: #174EA6;\n",
              "    }\n",
              "\n",
              "    [theme=dark] .colab-df-convert {\n",
              "      background-color: #3B4455;\n",
              "      fill: #D2E3FC;\n",
              "    }\n",
              "\n",
              "    [theme=dark] .colab-df-convert:hover {\n",
              "      background-color: #434B5C;\n",
              "      box-shadow: 0px 1px 3px 1px rgba(0, 0, 0, 0.15);\n",
              "      filter: drop-shadow(0px 1px 2px rgba(0, 0, 0, 0.3));\n",
              "      fill: #FFFFFF;\n",
              "    }\n",
              "  </style>\n",
              "\n",
              "      <script>\n",
              "        const buttonEl =\n",
              "          document.querySelector('#df-582ce1ac-48df-43b9-8854-ad3b29cb6d3f button.colab-df-convert');\n",
              "        buttonEl.style.display =\n",
              "          google.colab.kernel.accessAllowed ? 'block' : 'none';\n",
              "\n",
              "        async function convertToInteractive(key) {\n",
              "          const element = document.querySelector('#df-582ce1ac-48df-43b9-8854-ad3b29cb6d3f');\n",
              "          const dataTable =\n",
              "            await google.colab.kernel.invokeFunction('convertToInteractive',\n",
              "                                                     [key], {});\n",
              "          if (!dataTable) return;\n",
              "\n",
              "          const docLinkHtml = 'Like what you see? Visit the ' +\n",
              "            '<a target=\"_blank\" href=https://colab.research.google.com/notebooks/data_table.ipynb>data table notebook</a>'\n",
              "            + ' to learn more about interactive tables.';\n",
              "          element.innerHTML = '';\n",
              "          dataTable['output_type'] = 'display_data';\n",
              "          await google.colab.output.renderOutput(dataTable, element);\n",
              "          const docLink = document.createElement('div');\n",
              "          docLink.innerHTML = docLinkHtml;\n",
              "          element.appendChild(docLink);\n",
              "        }\n",
              "      </script>\n",
              "    </div>\n",
              "  </div>\n",
              "  "
            ]
          },
          "metadata": {},
          "execution_count": 111
        }
      ],
      "source": [
        "df_copy"
      ]
    },
    {
      "cell_type": "code",
      "execution_count": null,
      "metadata": {
        "id": "CpybZR6mkYNg",
        "colab": {
          "base_uri": "https://localhost:8080/",
          "height": 488
        },
        "outputId": "80e11738-71ef-40fb-99c5-2d76d7ab79a6"
      },
      "outputs": [
        {
          "output_type": "execute_result",
          "data": {
            "text/plain": [
              "      holiday  workingday   atemp  humidity  windspeed   pollution   traffic  \\\n",
              "0           0           1  40.150      0.59     0.0000   10.317020  0.015615   \n",
              "1           1           0   6.820      0.54     6.0032    3.502209  0.004489   \n",
              "2           0           0  11.365      0.48    12.9980   25.945915  0.000000   \n",
              "3           0           1  34.090      0.62    12.9980  116.935908  0.004489   \n",
              "4           0           1  31.060      0.53    16.9979  120.824789  0.015615   \n",
              "...       ...         ...     ...       ...        ...         ...       ...   \n",
              "2717        0           0  24.240      0.29    27.9993   44.665581  0.000242   \n",
              "2718        0           0  20.455      0.37    19.9995   31.090380  0.000000   \n",
              "2719        0           1  31.060      0.74     8.9981    1.075298  0.015615   \n",
              "2720        0           0  31.060      0.65    11.0014    2.291586  0.004489   \n",
              "2721        0           0  21.210      0.77    19.0012    8.940201  0.015615   \n",
              "\n",
              "      count  month  year  day  hour  rush_h  offpeak_h  season_2  season_3  \\\n",
              "0       127      7  2011    1    11       0          0         0         1   \n",
              "1        13      1  2012    0     6       0          1         0         0   \n",
              "2       163     12  2011    6    18       1          0         0         0   \n",
              "3       233      8  2012    2    10       0          0         0         1   \n",
              "4       222      6  2012    4    23       0          0         1         0   \n",
              "...     ...    ...   ...  ...   ...     ...        ...       ...       ...   \n",
              "2717    313      3  2011    5    15       0          0         0         0   \n",
              "2718    314      1  2012    6    16       0          0         0         0   \n",
              "2719     26      7  2011    0     5       0          1         0         1   \n",
              "2720    127      7  2011    5     8       1          0         0         1   \n",
              "2721     84      1  2011    5    12       0          0         0         0   \n",
              "\n",
              "      season_4  weather_2  weather_3  \n",
              "0            0          0          0  \n",
              "1            0          0          0  \n",
              "2            1          0          0  \n",
              "3            0          1          0  \n",
              "4            0          0          0  \n",
              "...        ...        ...        ...  \n",
              "2717         0          0          0  \n",
              "2718         0          0          0  \n",
              "2719         0          0          0  \n",
              "2720         0          0          0  \n",
              "2721         0          0          0  \n",
              "\n",
              "[2722 rows x 19 columns]"
            ],
            "text/html": [
              "\n",
              "  <div id=\"df-32c72536-85ea-4db7-a3ce-9c10862ce1b0\">\n",
              "    <div class=\"colab-df-container\">\n",
              "      <div>\n",
              "<style scoped>\n",
              "    .dataframe tbody tr th:only-of-type {\n",
              "        vertical-align: middle;\n",
              "    }\n",
              "\n",
              "    .dataframe tbody tr th {\n",
              "        vertical-align: top;\n",
              "    }\n",
              "\n",
              "    .dataframe thead th {\n",
              "        text-align: right;\n",
              "    }\n",
              "</style>\n",
              "<table border=\"1\" class=\"dataframe\">\n",
              "  <thead>\n",
              "    <tr style=\"text-align: right;\">\n",
              "      <th></th>\n",
              "      <th>holiday</th>\n",
              "      <th>workingday</th>\n",
              "      <th>atemp</th>\n",
              "      <th>humidity</th>\n",
              "      <th>windspeed</th>\n",
              "      <th>pollution</th>\n",
              "      <th>traffic</th>\n",
              "      <th>count</th>\n",
              "      <th>month</th>\n",
              "      <th>year</th>\n",
              "      <th>day</th>\n",
              "      <th>hour</th>\n",
              "      <th>rush_h</th>\n",
              "      <th>offpeak_h</th>\n",
              "      <th>season_2</th>\n",
              "      <th>season_3</th>\n",
              "      <th>season_4</th>\n",
              "      <th>weather_2</th>\n",
              "      <th>weather_3</th>\n",
              "    </tr>\n",
              "  </thead>\n",
              "  <tbody>\n",
              "    <tr>\n",
              "      <th>0</th>\n",
              "      <td>0</td>\n",
              "      <td>1</td>\n",
              "      <td>40.150</td>\n",
              "      <td>0.59</td>\n",
              "      <td>0.0000</td>\n",
              "      <td>10.317020</td>\n",
              "      <td>0.015615</td>\n",
              "      <td>127</td>\n",
              "      <td>7</td>\n",
              "      <td>2011</td>\n",
              "      <td>1</td>\n",
              "      <td>11</td>\n",
              "      <td>0</td>\n",
              "      <td>0</td>\n",
              "      <td>0</td>\n",
              "      <td>1</td>\n",
              "      <td>0</td>\n",
              "      <td>0</td>\n",
              "      <td>0</td>\n",
              "    </tr>\n",
              "    <tr>\n",
              "      <th>1</th>\n",
              "      <td>1</td>\n",
              "      <td>0</td>\n",
              "      <td>6.820</td>\n",
              "      <td>0.54</td>\n",
              "      <td>6.0032</td>\n",
              "      <td>3.502209</td>\n",
              "      <td>0.004489</td>\n",
              "      <td>13</td>\n",
              "      <td>1</td>\n",
              "      <td>2012</td>\n",
              "      <td>0</td>\n",
              "      <td>6</td>\n",
              "      <td>0</td>\n",
              "      <td>1</td>\n",
              "      <td>0</td>\n",
              "      <td>0</td>\n",
              "      <td>0</td>\n",
              "      <td>0</td>\n",
              "      <td>0</td>\n",
              "    </tr>\n",
              "    <tr>\n",
              "      <th>2</th>\n",
              "      <td>0</td>\n",
              "      <td>0</td>\n",
              "      <td>11.365</td>\n",
              "      <td>0.48</td>\n",
              "      <td>12.9980</td>\n",
              "      <td>25.945915</td>\n",
              "      <td>0.000000</td>\n",
              "      <td>163</td>\n",
              "      <td>12</td>\n",
              "      <td>2011</td>\n",
              "      <td>6</td>\n",
              "      <td>18</td>\n",
              "      <td>1</td>\n",
              "      <td>0</td>\n",
              "      <td>0</td>\n",
              "      <td>0</td>\n",
              "      <td>1</td>\n",
              "      <td>0</td>\n",
              "      <td>0</td>\n",
              "    </tr>\n",
              "    <tr>\n",
              "      <th>3</th>\n",
              "      <td>0</td>\n",
              "      <td>1</td>\n",
              "      <td>34.090</td>\n",
              "      <td>0.62</td>\n",
              "      <td>12.9980</td>\n",
              "      <td>116.935908</td>\n",
              "      <td>0.004489</td>\n",
              "      <td>233</td>\n",
              "      <td>8</td>\n",
              "      <td>2012</td>\n",
              "      <td>2</td>\n",
              "      <td>10</td>\n",
              "      <td>0</td>\n",
              "      <td>0</td>\n",
              "      <td>0</td>\n",
              "      <td>1</td>\n",
              "      <td>0</td>\n",
              "      <td>1</td>\n",
              "      <td>0</td>\n",
              "    </tr>\n",
              "    <tr>\n",
              "      <th>4</th>\n",
              "      <td>0</td>\n",
              "      <td>1</td>\n",
              "      <td>31.060</td>\n",
              "      <td>0.53</td>\n",
              "      <td>16.9979</td>\n",
              "      <td>120.824789</td>\n",
              "      <td>0.015615</td>\n",
              "      <td>222</td>\n",
              "      <td>6</td>\n",
              "      <td>2012</td>\n",
              "      <td>4</td>\n",
              "      <td>23</td>\n",
              "      <td>0</td>\n",
              "      <td>0</td>\n",
              "      <td>1</td>\n",
              "      <td>0</td>\n",
              "      <td>0</td>\n",
              "      <td>0</td>\n",
              "      <td>0</td>\n",
              "    </tr>\n",
              "    <tr>\n",
              "      <th>...</th>\n",
              "      <td>...</td>\n",
              "      <td>...</td>\n",
              "      <td>...</td>\n",
              "      <td>...</td>\n",
              "      <td>...</td>\n",
              "      <td>...</td>\n",
              "      <td>...</td>\n",
              "      <td>...</td>\n",
              "      <td>...</td>\n",
              "      <td>...</td>\n",
              "      <td>...</td>\n",
              "      <td>...</td>\n",
              "      <td>...</td>\n",
              "      <td>...</td>\n",
              "      <td>...</td>\n",
              "      <td>...</td>\n",
              "      <td>...</td>\n",
              "      <td>...</td>\n",
              "      <td>...</td>\n",
              "    </tr>\n",
              "    <tr>\n",
              "      <th>2717</th>\n",
              "      <td>0</td>\n",
              "      <td>0</td>\n",
              "      <td>24.240</td>\n",
              "      <td>0.29</td>\n",
              "      <td>27.9993</td>\n",
              "      <td>44.665581</td>\n",
              "      <td>0.000242</td>\n",
              "      <td>313</td>\n",
              "      <td>3</td>\n",
              "      <td>2011</td>\n",
              "      <td>5</td>\n",
              "      <td>15</td>\n",
              "      <td>0</td>\n",
              "      <td>0</td>\n",
              "      <td>0</td>\n",
              "      <td>0</td>\n",
              "      <td>0</td>\n",
              "      <td>0</td>\n",
              "      <td>0</td>\n",
              "    </tr>\n",
              "    <tr>\n",
              "      <th>2718</th>\n",
              "      <td>0</td>\n",
              "      <td>0</td>\n",
              "      <td>20.455</td>\n",
              "      <td>0.37</td>\n",
              "      <td>19.9995</td>\n",
              "      <td>31.090380</td>\n",
              "      <td>0.000000</td>\n",
              "      <td>314</td>\n",
              "      <td>1</td>\n",
              "      <td>2012</td>\n",
              "      <td>6</td>\n",
              "      <td>16</td>\n",
              "      <td>0</td>\n",
              "      <td>0</td>\n",
              "      <td>0</td>\n",
              "      <td>0</td>\n",
              "      <td>0</td>\n",
              "      <td>0</td>\n",
              "      <td>0</td>\n",
              "    </tr>\n",
              "    <tr>\n",
              "      <th>2719</th>\n",
              "      <td>0</td>\n",
              "      <td>1</td>\n",
              "      <td>31.060</td>\n",
              "      <td>0.74</td>\n",
              "      <td>8.9981</td>\n",
              "      <td>1.075298</td>\n",
              "      <td>0.015615</td>\n",
              "      <td>26</td>\n",
              "      <td>7</td>\n",
              "      <td>2011</td>\n",
              "      <td>0</td>\n",
              "      <td>5</td>\n",
              "      <td>0</td>\n",
              "      <td>1</td>\n",
              "      <td>0</td>\n",
              "      <td>1</td>\n",
              "      <td>0</td>\n",
              "      <td>0</td>\n",
              "      <td>0</td>\n",
              "    </tr>\n",
              "    <tr>\n",
              "      <th>2720</th>\n",
              "      <td>0</td>\n",
              "      <td>0</td>\n",
              "      <td>31.060</td>\n",
              "      <td>0.65</td>\n",
              "      <td>11.0014</td>\n",
              "      <td>2.291586</td>\n",
              "      <td>0.004489</td>\n",
              "      <td>127</td>\n",
              "      <td>7</td>\n",
              "      <td>2011</td>\n",
              "      <td>5</td>\n",
              "      <td>8</td>\n",
              "      <td>1</td>\n",
              "      <td>0</td>\n",
              "      <td>0</td>\n",
              "      <td>1</td>\n",
              "      <td>0</td>\n",
              "      <td>0</td>\n",
              "      <td>0</td>\n",
              "    </tr>\n",
              "    <tr>\n",
              "      <th>2721</th>\n",
              "      <td>0</td>\n",
              "      <td>0</td>\n",
              "      <td>21.210</td>\n",
              "      <td>0.77</td>\n",
              "      <td>19.0012</td>\n",
              "      <td>8.940201</td>\n",
              "      <td>0.015615</td>\n",
              "      <td>84</td>\n",
              "      <td>1</td>\n",
              "      <td>2011</td>\n",
              "      <td>5</td>\n",
              "      <td>12</td>\n",
              "      <td>0</td>\n",
              "      <td>0</td>\n",
              "      <td>0</td>\n",
              "      <td>0</td>\n",
              "      <td>0</td>\n",
              "      <td>0</td>\n",
              "      <td>0</td>\n",
              "    </tr>\n",
              "  </tbody>\n",
              "</table>\n",
              "<p>2722 rows × 19 columns</p>\n",
              "</div>\n",
              "      <button class=\"colab-df-convert\" onclick=\"convertToInteractive('df-32c72536-85ea-4db7-a3ce-9c10862ce1b0')\"\n",
              "              title=\"Convert this dataframe to an interactive table.\"\n",
              "              style=\"display:none;\">\n",
              "        \n",
              "  <svg xmlns=\"http://www.w3.org/2000/svg\" height=\"24px\"viewBox=\"0 0 24 24\"\n",
              "       width=\"24px\">\n",
              "    <path d=\"M0 0h24v24H0V0z\" fill=\"none\"/>\n",
              "    <path d=\"M18.56 5.44l.94 2.06.94-2.06 2.06-.94-2.06-.94-.94-2.06-.94 2.06-2.06.94zm-11 1L8.5 8.5l.94-2.06 2.06-.94-2.06-.94L8.5 2.5l-.94 2.06-2.06.94zm10 10l.94 2.06.94-2.06 2.06-.94-2.06-.94-.94-2.06-.94 2.06-2.06.94z\"/><path d=\"M17.41 7.96l-1.37-1.37c-.4-.4-.92-.59-1.43-.59-.52 0-1.04.2-1.43.59L10.3 9.45l-7.72 7.72c-.78.78-.78 2.05 0 2.83L4 21.41c.39.39.9.59 1.41.59.51 0 1.02-.2 1.41-.59l7.78-7.78 2.81-2.81c.8-.78.8-2.07 0-2.86zM5.41 20L4 18.59l7.72-7.72 1.47 1.35L5.41 20z\"/>\n",
              "  </svg>\n",
              "      </button>\n",
              "      \n",
              "  <style>\n",
              "    .colab-df-container {\n",
              "      display:flex;\n",
              "      flex-wrap:wrap;\n",
              "      gap: 12px;\n",
              "    }\n",
              "\n",
              "    .colab-df-convert {\n",
              "      background-color: #E8F0FE;\n",
              "      border: none;\n",
              "      border-radius: 50%;\n",
              "      cursor: pointer;\n",
              "      display: none;\n",
              "      fill: #1967D2;\n",
              "      height: 32px;\n",
              "      padding: 0 0 0 0;\n",
              "      width: 32px;\n",
              "    }\n",
              "\n",
              "    .colab-df-convert:hover {\n",
              "      background-color: #E2EBFA;\n",
              "      box-shadow: 0px 1px 2px rgba(60, 64, 67, 0.3), 0px 1px 3px 1px rgba(60, 64, 67, 0.15);\n",
              "      fill: #174EA6;\n",
              "    }\n",
              "\n",
              "    [theme=dark] .colab-df-convert {\n",
              "      background-color: #3B4455;\n",
              "      fill: #D2E3FC;\n",
              "    }\n",
              "\n",
              "    [theme=dark] .colab-df-convert:hover {\n",
              "      background-color: #434B5C;\n",
              "      box-shadow: 0px 1px 3px 1px rgba(0, 0, 0, 0.15);\n",
              "      filter: drop-shadow(0px 1px 2px rgba(0, 0, 0, 0.3));\n",
              "      fill: #FFFFFF;\n",
              "    }\n",
              "  </style>\n",
              "\n",
              "      <script>\n",
              "        const buttonEl =\n",
              "          document.querySelector('#df-32c72536-85ea-4db7-a3ce-9c10862ce1b0 button.colab-df-convert');\n",
              "        buttonEl.style.display =\n",
              "          google.colab.kernel.accessAllowed ? 'block' : 'none';\n",
              "\n",
              "        async function convertToInteractive(key) {\n",
              "          const element = document.querySelector('#df-32c72536-85ea-4db7-a3ce-9c10862ce1b0');\n",
              "          const dataTable =\n",
              "            await google.colab.kernel.invokeFunction('convertToInteractive',\n",
              "                                                     [key], {});\n",
              "          if (!dataTable) return;\n",
              "\n",
              "          const docLinkHtml = 'Like what you see? Visit the ' +\n",
              "            '<a target=\"_blank\" href=https://colab.research.google.com/notebooks/data_table.ipynb>data table notebook</a>'\n",
              "            + ' to learn more about interactive tables.';\n",
              "          element.innerHTML = '';\n",
              "          dataTable['output_type'] = 'display_data';\n",
              "          await google.colab.output.renderOutput(dataTable, element);\n",
              "          const docLink = document.createElement('div');\n",
              "          docLink.innerHTML = docLinkHtml;\n",
              "          element.appendChild(docLink);\n",
              "        }\n",
              "      </script>\n",
              "    </div>\n",
              "  </div>\n",
              "  "
            ]
          },
          "metadata": {},
          "execution_count": 112
        }
      ],
      "source": [
        "df_test"
      ]
    },
    {
      "cell_type": "markdown",
      "metadata": {
        "id": "HSYio8eiR0iV"
      },
      "source": [
        "Just before moving on, let's look at the correlation table between the features after the preprocessing"
      ]
    },
    {
      "cell_type": "code",
      "execution_count": null,
      "metadata": {
        "id": "a2OsDA7NRPBX"
      },
      "outputs": [],
      "source": [
        "corr = df_copy.corr()"
      ]
    },
    {
      "cell_type": "code",
      "execution_count": null,
      "metadata": {
        "id": "oh_4aYF7RsRJ",
        "colab": {
          "base_uri": "https://localhost:8080/"
        },
        "outputId": "d01ab351-4871-4e94-8c19-5e4556a52e98"
      },
      "outputs": [
        {
          "output_type": "execute_result",
          "data": {
            "text/plain": [
              "<matplotlib.axes._subplots.AxesSubplot at 0x7fecaaeb6580>"
            ]
          },
          "metadata": {},
          "execution_count": 114
        },
        {
          "output_type": "display_data",
          "data": {
            "text/plain": [
              "<Figure size 1440x1440 with 2 Axes>"
            ],
            "image/png": "[encoded data removed]"
          },
          "metadata": {}
        }
      ],
      "source": [
        "mask = np.zeros_like(corr, dtype=bool)\n",
        "mask[np.triu_indices_from(mask, k=1)] = True\n",
        "\n",
        "fig, ax = plt.subplots(figsize=(20, 20))\n",
        "plt.title('Pearson Correlation Heatmap', fontsize=23)\n",
        "\n",
        "sns.heatmap(corr, linewidths=0.25, vmax=1.0, square=True, cmap=\"PRGn\", annot=True, mask=mask)"
      ]
    },
    {
      "cell_type": "markdown",
      "metadata": {
        "id": "JEVOTtjuVA8d"
      },
      "source": [
        "From the updated correlation table, it can be seen that there is a correlation between season 4 and the month and also between season 3 and temperature. Therefore we will decide to remove the variables season 3 and season 4.\n"
      ]
    },
    {
      "cell_type": "code",
      "execution_count": null,
      "metadata": {
        "id": "cWbuOAnoNUKO"
      },
      "outputs": [],
      "source": [
        "#removing unwanted features:\n",
        "remove_features =  ['season_2', 'season_3', 'season_4']\n",
        "\n",
        "#for the train\n",
        "remove_excess_features(df_copy, remove_features)\n",
        "#for the test\n",
        "remove_excess_features(df_test, remove_features)"
      ]
    },
    {
      "cell_type": "markdown",
      "metadata": {
        "id": "OGAdTMkvnCfW"
      },
      "source": [
        "# split the dataframe\n",
        "count is our target (the number of bike rented) so we'll split the dataframe to two numpy parts:"
      ]
    },
    {
      "cell_type": "code",
      "execution_count": null,
      "metadata": {
        "id": "jwyZUM9Nm9Br"
      },
      "outputs": [],
      "source": [
        "Y = np.array(df_copy.pop('count'))\n",
        "X = np.array(df_copy)\n"
      ]
    },
    {
      "cell_type": "markdown",
      "metadata": {
        "id": "VGPsOFo13CTY"
      },
      "source": [
        "spliting the train data to train and validation :"
      ]
    },
    {
      "cell_type": "code",
      "execution_count": null,
      "metadata": {
        "id": "l6D1zLDn3HTu"
      },
      "outputs": [],
      "source": [
        "x_train, x_val, y_train, y_val = train_test_split(X, Y, test_size=0.2, random_state=42)\n",
        "\n",
        "#print(x_train.shape)\n",
        "#print(x_test.shape)"
      ]
    },
    {
      "cell_type": "markdown",
      "metadata": {
        "id": "VcVBHXCeQfNk"
      },
      "source": [
        "# Training the models"
      ]
    },
    {
      "cell_type": "markdown",
      "metadata": {
        "id": "WzqHMkHkx5hr"
      },
      "source": [
        "\n",
        "\n",
        "Those are the model we'll train:\n",
        "\n",
        "*   Linear regression\n",
        "*   Decision tree\n",
        "*   Random forest\n",
        "\n",
        "\n",
        "\n"
      ]
    },
    {
      "cell_type": "code",
      "execution_count": null,
      "metadata": {
        "id": "GPJgeUCy3xyS"
      },
      "outputs": [],
      "source": [
        "#creating a dictionary to collect the result of each model\n",
        "models = {'Linear regression': None,\n",
        "          'Decision tree': None,\n",
        "          'Random forest': None}"
      ]
    },
    {
      "cell_type": "markdown",
      "metadata": {
        "id": "vIMKD0ti4aRF"
      },
      "source": [
        "# Linear regression"
      ]
    },
    {
      "cell_type": "code",
      "execution_count": null,
      "metadata": {
        "id": "YFIDDSvx4dHE"
      },
      "outputs": [],
      "source": [
        "def run_linear_regression(x_train, y_train):\n",
        "  t0 = t.time()\n",
        "  reg = LinearRegression()\n",
        "  reg.fit(x_train, np.ravel(y_train))\n",
        "  cv_score = cross_val_score(reg, x_train, y_train, scoring='neg_root_mean_squared_error', cv=3)\n",
        "  print(f'Runtime: {round(t.time()-t0,2)} seconds')\n",
        "  return reg, cv_score"
      ]
    },
    {
      "cell_type": "markdown",
      "metadata": {
        "id": "S_JbY-j-Ikhy"
      },
      "source": [
        "#Decision Tree"
      ]
    },
    {
      "cell_type": "code",
      "execution_count": null,
      "metadata": {
        "id": "LrhbCd9BInWs"
      },
      "outputs": [],
      "source": [
        "def run_decision_tree(x_train, y_train):\n",
        "  #for displaying the runtime\n",
        "  t0 = t.time()\n",
        "  dt = DecisionTreeRegressor(random_state=42)\n",
        "  tuned_dt = GridSearchCV(estimator=dt, \n",
        "                          param_grid={'max_depth':[1, 2, 5, 10], \n",
        "                                      'max_features': ['auto', 'sqrt', 'log2', 1/3]},\n",
        "                          scoring='neg_root_mean_squared_error',\n",
        "                          cv=3, \n",
        "                          verbose=3)\n",
        "  tuned_dt.fit(x_train, y_train)\n",
        "  print(f'Runtime: {round(t.time()-t0,2)} seconds')\n",
        "  return tuned_dt"
      ]
    },
    {
      "cell_type": "markdown",
      "metadata": {
        "id": "8wr6_0W4FmSi"
      },
      "source": [
        "# Random Forest"
      ]
    },
    {
      "cell_type": "code",
      "execution_count": null,
      "metadata": {
        "id": "4p-25CZQxMEH"
      },
      "outputs": [],
      "source": [
        "def run_random_forest(x_train, y_train):\n",
        "  t0 = t.time()\n",
        "  rf = RandomForestRegressor(n_estimators=120, random_state=42)\n",
        "  tuned_rf = GridSearchCV(estimator=rf, \n",
        "                          param_grid={'max_features': ['auto', 'sqrt', 'log2', 1/3]},\n",
        "                          scoring='neg_root_mean_squared_error',\n",
        "                          cv=3, \n",
        "                          verbose=3,\n",
        "                          refit=True)\n",
        "  tuned_rf.fit(x_train, y_train)\n",
        "  print(f'Runtime: {round(t.time()-t0,2)} seconds')\n",
        "  return tuned_rf"
      ]
    },
    {
      "cell_type": "markdown",
      "metadata": {
        "id": "rnxdi2b05Ahy"
      },
      "source": [
        "# Train and fit the models"
      ]
    },
    {
      "cell_type": "code",
      "execution_count": null,
      "metadata": {
        "id": "7tTDpmVx5I66"
      },
      "outputs": [],
      "source": [
        "def run_all_models(x, y):\n",
        "  models_dict = {}\n",
        "  models_dict['Linear regression'] = run_linear_regression(x, y)\n",
        "  models_dict['Decision tree'] = run_decision_tree(x, y)\n",
        "  models_dict['Random forest'] = run_random_forest(x, y)\n",
        "  return models_dict"
      ]
    },
    {
      "cell_type": "code",
      "execution_count": null,
      "metadata": {
        "id": "2J5h6xJX5Qi1",
        "colab": {
          "base_uri": "https://localhost:8080/"
        },
        "outputId": "20a65a54-45f1-40a9-f834-370e4f517ddb"
      },
      "outputs": [
        {
          "output_type": "stream",
          "name": "stdout",
          "text": [
            "Runtime: 0.07 seconds\n",
            "Fitting 3 folds for each of 16 candidates, totalling 48 fits\n",
            "[CV 1/3] END .max_depth=1, max_features=auto;, score=-150.841 total time=   0.0s\n",
            "[CV 2/3] END .max_depth=1, max_features=auto;, score=-149.253 total time=   0.0s\n",
            "[CV 3/3] END .max_depth=1, max_features=auto;, score=-149.260 total time=   0.0s\n",
            "[CV 1/3] END .max_depth=1, max_features=sqrt;, score=-175.071 total time=   0.0s\n",
            "[CV 2/3] END .max_depth=1, max_features=sqrt;, score=-173.963 total time=   0.0s\n",
            "[CV 3/3] END .max_depth=1, max_features=sqrt;, score=-176.641 total time=   0.0s\n",
            "[CV 1/3] END .max_depth=1, max_features=log2;, score=-175.071 total time=   0.0s\n",
            "[CV 2/3] END .max_depth=1, max_features=log2;, score=-173.963 total time=   0.0s\n",
            "[CV 3/3] END .max_depth=1, max_features=log2;, score=-176.641 total time=   0.0s\n",
            "[CV 1/3] END max_depth=1, max_features=0.3333333333333333;, score=-158.236 total time=   0.0s\n",
            "[CV 2/3] END max_depth=1, max_features=0.3333333333333333;, score=-156.803 total time=   0.0s\n",
            "[CV 3/3] END max_depth=1, max_features=0.3333333333333333;, score=-159.125 total time=   0.0s\n",
            "[CV 1/3] END .max_depth=2, max_features=auto;, score=-133.641 total time=   0.0s\n",
            "[CV 2/3] END .max_depth=2, max_features=auto;, score=-133.644 total time=   0.0s\n",
            "[CV 3/3] END .max_depth=2, max_features=auto;, score=-135.164 total time=   0.0s\n",
            "[CV 1/3] END .max_depth=2, max_features=sqrt;, score=-143.349 total time=   0.0s\n",
            "[CV 2/3] END .max_depth=2, max_features=sqrt;, score=-139.891 total time=   0.0s\n",
            "[CV 3/3] END .max_depth=2, max_features=sqrt;, score=-142.521 total time=   0.0s\n",
            "[CV 1/3] END .max_depth=2, max_features=log2;, score=-143.349 total time=   0.0s\n",
            "[CV 2/3] END .max_depth=2, max_features=log2;, score=-139.891 total time=   0.0s\n",
            "[CV 3/3] END .max_depth=2, max_features=log2;, score=-142.521 total time=   0.0s\n",
            "[CV 1/3] END max_depth=2, max_features=0.3333333333333333;, score=-149.355 total time=   0.0s\n",
            "[CV 2/3] END max_depth=2, max_features=0.3333333333333333;, score=-150.213 total time=   0.0s\n",
            "[CV 3/3] END max_depth=2, max_features=0.3333333333333333;, score=-153.071 total time=   0.0s\n",
            "[CV 1/3] END .max_depth=5, max_features=auto;, score=-101.778 total time=   0.0s\n",
            "[CV 2/3] END ..max_depth=5, max_features=auto;, score=-98.970 total time=   0.0s\n",
            "[CV 3/3] END .max_depth=5, max_features=auto;, score=-103.449 total time=   0.0s\n",
            "[CV 1/3] END .max_depth=5, max_features=sqrt;, score=-114.186 total time=   0.0s\n",
            "[CV 2/3] END .max_depth=5, max_features=sqrt;, score=-111.210 total time=   0.0s\n",
            "[CV 3/3] END .max_depth=5, max_features=sqrt;, score=-113.067 total time=   0.0s\n",
            "[CV 1/3] END .max_depth=5, max_features=log2;, score=-114.186 total time=   0.0s\n",
            "[CV 2/3] END .max_depth=5, max_features=log2;, score=-111.210 total time=   0.0s\n",
            "[CV 3/3] END .max_depth=5, max_features=log2;, score=-113.067 total time=   0.0s\n",
            "[CV 1/3] END max_depth=5, max_features=0.3333333333333333;, score=-104.686 total time=   0.0s\n",
            "[CV 2/3] END max_depth=5, max_features=0.3333333333333333;, score=-102.915 total time=   0.0s\n",
            "[CV 3/3] END max_depth=5, max_features=0.3333333333333333;, score=-110.806 total time=   0.0s\n",
            "[CV 1/3] END .max_depth=10, max_features=auto;, score=-80.217 total time=   0.0s\n",
            "[CV 2/3] END .max_depth=10, max_features=auto;, score=-78.286 total time=   0.0s\n",
            "[CV 3/3] END .max_depth=10, max_features=auto;, score=-83.172 total time=   0.0s\n",
            "[CV 1/3] END .max_depth=10, max_features=sqrt;, score=-90.747 total time=   0.0s\n",
            "[CV 2/3] END .max_depth=10, max_features=sqrt;, score=-88.378 total time=   0.0s\n",
            "[CV 3/3] END .max_depth=10, max_features=sqrt;, score=-91.811 total time=   0.0s\n",
            "[CV 1/3] END .max_depth=10, max_features=log2;, score=-90.747 total time=   0.0s\n",
            "[CV 2/3] END .max_depth=10, max_features=log2;, score=-88.378 total time=   0.0s\n",
            "[CV 3/3] END .max_depth=10, max_features=log2;, score=-91.811 total time=   0.0s\n",
            "[CV 1/3] END max_depth=10, max_features=0.3333333333333333;, score=-82.308 total time=   0.0s\n",
            "[CV 2/3] END max_depth=10, max_features=0.3333333333333333;, score=-83.388 total time=   0.0s\n",
            "[CV 3/3] END max_depth=10, max_features=0.3333333333333333;, score=-86.883 total time=   0.0s\n",
            "Runtime: 0.45 seconds\n",
            "Fitting 3 folds for each of 4 candidates, totalling 12 fits\n",
            "[CV 1/3] END ...............max_features=auto;, score=-54.361 total time=   2.5s\n",
            "[CV 2/3] END ...............max_features=auto;, score=-52.351 total time=   2.4s\n",
            "[CV 3/3] END ...............max_features=auto;, score=-54.060 total time=   2.4s\n",
            "[CV 1/3] END ...............max_features=sqrt;, score=-55.916 total time=   1.0s\n",
            "[CV 2/3] END ...............max_features=sqrt;, score=-56.660 total time=   1.0s\n",
            "[CV 3/3] END ...............max_features=sqrt;, score=-57.600 total time=   0.9s\n",
            "[CV 1/3] END ...............max_features=log2;, score=-55.916 total time=   1.0s\n",
            "[CV 2/3] END ...............max_features=log2;, score=-56.660 total time=   1.0s\n",
            "[CV 3/3] END ...............max_features=log2;, score=-57.600 total time=   1.0s\n",
            "[CV 1/3] END .max_features=0.3333333333333333;, score=-55.189 total time=   1.1s\n",
            "[CV 2/3] END .max_features=0.3333333333333333;, score=-55.170 total time=   1.1s\n",
            "[CV 3/3] END .max_features=0.3333333333333333;, score=-56.069 total time=   1.1s\n",
            "Runtime: 19.89 seconds\n"
          ]
        }
      ],
      "source": [
        "y_train = pd.DataFrame(y_train)\n",
        "models = run_all_models(x_train, y_train.values.ravel())\n"
      ]
    },
    {
      "cell_type": "markdown",
      "metadata": {
        "id": "v3lxAelo5ZEV"
      },
      "source": [
        "# Let's take a view on the current results of each model:"
      ]
    },
    {
      "cell_type": "code",
      "execution_count": null,
      "metadata": {
        "id": "agTnQbD65UPI",
        "colab": {
          "base_uri": "https://localhost:8080/"
        },
        "outputId": "660a7aba-31d2-4cd6-90d1-32455b85529c"
      },
      "outputs": [
        {
          "output_type": "execute_result",
          "data": {
            "text/plain": [
              "{'Linear regression': (LinearRegression(),\n",
              "  array([ -98.64316665,  -99.02472547, -101.75548538])),\n",
              " 'Decision tree': GridSearchCV(cv=3, estimator=DecisionTreeRegressor(random_state=42),\n",
              "              param_grid={'max_depth': [1, 2, 5, 10],\n",
              "                          'max_features': ['auto', 'sqrt', 'log2',\n",
              "                                           0.3333333333333333]},\n",
              "              scoring='neg_root_mean_squared_error', verbose=3),\n",
              " 'Random forest': GridSearchCV(cv=3,\n",
              "              estimator=RandomForestRegressor(n_estimators=120, random_state=42),\n",
              "              param_grid={'max_features': ['auto', 'sqrt', 'log2',\n",
              "                                           0.3333333333333333]},\n",
              "              scoring='neg_root_mean_squared_error', verbose=3)}"
            ]
          },
          "metadata": {},
          "execution_count": 124
        }
      ],
      "source": [
        "models"
      ]
    },
    {
      "cell_type": "markdown",
      "metadata": {
        "id": "NfnaPb--c-pT"
      },
      "source": [
        "# Models comparison"
      ]
    },
    {
      "cell_type": "code",
      "execution_count": null,
      "metadata": {
        "id": "aQ7R0f6S5YSX",
        "colab": {
          "base_uri": "https://localhost:8080/"
        },
        "outputId": "426c6235-3004-41f1-d5a5-3dd34ae7040c"
      },
      "outputs": [
        {
          "output_type": "execute_result",
          "data": {
            "text/plain": [
              "{'Linear regression': -99.80779249949558,\n",
              " 'Decision tree': -80.55848789115896,\n",
              " 'Random forest': -53.59084644643486}"
            ]
          },
          "metadata": {},
          "execution_count": 125
        }
      ],
      "source": [
        "cv_scores = {}\n",
        "cv_scores['Linear regression'] =  models['Linear regression'][1].mean()\n",
        "cv_scores['Decision tree'] = models['Decision tree'].best_score_\n",
        "cv_scores['Random forest'] = models['Random forest'].best_score_\n",
        "\n",
        "cv_scores"
      ]
    },
    {
      "cell_type": "code",
      "execution_count": null,
      "metadata": {
        "id": "RJwoz4s_5X-U",
        "colab": {
          "base_uri": "https://localhost:8080/"
        },
        "outputId": "f37ceb31-b964-4a22-912d-a7576f94621d"
      },
      "outputs": [
        {
          "output_type": "execute_result",
          "data": {
            "text/plain": [
              "<matplotlib.axes._subplots.AxesSubplot at 0x7fecab261850>"
            ]
          },
          "metadata": {},
          "execution_count": 126
        },
        {
          "output_type": "display_data",
          "data": {
            "text/plain": [
              "<Figure size 432x288 with 1 Axes>"
            ],
            "image/png": "[encoded data removed]"
          },
          "metadata": {}
        }
      ],
      "source": [
        "sns.set()\n",
        "cv_scores_df = -pd.DataFrame.from_dict(cv_scores, orient='index')\n",
        "cv_scores_df.plot.bar(rot=45, legend=False, color=\"purple\")"
      ]
    },
    {
      "cell_type": "markdown",
      "metadata": {
        "id": "Pwrz0PZCccaG"
      },
      "source": [
        "From the results above, it can be seen that the random forest model has the lowest error. In order to try to improve the results of the models, we'll try to analyze the features that contribute the most to the current models in order to find the optimal features to each model."
      ]
    },
    {
      "cell_type": "markdown",
      "metadata": {
        "id": "uXQnFVH3aGdZ"
      },
      "source": [
        "# We'll check which feature have the most significant influence for each model in order to improve the results"
      ]
    },
    {
      "cell_type": "markdown",
      "metadata": {
        "id": "p4AoClfoT4bN"
      },
      "source": [
        "**Decision tree feature importance:**"
      ]
    },
    {
      "cell_type": "code",
      "execution_count": null,
      "metadata": {
        "id": "KBeu7SFR4kbK",
        "colab": {
          "base_uri": "https://localhost:8080/"
        },
        "outputId": "a475ac2c-c908-4113-afa0-3d95e5078063"
      },
      "outputs": [
        {
          "output_type": "execute_result",
          "data": {
            "text/plain": [
              "{'max_depth': 10, 'max_features': 'auto'}"
            ]
          },
          "metadata": {},
          "execution_count": 127
        }
      ],
      "source": [
        "models['Decision tree'].best_params_"
      ]
    },
    {
      "cell_type": "code",
      "execution_count": null,
      "metadata": {
        "id": "CeNa-WbPbJDY"
      },
      "outputs": [],
      "source": [
        "feature_importance_dict = {}\n",
        "\n",
        "best_tree = DecisionTreeRegressor(max_depth=10, max_features=\"auto\")\n",
        "best_tree.fit(x_train, y_train)\n",
        "tree_features = best_tree.feature_importances_\n",
        "\n",
        "feature_importance_dict[\"Decision tree\"] = tree_features"
      ]
    },
    {
      "cell_type": "code",
      "execution_count": null,
      "metadata": {
        "id": "a1w5MNIubXx_",
        "colab": {
          "base_uri": "https://localhost:8080/"
        },
        "outputId": "3ee34ec5-8eeb-4352-b271-27efec8e1d3b"
      },
      "outputs": [
        {
          "output_type": "display_data",
          "data": {
            "text/plain": [
              "<Figure size 720x504 with 1 Axes>"
            ],
            "image/png": "[encoded data removed]"
          },
          "metadata": {}
        }
      ],
      "source": [
        "sorted_tree_features_importance = np.argsort(tree_features)[::-1]\n",
        "\n",
        "plt.figure(figsize=(10,7))\n",
        "plt.title(\"Feature Importance for Decision Tree model\")\n",
        "plt.bar(range(x_train.shape[1]), tree_features[sorted_tree_features_importance], color=\"purple\")\n",
        "plt.xticks(range(x_train.shape[1]), df_copy.columns[sorted_tree_features_importance], rotation='vertical')\n",
        "plt.show()"
      ]
    },
    {
      "cell_type": "markdown",
      "metadata": {
        "id": "tsifUuvGUCvZ"
      },
      "source": [
        "**Random forest feature importance:**"
      ]
    },
    {
      "cell_type": "code",
      "execution_count": null,
      "metadata": {
        "id": "OIkgifRt5xYI",
        "colab": {
          "base_uri": "https://localhost:8080/"
        },
        "outputId": "ed9ee05a-27ee-4227-cc4a-6645f9d544ab"
      },
      "outputs": [
        {
          "output_type": "execute_result",
          "data": {
            "text/plain": [
              "{'max_features': 'auto'}"
            ]
          },
          "metadata": {},
          "execution_count": 130
        }
      ],
      "source": [
        "models['Random forest'].best_params_"
      ]
    },
    {
      "cell_type": "code",
      "execution_count": null,
      "metadata": {
        "id": "TUuSJwbSLOyy"
      },
      "outputs": [],
      "source": [
        "best_rand = RandomForestRegressor(n_estimators=120, max_depth=10, max_features=\"auto\")\n",
        "best_rand.fit(x_train, y_train)\n",
        "forest_features = best_rand.feature_importances_\n"
      ]
    },
    {
      "cell_type": "code",
      "execution_count": null,
      "metadata": {
        "id": "1d4zPp69Phsb",
        "colab": {
          "base_uri": "https://localhost:8080/"
        },
        "outputId": "f243d592-ca4f-4cd2-9b0e-0d8232298127"
      },
      "outputs": [
        {
          "output_type": "display_data",
          "data": {
            "text/plain": [
              "<Figure size 720x504 with 1 Axes>"
            ],
            "image/png": "[encoded data removed]"
          },
          "metadata": {}
        }
      ],
      "source": [
        "sorted_forest_features_importance = np.argsort(forest_features)[::-1]\n",
        "\n",
        "\n",
        "plt.figure(figsize=(10,7))\n",
        "plt.title(\"Feature Importance for Random Forest model\")\n",
        "plt.bar(range(x_train.shape[1]), forest_features[sorted_forest_features_importance], color=\"purple\")\n",
        "plt.xticks(range(x_train.shape[1]), df_copy.columns[sorted_forest_features_importance], rotation='vertical')\n",
        "plt.show()"
      ]
    },
    {
      "cell_type": "markdown",
      "metadata": {
        "id": "owrRS85BhLwc"
      },
      "source": [
        "from the random forest and decision tree it can be seen that the new features we created for the rush hours are among the most significant variables for those models. In addition, it can be seen that the features with the lowest contribution to the model are the weather 2 and 4 and also the holiday feature."
      ]
    },
    {
      "cell_type": "code",
      "execution_count": null,
      "metadata": {
        "id": "aQi36V58zOqL",
        "colab": {
          "base_uri": "https://localhost:8080/"
        },
        "outputId": "63941608-9aed-43f4-8ee4-292d1d0881c0"
      },
      "outputs": [
        {
          "output_type": "execute_result",
          "data": {
            "text/plain": [
              "{'Random forest': RandomForestRegressor(n_estimators=120, random_state=42),\n",
              " 'Decision tree': DecisionTreeRegressor(max_depth=10, max_features='auto', random_state=42),\n",
              " 'Linear regression': LinearRegression()}"
            ]
          },
          "metadata": {},
          "execution_count": 133
        }
      ],
      "source": [
        "def evaluate_single_model(x, y, model):\n",
        "  y_pred = model.predict(x)\n",
        "  return mean_squared_error(y, y_pred)\n",
        "\n",
        "def evaluate_all_models(x, y, models_dict):\n",
        "  test_set_scores = {}\n",
        "  for k, v in models_dict.items():\n",
        "    test_set_scores[k] = evaluate_single_model(x, y, v)\n",
        "  return test_set_scores\n",
        "\n",
        "\n",
        "trained_models_dict = {}\n",
        "trained_models_dict['Random forest'] = models['Random forest'].best_estimator_\n",
        "trained_models_dict['Decision tree'] = models['Decision tree'].best_estimator_\n",
        "trained_models_dict['Linear regression'] = models['Linear regression'][0]\n",
        "trained_models_dict"
      ]
    },
    {
      "cell_type": "code",
      "execution_count": null,
      "metadata": {
        "id": "maUS8OXh0PjM",
        "colab": {
          "base_uri": "https://localhost:8080/"
        },
        "outputId": "d8886587-4c26-4fd7-b474-a2e99236dac0"
      },
      "outputs": [
        {
          "output_type": "execute_result",
          "data": {
            "text/plain": [
              "{'Random forest': 2635.7238848489487,\n",
              " 'Decision tree': 5752.328822762125,\n",
              " 'Linear regression': 10445.970453916547}"
            ]
          },
          "metadata": {},
          "execution_count": 134
        }
      ],
      "source": [
        "evaluate_all_models(x_val, y_val, trained_models_dict)"
      ]
    },
    {
      "cell_type": "markdown",
      "metadata": {
        "id": "M6VErQ0gUPm0"
      },
      "source": [
        "**Estimation for feature importance for linear regression:**"
      ]
    },
    {
      "cell_type": "code",
      "execution_count": null,
      "metadata": {
        "id": "S6chjcQSdH7t",
        "colab": {
          "base_uri": "https://localhost:8080/"
        },
        "outputId": "7730a939-6e6e-44e2-dc58-a0441938cc4d"
      },
      "outputs": [
        {
          "output_type": "stream",
          "name": "stdout",
          "text": [
            "[-9.03187389e+00  4.22729872e+00  4.56132938e+00 -1.05590330e+02\n",
            " -8.29914146e-02  7.19903362e-01  9.00372100e+01  6.12175091e+00\n",
            "  6.90085355e+01  4.82387615e-01 -1.81550954e+00  1.62674019e+02\n",
            " -1.51619771e+02 -3.99044088e+00 -3.98166340e+01 -1.53744056e+02]\n"
          ]
        },
        {
          "output_type": "display_data",
          "data": {
            "text/plain": [
              "<Figure size 1440x720 with 1 Axes>"
            ],
            "image/png": "[encoded data removed]"
          },
          "metadata": {}
        }
      ],
      "source": [
        "# get importance\n",
        "lr_importance = trained_models_dict['Linear regression'].coef_\n",
        "\n",
        "print(lr_importance)\n",
        "\n",
        "\n",
        "# plot feature importance\n",
        "fig = plt.subplots(figsize=(20,10))\n",
        "plt.bar(df_copy.columns, np.sort(lr_importance), color=\"purple\")\n",
        "plt.show()"
      ]
    },
    {
      "cell_type": "markdown",
      "metadata": {
        "id": "lsSUXRHZjZDU"
      },
      "source": [
        "From the graph of the coefficients of the linear regression, it can be estimated that the features traffic load, air pollution, and the weather have the lowest impact on the result."
      ]
    },
    {
      "cell_type": "markdown",
      "metadata": {
        "id": "VXLjFn6zj9Fo"
      },
      "source": [
        "**Now we'll try to run the models only with the most significant features for each model**"
      ]
    },
    {
      "cell_type": "code",
      "execution_count": null,
      "metadata": {
        "id": "ZEJSbKqWptfB",
        "colab": {
          "base_uri": "https://localhost:8080/"
        },
        "outputId": "ebaa91cb-ce82-451c-f92a-7df15aa98c28"
      },
      "outputs": [
        {
          "output_type": "execute_result",
          "data": {
            "text/plain": [
              "{'Decision tree': array([10,  5, 11,  8,  2,  7,  1,  3,  9, 14,  4,  6]),\n",
              " 'Random forest': array([10, 12,  5, 11,  2,  8,  1,  7,  3,  9, 14,  4]),\n",
              " 'Linear regression': array([ 0,  1,  2,  3, -3, -2, -1])}"
            ]
          },
          "metadata": {},
          "execution_count": 136
        }
      ],
      "source": [
        "best_features_dict = {}\n",
        "\n",
        "best_features_dict['Decision tree'] = sorted_tree_features_importance[:12] #taking best features, after trying different slicingd\n",
        "best_features_dict['Random forest'] = sorted_forest_features_importance[:12] #taking best features, after trying different slicingd\n",
        "best_features_dict['Linear regression'] = np.array([0, 1, 2, 3, -3, -2, -1])\n",
        "# in linear regression we are taking the features with highest and lowest coefficients, because they are the ones effecting the model the most\n",
        "\n",
        "best_features_dict"
      ]
    },
    {
      "cell_type": "markdown",
      "metadata": {
        "id": "6Ji3oOR42ycV"
      },
      "source": [
        "# Now we'll Train the models with the most significant features we've found above "
      ]
    },
    {
      "cell_type": "code",
      "execution_count": null,
      "metadata": {
        "id": "Fod3OmHMnYyU",
        "colab": {
          "base_uri": "https://localhost:8080/"
        },
        "outputId": "5c082fd4-4ff4-4673-c463-a75dda5d2cff"
      },
      "outputs": [
        {
          "output_type": "stream",
          "name": "stdout",
          "text": [
            "Runtime: 0.05 seconds\n",
            "Fitting 3 folds for each of 16 candidates, totalling 48 fits\n",
            "[CV 1/3] END .max_depth=1, max_features=auto;, score=-150.841 total time=   0.0s\n",
            "[CV 2/3] END .max_depth=1, max_features=auto;, score=-149.253 total time=   0.0s\n",
            "[CV 3/3] END .max_depth=1, max_features=auto;, score=-149.260 total time=   0.0s\n",
            "[CV 1/3] END .max_depth=1, max_features=sqrt;, score=-168.717 total time=   0.0s\n",
            "[CV 2/3] END .max_depth=1, max_features=sqrt;, score=-168.597 total time=   0.0s\n",
            "[CV 3/3] END .max_depth=1, max_features=sqrt;, score=-170.197 total time=   0.0s\n",
            "[CV 1/3] END .max_depth=1, max_features=log2;, score=-168.717 total time=   0.0s\n",
            "[CV 2/3] END .max_depth=1, max_features=log2;, score=-168.597 total time=   0.0s\n",
            "[CV 3/3] END .max_depth=1, max_features=log2;, score=-170.197 total time=   0.0s\n",
            "[CV 1/3] END max_depth=1, max_features=0.3333333333333333;, score=-168.717 total time=   0.0s\n",
            "[CV 2/3] END max_depth=1, max_features=0.3333333333333333;, score=-168.597 total time=   0.0s\n",
            "[CV 3/3] END max_depth=1, max_features=0.3333333333333333;, score=-170.197 total time=   0.0s\n",
            "[CV 1/3] END .max_depth=2, max_features=auto;, score=-133.641 total time=   0.0s\n",
            "[CV 2/3] END .max_depth=2, max_features=auto;, score=-133.644 total time=   0.0s\n",
            "[CV 3/3] END .max_depth=2, max_features=auto;, score=-135.164 total time=   0.0s\n",
            "[CV 1/3] END .max_depth=2, max_features=sqrt;, score=-153.352 total time=   0.0s\n",
            "[CV 2/3] END .max_depth=2, max_features=sqrt;, score=-155.802 total time=   0.0s\n",
            "[CV 3/3] END .max_depth=2, max_features=sqrt;, score=-155.326 total time=   0.0s\n",
            "[CV 1/3] END .max_depth=2, max_features=log2;, score=-153.352 total time=   0.0s\n",
            "[CV 2/3] END .max_depth=2, max_features=log2;, score=-155.802 total time=   0.0s\n",
            "[CV 3/3] END .max_depth=2, max_features=log2;, score=-155.326 total time=   0.0s\n",
            "[CV 1/3] END max_depth=2, max_features=0.3333333333333333;, score=-144.418 total time=   0.0s\n",
            "[CV 2/3] END max_depth=2, max_features=0.3333333333333333;, score=-142.818 total time=   0.0s\n",
            "[CV 3/3] END max_depth=2, max_features=0.3333333333333333;, score=-145.042 total time=   0.0s\n",
            "[CV 1/3] END .max_depth=5, max_features=auto;, score=-101.771 total time=   0.0s\n",
            "[CV 2/3] END ..max_depth=5, max_features=auto;, score=-98.970 total time=   0.0s\n",
            "[CV 3/3] END .max_depth=5, max_features=auto;, score=-103.454 total time=   0.0s\n",
            "[CV 1/3] END .max_depth=5, max_features=sqrt;, score=-118.380 total time=   0.0s\n",
            "[CV 2/3] END .max_depth=5, max_features=sqrt;, score=-120.565 total time=   0.0s\n",
            "[CV 3/3] END .max_depth=5, max_features=sqrt;, score=-123.075 total time=   0.0s\n",
            "[CV 1/3] END .max_depth=5, max_features=log2;, score=-118.380 total time=   0.0s\n",
            "[CV 2/3] END .max_depth=5, max_features=log2;, score=-120.565 total time=   0.0s\n",
            "[CV 3/3] END .max_depth=5, max_features=log2;, score=-123.075 total time=   0.0s\n",
            "[CV 1/3] END max_depth=5, max_features=0.3333333333333333;, score=-107.448 total time=   0.0s\n",
            "[CV 2/3] END max_depth=5, max_features=0.3333333333333333;, score=-96.788 total time=   0.0s\n",
            "[CV 3/3] END max_depth=5, max_features=0.3333333333333333;, score=-107.071 total time=   0.0s\n",
            "[CV 1/3] END .max_depth=10, max_features=auto;, score=-80.031 total time=   0.0s\n",
            "[CV 2/3] END .max_depth=10, max_features=auto;, score=-76.265 total time=   0.0s\n",
            "[CV 3/3] END .max_depth=10, max_features=auto;, score=-82.244 total time=   0.0s\n",
            "[CV 1/3] END .max_depth=10, max_features=sqrt;, score=-96.481 total time=   0.0s\n",
            "[CV 2/3] END max_depth=10, max_features=sqrt;, score=-108.152 total time=   0.0s\n",
            "[CV 3/3] END max_depth=10, max_features=sqrt;, score=-112.761 total time=   0.0s\n",
            "[CV 1/3] END .max_depth=10, max_features=log2;, score=-96.481 total time=   0.0s\n",
            "[CV 2/3] END max_depth=10, max_features=log2;, score=-108.152 total time=   0.0s\n",
            "[CV 3/3] END max_depth=10, max_features=log2;, score=-112.761 total time=   0.0s\n",
            "[CV 1/3] END max_depth=10, max_features=0.3333333333333333;, score=-86.441 total time=   0.0s\n",
            "[CV 2/3] END max_depth=10, max_features=0.3333333333333333;, score=-81.277 total time=   0.0s\n",
            "[CV 3/3] END max_depth=10, max_features=0.3333333333333333;, score=-102.342 total time=   0.0s\n",
            "Runtime: 0.61 seconds\n",
            "Fitting 3 folds for each of 4 candidates, totalling 12 fits\n",
            "[CV 1/3] END ...............max_features=auto;, score=-53.849 total time=   2.2s\n",
            "[CV 2/3] END ...............max_features=auto;, score=-51.632 total time=   2.2s\n",
            "[CV 3/3] END ...............max_features=auto;, score=-52.842 total time=   2.2s\n",
            "[CV 1/3] END ...............max_features=sqrt;, score=-55.567 total time=   0.9s\n",
            "[CV 2/3] END ...............max_features=sqrt;, score=-56.091 total time=   0.9s\n",
            "[CV 3/3] END ...............max_features=sqrt;, score=-57.870 total time=   0.9s\n",
            "[CV 1/3] END ...............max_features=log2;, score=-55.567 total time=   0.9s\n",
            "[CV 2/3] END ...............max_features=log2;, score=-56.091 total time=   0.9s\n",
            "[CV 3/3] END ...............max_features=log2;, score=-57.870 total time=   0.9s\n",
            "[CV 1/3] END .max_features=0.3333333333333333;, score=-53.645 total time=   1.1s\n",
            "[CV 2/3] END .max_features=0.3333333333333333;, score=-53.404 total time=   1.0s\n",
            "[CV 3/3] END .max_features=0.3333333333333333;, score=-55.375 total time=   1.0s\n",
            "Runtime: 18.15 seconds\n"
          ]
        }
      ],
      "source": [
        "new_lr = run_linear_regression(x_train[:, best_features_dict['Linear regression']],y_train)\n",
        "new_tree = run_decision_tree(x_train[:, best_features_dict['Decision tree']], y_train)\n",
        "new_forest = run_random_forest(x_train[:, best_features_dict['Random forest']], y_train)\n",
        "\n"
      ]
    },
    {
      "cell_type": "code",
      "execution_count": null,
      "metadata": {
        "id": "yjf57dinwTuB"
      },
      "outputs": [],
      "source": [
        "pred_tree = new_tree.predict(x_val[:, best_features_dict['Decision tree']])\n",
        "pred_forest = new_forest.predict(x_val[:, best_features_dict['Random forest']])\n",
        "pred_lr = new_lr[0].predict(x_val[:, best_features_dict['Linear regression']])"
      ]
    },
    {
      "cell_type": "markdown",
      "metadata": {
        "id": "qJ9reisD2-BA"
      },
      "source": [
        "**Checking new scores**"
      ]
    },
    {
      "cell_type": "code",
      "execution_count": null,
      "metadata": {
        "id": "lOYIFHEQ2PU4",
        "colab": {
          "base_uri": "https://localhost:8080/"
        },
        "outputId": "0c24cfa5-7b98-453b-d393-c74e986d95f9"
      },
      "outputs": [
        {
          "output_type": "execute_result",
          "data": {
            "text/plain": [
              "{GridSearchCV(cv=3, estimator=DecisionTreeRegressor(random_state=42),\n",
              "              param_grid={'max_depth': [1, 2, 5, 10],\n",
              "                          'max_features': ['auto', 'sqrt', 'log2',\n",
              "                                           0.3333333333333333]},\n",
              "              scoring='neg_root_mean_squared_error', verbose=3): 75.12462740481872,\n",
              " GridSearchCV(cv=3,\n",
              "              estimator=RandomForestRegressor(n_estimators=120, random_state=42),\n",
              "              param_grid={'max_features': ['auto', 'sqrt', 'log2',\n",
              "                                           0.3333333333333333]},\n",
              "              scoring='neg_root_mean_squared_error', verbose=3): 50.582603825229114,\n",
              " LinearRegression(): 159.8279811623265}"
            ]
          },
          "metadata": {},
          "execution_count": 139
        }
      ],
      "source": [
        "new_scores = {}\n",
        "\n",
        "new_scores[new_tree] = np.sqrt(mean_squared_error(y_val, pred_tree))\n",
        "new_scores[new_forest] = np.sqrt(mean_squared_error(y_val, pred_forest))\n",
        "new_scores[new_lr[0]] = np.sqrt(mean_squared_error(y_val, pred_lr))\n",
        "\n",
        "new_scores"
      ]
    },
    {
      "cell_type": "code",
      "execution_count": null,
      "metadata": {
        "id": "y8Mx8LMsbqdN",
        "colab": {
          "base_uri": "https://localhost:8080/"
        },
        "outputId": "90747610-8948-4efd-962a-e9961ef7de12"
      },
      "outputs": [
        {
          "output_type": "execute_result",
          "data": {
            "text/plain": [
              "{'Random forest': RandomForestRegressor(n_estimators=120, random_state=42),\n",
              " 'Decision tree': DecisionTreeRegressor(max_depth=10, max_features='auto', random_state=42),\n",
              " 'Linear regression': LinearRegression()}"
            ]
          },
          "metadata": {},
          "execution_count": 140
        }
      ],
      "source": [
        "new_trained_models_dict = {}\n",
        "new_trained_models_dict['Random forest'] = models['Random forest'].best_estimator_\n",
        "new_trained_models_dict['Decision tree'] = models['Decision tree'].best_estimator_\n",
        "new_trained_models_dict['Linear regression'] = models['Linear regression'][0]\n",
        "new_trained_models_dict"
      ]
    },
    {
      "cell_type": "code",
      "execution_count": null,
      "metadata": {
        "id": "z_ye1xk8b2x1",
        "colab": {
          "base_uri": "https://localhost:8080/"
        },
        "outputId": "7192de36-3a66-4994-c1b2-128fb6386cea"
      },
      "outputs": [
        {
          "output_type": "execute_result",
          "data": {
            "text/plain": [
              "{'Random forest': 2635.7238848489487,\n",
              " 'Decision tree': 5752.328822762125,\n",
              " 'Linear regression': 10445.970453916547}"
            ]
          },
          "metadata": {},
          "execution_count": 141
        }
      ],
      "source": [
        "evaluate_all_models(x_val, y_val, new_trained_models_dict)"
      ]
    },
    {
      "cell_type": "markdown",
      "metadata": {
        "id": "tTp0Tmg6BOns"
      },
      "source": [
        "# Evaluating on test set\n",
        "\n",
        "Let's evaluate all models:"
      ]
    },
    {
      "cell_type": "code",
      "execution_count": null,
      "metadata": {
        "id": "FxLngp-Vh3kC",
        "colab": {
          "base_uri": "https://localhost:8080/"
        },
        "outputId": "b72d693b-56cd-44ff-f52e-d32468618a45"
      },
      "outputs": [
        {
          "output_type": "execute_result",
          "data": {
            "text/plain": [
              "(8164, 16)"
            ]
          },
          "metadata": {},
          "execution_count": 142
        }
      ],
      "source": [
        "df_copy.shape"
      ]
    },
    {
      "cell_type": "code",
      "execution_count": null,
      "metadata": {
        "id": "pYWQY3gSt_qa",
        "colab": {
          "base_uri": "https://localhost:8080/"
        },
        "outputId": "5241cc24-ec14-406d-f89d-881cd40303f2"
      },
      "outputs": [
        {
          "output_type": "execute_result",
          "data": {
            "text/plain": [
              "(2722, 16)"
            ]
          },
          "metadata": {},
          "execution_count": 143
        }
      ],
      "source": [
        "df_test.shape"
      ]
    },
    {
      "cell_type": "markdown",
      "metadata": {
        "id": "RyW5QKMrzLrl"
      },
      "source": [
        "We are missing one column, we would like to see which one is missing"
      ]
    },
    {
      "cell_type": "code",
      "execution_count": null,
      "metadata": {
        "id": "vFdRqrN-zLZI",
        "colab": {
          "base_uri": "https://localhost:8080/"
        },
        "outputId": "28b599a0-bc7e-43bc-d4d7-562dddf152ed"
      },
      "outputs": [
        {
          "output_type": "execute_result",
          "data": {
            "text/plain": [
              "      holiday  workingday   atemp  humidity  windspeed   pollution   traffic  \\\n",
              "6560        0           0  13.635      0.80     0.0000   10.820673  0.000000   \n",
              "3754        0           0  13.635      0.80     0.0000   19.189498  0.004489   \n",
              "7767        0           0  14.395      0.75     0.0000    0.133472  0.015615   \n",
              "7272        0           0  12.880      0.75     6.0032    0.014335  0.000000   \n",
              "5381        0           0  13.635      0.80     0.0000    0.096936  0.004489   \n",
              "...       ...         ...     ...       ...        ...         ...       ...   \n",
              "4763        0           1  21.210      0.50    23.9994   19.956957  0.015615   \n",
              "467         0           1  19.695      0.50    23.9994  212.578827  0.004489   \n",
              "4423        0           1  19.695      0.50    26.0027   21.027171  0.015615   \n",
              "3307        0           1  17.425      0.57    15.0013   37.737255  0.004489   \n",
              "6621        0           1  15.910      0.61    15.0013   49.855590  0.000000   \n",
              "\n",
              "      month  year  day  hour  rush_h  offpeak_h  weather_2  weather_3  \\\n",
              "6560      1  2011    5     1       0          1          0          0   \n",
              "3754      1  2011    5     2       0          1          0          0   \n",
              "7767      1  2011    5     4       0          1          0          0   \n",
              "7272      1  2011    5     5       0          1          1          0   \n",
              "5381      1  2011    5     6       0          1          0          0   \n",
              "...     ...   ...  ...   ...     ...        ...        ...        ...   \n",
              "4763     12  2012    2    16       0          0          0          0   \n",
              "467      12  2012    2    18       1          0          0          0   \n",
              "4423     12  2012    2    19       0          0          0          0   \n",
              "3307     12  2012    2    20       0          0          0          0   \n",
              "6621     12  2012    2    21       0          0          0          0   \n",
              "\n",
              "      weather_4  \n",
              "6560          0  \n",
              "3754          0  \n",
              "7767          0  \n",
              "7272          0  \n",
              "5381          0  \n",
              "...         ...  \n",
              "4763          0  \n",
              "467           0  \n",
              "4423          0  \n",
              "3307          0  \n",
              "6621          0  \n",
              "\n",
              "[8164 rows x 16 columns]"
            ],
            "text/html": [
              "\n",
              "  <div id=\"df-e87a1d0a-f8de-4f14-b354-f20d8e1ea0a3\">\n",
              "    <div class=\"colab-df-container\">\n",
              "      <div>\n",
              "<style scoped>\n",
              "    .dataframe tbody tr th:only-of-type {\n",
              "        vertical-align: middle;\n",
              "    }\n",
              "\n",
              "    .dataframe tbody tr th {\n",
              "        vertical-align: top;\n",
              "    }\n",
              "\n",
              "    .dataframe thead th {\n",
              "        text-align: right;\n",
              "    }\n",
              "</style>\n",
              "<table border=\"1\" class=\"dataframe\">\n",
              "  <thead>\n",
              "    <tr style=\"text-align: right;\">\n",
              "      <th></th>\n",
              "      <th>holiday</th>\n",
              "      <th>workingday</th>\n",
              "      <th>atemp</th>\n",
              "      <th>humidity</th>\n",
              "      <th>windspeed</th>\n",
              "      <th>pollution</th>\n",
              "      <th>traffic</th>\n",
              "      <th>month</th>\n",
              "      <th>year</th>\n",
              "      <th>day</th>\n",
              "      <th>hour</th>\n",
              "      <th>rush_h</th>\n",
              "      <th>offpeak_h</th>\n",
              "      <th>weather_2</th>\n",
              "      <th>weather_3</th>\n",
              "      <th>weather_4</th>\n",
              "    </tr>\n",
              "  </thead>\n",
              "  <tbody>\n",
              "    <tr>\n",
              "      <th>6560</th>\n",
              "      <td>0</td>\n",
              "      <td>0</td>\n",
              "      <td>13.635</td>\n",
              "      <td>0.80</td>\n",
              "      <td>0.0000</td>\n",
              "      <td>10.820673</td>\n",
              "      <td>0.000000</td>\n",
              "      <td>1</td>\n",
              "      <td>2011</td>\n",
              "      <td>5</td>\n",
              "      <td>1</td>\n",
              "      <td>0</td>\n",
              "      <td>1</td>\n",
              "      <td>0</td>\n",
              "      <td>0</td>\n",
              "      <td>0</td>\n",
              "    </tr>\n",
              "    <tr>\n",
              "      <th>3754</th>\n",
              "      <td>0</td>\n",
              "      <td>0</td>\n",
              "      <td>13.635</td>\n",
              "      <td>0.80</td>\n",
              "      <td>0.0000</td>\n",
              "      <td>19.189498</td>\n",
              "      <td>0.004489</td>\n",
              "      <td>1</td>\n",
              "      <td>2011</td>\n",
              "      <td>5</td>\n",
              "      <td>2</td>\n",
              "      <td>0</td>\n",
              "      <td>1</td>\n",
              "      <td>0</td>\n",
              "      <td>0</td>\n",
              "      <td>0</td>\n",
              "    </tr>\n",
              "    <tr>\n",
              "      <th>7767</th>\n",
              "      <td>0</td>\n",
              "      <td>0</td>\n",
              "      <td>14.395</td>\n",
              "      <td>0.75</td>\n",
              "      <td>0.0000</td>\n",
              "      <td>0.133472</td>\n",
              "      <td>0.015615</td>\n",
              "      <td>1</td>\n",
              "      <td>2011</td>\n",
              "      <td>5</td>\n",
              "      <td>4</td>\n",
              "      <td>0</td>\n",
              "      <td>1</td>\n",
              "      <td>0</td>\n",
              "      <td>0</td>\n",
              "      <td>0</td>\n",
              "    </tr>\n",
              "    <tr>\n",
              "      <th>7272</th>\n",
              "      <td>0</td>\n",
              "      <td>0</td>\n",
              "      <td>12.880</td>\n",
              "      <td>0.75</td>\n",
              "      <td>6.0032</td>\n",
              "      <td>0.014335</td>\n",
              "      <td>0.000000</td>\n",
              "      <td>1</td>\n",
              "      <td>2011</td>\n",
              "      <td>5</td>\n",
              "      <td>5</td>\n",
              "      <td>0</td>\n",
              "      <td>1</td>\n",
              "      <td>1</td>\n",
              "      <td>0</td>\n",
              "      <td>0</td>\n",
              "    </tr>\n",
              "    <tr>\n",
              "      <th>5381</th>\n",
              "      <td>0</td>\n",
              "      <td>0</td>\n",
              "      <td>13.635</td>\n",
              "      <td>0.80</td>\n",
              "      <td>0.0000</td>\n",
              "      <td>0.096936</td>\n",
              "      <td>0.004489</td>\n",
              "      <td>1</td>\n",
              "      <td>2011</td>\n",
              "      <td>5</td>\n",
              "      <td>6</td>\n",
              "      <td>0</td>\n",
              "      <td>1</td>\n",
              "      <td>0</td>\n",
              "      <td>0</td>\n",
              "      <td>0</td>\n",
              "    </tr>\n",
              "    <tr>\n",
              "      <th>...</th>\n",
              "      <td>...</td>\n",
              "      <td>...</td>\n",
              "      <td>...</td>\n",
              "      <td>...</td>\n",
              "      <td>...</td>\n",
              "      <td>...</td>\n",
              "      <td>...</td>\n",
              "      <td>...</td>\n",
              "      <td>...</td>\n",
              "      <td>...</td>\n",
              "      <td>...</td>\n",
              "      <td>...</td>\n",
              "      <td>...</td>\n",
              "      <td>...</td>\n",
              "      <td>...</td>\n",
              "      <td>...</td>\n",
              "    </tr>\n",
              "    <tr>\n",
              "      <th>4763</th>\n",
              "      <td>0</td>\n",
              "      <td>1</td>\n",
              "      <td>21.210</td>\n",
              "      <td>0.50</td>\n",
              "      <td>23.9994</td>\n",
              "      <td>19.956957</td>\n",
              "      <td>0.015615</td>\n",
              "      <td>12</td>\n",
              "      <td>2012</td>\n",
              "      <td>2</td>\n",
              "      <td>16</td>\n",
              "      <td>0</td>\n",
              "      <td>0</td>\n",
              "      <td>0</td>\n",
              "      <td>0</td>\n",
              "      <td>0</td>\n",
              "    </tr>\n",
              "    <tr>\n",
              "      <th>467</th>\n",
              "      <td>0</td>\n",
              "      <td>1</td>\n",
              "      <td>19.695</td>\n",
              "      <td>0.50</td>\n",
              "      <td>23.9994</td>\n",
              "      <td>212.578827</td>\n",
              "      <td>0.004489</td>\n",
              "      <td>12</td>\n",
              "      <td>2012</td>\n",
              "      <td>2</td>\n",
              "      <td>18</td>\n",
              "      <td>1</td>\n",
              "      <td>0</td>\n",
              "      <td>0</td>\n",
              "      <td>0</td>\n",
              "      <td>0</td>\n",
              "    </tr>\n",
              "    <tr>\n",
              "      <th>4423</th>\n",
              "      <td>0</td>\n",
              "      <td>1</td>\n",
              "      <td>19.695</td>\n",
              "      <td>0.50</td>\n",
              "      <td>26.0027</td>\n",
              "      <td>21.027171</td>\n",
              "      <td>0.015615</td>\n",
              "      <td>12</td>\n",
              "      <td>2012</td>\n",
              "      <td>2</td>\n",
              "      <td>19</td>\n",
              "      <td>0</td>\n",
              "      <td>0</td>\n",
              "      <td>0</td>\n",
              "      <td>0</td>\n",
              "      <td>0</td>\n",
              "    </tr>\n",
              "    <tr>\n",
              "      <th>3307</th>\n",
              "      <td>0</td>\n",
              "      <td>1</td>\n",
              "      <td>17.425</td>\n",
              "      <td>0.57</td>\n",
              "      <td>15.0013</td>\n",
              "      <td>37.737255</td>\n",
              "      <td>0.004489</td>\n",
              "      <td>12</td>\n",
              "      <td>2012</td>\n",
              "      <td>2</td>\n",
              "      <td>20</td>\n",
              "      <td>0</td>\n",
              "      <td>0</td>\n",
              "      <td>0</td>\n",
              "      <td>0</td>\n",
              "      <td>0</td>\n",
              "    </tr>\n",
              "    <tr>\n",
              "      <th>6621</th>\n",
              "      <td>0</td>\n",
              "      <td>1</td>\n",
              "      <td>15.910</td>\n",
              "      <td>0.61</td>\n",
              "      <td>15.0013</td>\n",
              "      <td>49.855590</td>\n",
              "      <td>0.000000</td>\n",
              "      <td>12</td>\n",
              "      <td>2012</td>\n",
              "      <td>2</td>\n",
              "      <td>21</td>\n",
              "      <td>0</td>\n",
              "      <td>0</td>\n",
              "      <td>0</td>\n",
              "      <td>0</td>\n",
              "      <td>0</td>\n",
              "    </tr>\n",
              "  </tbody>\n",
              "</table>\n",
              "<p>8164 rows × 16 columns</p>\n",
              "</div>\n",
              "      <button class=\"colab-df-convert\" onclick=\"convertToInteractive('df-e87a1d0a-f8de-4f14-b354-f20d8e1ea0a3')\"\n",
              "              title=\"Convert this dataframe to an interactive table.\"\n",
              "              style=\"display:none;\">\n",
              "        \n",
              "  <svg xmlns=\"http://www.w3.org/2000/svg\" height=\"24px\"viewBox=\"0 0 24 24\"\n",
              "       width=\"24px\">\n",
              "    <path d=\"M0 0h24v24H0V0z\" fill=\"none\"/>\n",
              "    <path d=\"M18.56 5.44l.94 2.06.94-2.06 2.06-.94-2.06-.94-.94-2.06-.94 2.06-2.06.94zm-11 1L8.5 8.5l.94-2.06 2.06-.94-2.06-.94L8.5 2.5l-.94 2.06-2.06.94zm10 10l.94 2.06.94-2.06 2.06-.94-2.06-.94-.94-2.06-.94 2.06-2.06.94z\"/><path d=\"M17.41 7.96l-1.37-1.37c-.4-.4-.92-.59-1.43-.59-.52 0-1.04.2-1.43.59L10.3 9.45l-7.72 7.72c-.78.78-.78 2.05 0 2.83L4 21.41c.39.39.9.59 1.41.59.51 0 1.02-.2 1.41-.59l7.78-7.78 2.81-2.81c.8-.78.8-2.07 0-2.86zM5.41 20L4 18.59l7.72-7.72 1.47 1.35L5.41 20z\"/>\n",
              "  </svg>\n",
              "      </button>\n",
              "      \n",
              "  <style>\n",
              "    .colab-df-container {\n",
              "      display:flex;\n",
              "      flex-wrap:wrap;\n",
              "      gap: 12px;\n",
              "    }\n",
              "\n",
              "    .colab-df-convert {\n",
              "      background-color: #E8F0FE;\n",
              "      border: none;\n",
              "      border-radius: 50%;\n",
              "      cursor: pointer;\n",
              "      display: none;\n",
              "      fill: #1967D2;\n",
              "      height: 32px;\n",
              "      padding: 0 0 0 0;\n",
              "      width: 32px;\n",
              "    }\n",
              "\n",
              "    .colab-df-convert:hover {\n",
              "      background-color: #E2EBFA;\n",
              "      box-shadow: 0px 1px 2px rgba(60, 64, 67, 0.3), 0px 1px 3px 1px rgba(60, 64, 67, 0.15);\n",
              "      fill: #174EA6;\n",
              "    }\n",
              "\n",
              "    [theme=dark] .colab-df-convert {\n",
              "      background-color: #3B4455;\n",
              "      fill: #D2E3FC;\n",
              "    }\n",
              "\n",
              "    [theme=dark] .colab-df-convert:hover {\n",
              "      background-color: #434B5C;\n",
              "      box-shadow: 0px 1px 3px 1px rgba(0, 0, 0, 0.15);\n",
              "      filter: drop-shadow(0px 1px 2px rgba(0, 0, 0, 0.3));\n",
              "      fill: #FFFFFF;\n",
              "    }\n",
              "  </style>\n",
              "\n",
              "      <script>\n",
              "        const buttonEl =\n",
              "          document.querySelector('#df-e87a1d0a-f8de-4f14-b354-f20d8e1ea0a3 button.colab-df-convert');\n",
              "        buttonEl.style.display =\n",
              "          google.colab.kernel.accessAllowed ? 'block' : 'none';\n",
              "\n",
              "        async function convertToInteractive(key) {\n",
              "          const element = document.querySelector('#df-e87a1d0a-f8de-4f14-b354-f20d8e1ea0a3');\n",
              "          const dataTable =\n",
              "            await google.colab.kernel.invokeFunction('convertToInteractive',\n",
              "                                                     [key], {});\n",
              "          if (!dataTable) return;\n",
              "\n",
              "          const docLinkHtml = 'Like what you see? Visit the ' +\n",
              "            '<a target=\"_blank\" href=https://colab.research.google.com/notebooks/data_table.ipynb>data table notebook</a>'\n",
              "            + ' to learn more about interactive tables.';\n",
              "          element.innerHTML = '';\n",
              "          dataTable['output_type'] = 'display_data';\n",
              "          await google.colab.output.renderOutput(dataTable, element);\n",
              "          const docLink = document.createElement('div');\n",
              "          docLink.innerHTML = docLinkHtml;\n",
              "          element.appendChild(docLink);\n",
              "        }\n",
              "      </script>\n",
              "    </div>\n",
              "  </div>\n",
              "  "
            ]
          },
          "metadata": {},
          "execution_count": 144
        }
      ],
      "source": [
        "df_copy"
      ]
    },
    {
      "cell_type": "code",
      "execution_count": null,
      "metadata": {
        "id": "645K0uEbzK0U",
        "colab": {
          "base_uri": "https://localhost:8080/"
        },
        "outputId": "f2b7ba3b-df2f-4be4-8b6c-8d6b930039b2"
      },
      "outputs": [
        {
          "output_type": "execute_result",
          "data": {
            "text/plain": [
              "      holiday  workingday   atemp  humidity  windspeed   pollution   traffic  \\\n",
              "0           0           1  40.150      0.59     0.0000   10.317020  0.015615   \n",
              "1           1           0   6.820      0.54     6.0032    3.502209  0.004489   \n",
              "2           0           0  11.365      0.48    12.9980   25.945915  0.000000   \n",
              "3           0           1  34.090      0.62    12.9980  116.935908  0.004489   \n",
              "4           0           1  31.060      0.53    16.9979  120.824789  0.015615   \n",
              "...       ...         ...     ...       ...        ...         ...       ...   \n",
              "2717        0           0  24.240      0.29    27.9993   44.665581  0.000242   \n",
              "2718        0           0  20.455      0.37    19.9995   31.090380  0.000000   \n",
              "2719        0           1  31.060      0.74     8.9981    1.075298  0.015615   \n",
              "2720        0           0  31.060      0.65    11.0014    2.291586  0.004489   \n",
              "2721        0           0  21.210      0.77    19.0012    8.940201  0.015615   \n",
              "\n",
              "      count  month  year  day  hour  rush_h  offpeak_h  weather_2  weather_3  \n",
              "0       127      7  2011    1    11       0          0          0          0  \n",
              "1        13      1  2012    0     6       0          1          0          0  \n",
              "2       163     12  2011    6    18       1          0          0          0  \n",
              "3       233      8  2012    2    10       0          0          1          0  \n",
              "4       222      6  2012    4    23       0          0          0          0  \n",
              "...     ...    ...   ...  ...   ...     ...        ...        ...        ...  \n",
              "2717    313      3  2011    5    15       0          0          0          0  \n",
              "2718    314      1  2012    6    16       0          0          0          0  \n",
              "2719     26      7  2011    0     5       0          1          0          0  \n",
              "2720    127      7  2011    5     8       1          0          0          0  \n",
              "2721     84      1  2011    5    12       0          0          0          0  \n",
              "\n",
              "[2722 rows x 16 columns]"
            ],
            "text/html": [
              "\n",
              "  <div id=\"df-2cffa777-a7d4-4d27-8112-3a750fc1df9f\">\n",
              "    <div class=\"colab-df-container\">\n",
              "      <div>\n",
              "<style scoped>\n",
              "    .dataframe tbody tr th:only-of-type {\n",
              "        vertical-align: middle;\n",
              "    }\n",
              "\n",
              "    .dataframe tbody tr th {\n",
              "        vertical-align: top;\n",
              "    }\n",
              "\n",
              "    .dataframe thead th {\n",
              "        text-align: right;\n",
              "    }\n",
              "</style>\n",
              "<table border=\"1\" class=\"dataframe\">\n",
              "  <thead>\n",
              "    <tr style=\"text-align: right;\">\n",
              "      <th></th>\n",
              "      <th>holiday</th>\n",
              "      <th>workingday</th>\n",
              "      <th>atemp</th>\n",
              "      <th>humidity</th>\n",
              "      <th>windspeed</th>\n",
              "      <th>pollution</th>\n",
              "      <th>traffic</th>\n",
              "      <th>count</th>\n",
              "      <th>month</th>\n",
              "      <th>year</th>\n",
              "      <th>day</th>\n",
              "      <th>hour</th>\n",
              "      <th>rush_h</th>\n",
              "      <th>offpeak_h</th>\n",
              "      <th>weather_2</th>\n",
              "      <th>weather_3</th>\n",
              "    </tr>\n",
              "  </thead>\n",
              "  <tbody>\n",
              "    <tr>\n",
              "      <th>0</th>\n",
              "      <td>0</td>\n",
              "      <td>1</td>\n",
              "      <td>40.150</td>\n",
              "      <td>0.59</td>\n",
              "      <td>0.0000</td>\n",
              "      <td>10.317020</td>\n",
              "      <td>0.015615</td>\n",
              "      <td>127</td>\n",
              "      <td>7</td>\n",
              "      <td>2011</td>\n",
              "      <td>1</td>\n",
              "      <td>11</td>\n",
              "      <td>0</td>\n",
              "      <td>0</td>\n",
              "      <td>0</td>\n",
              "      <td>0</td>\n",
              "    </tr>\n",
              "    <tr>\n",
              "      <th>1</th>\n",
              "      <td>1</td>\n",
              "      <td>0</td>\n",
              "      <td>6.820</td>\n",
              "      <td>0.54</td>\n",
              "      <td>6.0032</td>\n",
              "      <td>3.502209</td>\n",
              "      <td>0.004489</td>\n",
              "      <td>13</td>\n",
              "      <td>1</td>\n",
              "      <td>2012</td>\n",
              "      <td>0</td>\n",
              "      <td>6</td>\n",
              "      <td>0</td>\n",
              "      <td>1</td>\n",
              "      <td>0</td>\n",
              "      <td>0</td>\n",
              "    </tr>\n",
              "    <tr>\n",
              "      <th>2</th>\n",
              "      <td>0</td>\n",
              "      <td>0</td>\n",
              "      <td>11.365</td>\n",
              "      <td>0.48</td>\n",
              "      <td>12.9980</td>\n",
              "      <td>25.945915</td>\n",
              "      <td>0.000000</td>\n",
              "      <td>163</td>\n",
              "      <td>12</td>\n",
              "      <td>2011</td>\n",
              "      <td>6</td>\n",
              "      <td>18</td>\n",
              "      <td>1</td>\n",
              "      <td>0</td>\n",
              "      <td>0</td>\n",
              "      <td>0</td>\n",
              "    </tr>\n",
              "    <tr>\n",
              "      <th>3</th>\n",
              "      <td>0</td>\n",
              "      <td>1</td>\n",
              "      <td>34.090</td>\n",
              "      <td>0.62</td>\n",
              "      <td>12.9980</td>\n",
              "      <td>116.935908</td>\n",
              "      <td>0.004489</td>\n",
              "      <td>233</td>\n",
              "      <td>8</td>\n",
              "      <td>2012</td>\n",
              "      <td>2</td>\n",
              "      <td>10</td>\n",
              "      <td>0</td>\n",
              "      <td>0</td>\n",
              "      <td>1</td>\n",
              "      <td>0</td>\n",
              "    </tr>\n",
              "    <tr>\n",
              "      <th>4</th>\n",
              "      <td>0</td>\n",
              "      <td>1</td>\n",
              "      <td>31.060</td>\n",
              "      <td>0.53</td>\n",
              "      <td>16.9979</td>\n",
              "      <td>120.824789</td>\n",
              "      <td>0.015615</td>\n",
              "      <td>222</td>\n",
              "      <td>6</td>\n",
              "      <td>2012</td>\n",
              "      <td>4</td>\n",
              "      <td>23</td>\n",
              "      <td>0</td>\n",
              "      <td>0</td>\n",
              "      <td>0</td>\n",
              "      <td>0</td>\n",
              "    </tr>\n",
              "    <tr>\n",
              "      <th>...</th>\n",
              "      <td>...</td>\n",
              "      <td>...</td>\n",
              "      <td>...</td>\n",
              "      <td>...</td>\n",
              "      <td>...</td>\n",
              "      <td>...</td>\n",
              "      <td>...</td>\n",
              "      <td>...</td>\n",
              "      <td>...</td>\n",
              "      <td>...</td>\n",
              "      <td>...</td>\n",
              "      <td>...</td>\n",
              "      <td>...</td>\n",
              "      <td>...</td>\n",
              "      <td>...</td>\n",
              "      <td>...</td>\n",
              "    </tr>\n",
              "    <tr>\n",
              "      <th>2717</th>\n",
              "      <td>0</td>\n",
              "      <td>0</td>\n",
              "      <td>24.240</td>\n",
              "      <td>0.29</td>\n",
              "      <td>27.9993</td>\n",
              "      <td>44.665581</td>\n",
              "      <td>0.000242</td>\n",
              "      <td>313</td>\n",
              "      <td>3</td>\n",
              "      <td>2011</td>\n",
              "      <td>5</td>\n",
              "      <td>15</td>\n",
              "      <td>0</td>\n",
              "      <td>0</td>\n",
              "      <td>0</td>\n",
              "      <td>0</td>\n",
              "    </tr>\n",
              "    <tr>\n",
              "      <th>2718</th>\n",
              "      <td>0</td>\n",
              "      <td>0</td>\n",
              "      <td>20.455</td>\n",
              "      <td>0.37</td>\n",
              "      <td>19.9995</td>\n",
              "      <td>31.090380</td>\n",
              "      <td>0.000000</td>\n",
              "      <td>314</td>\n",
              "      <td>1</td>\n",
              "      <td>2012</td>\n",
              "      <td>6</td>\n",
              "      <td>16</td>\n",
              "      <td>0</td>\n",
              "      <td>0</td>\n",
              "      <td>0</td>\n",
              "      <td>0</td>\n",
              "    </tr>\n",
              "    <tr>\n",
              "      <th>2719</th>\n",
              "      <td>0</td>\n",
              "      <td>1</td>\n",
              "      <td>31.060</td>\n",
              "      <td>0.74</td>\n",
              "      <td>8.9981</td>\n",
              "      <td>1.075298</td>\n",
              "      <td>0.015615</td>\n",
              "      <td>26</td>\n",
              "      <td>7</td>\n",
              "      <td>2011</td>\n",
              "      <td>0</td>\n",
              "      <td>5</td>\n",
              "      <td>0</td>\n",
              "      <td>1</td>\n",
              "      <td>0</td>\n",
              "      <td>0</td>\n",
              "    </tr>\n",
              "    <tr>\n",
              "      <th>2720</th>\n",
              "      <td>0</td>\n",
              "      <td>0</td>\n",
              "      <td>31.060</td>\n",
              "      <td>0.65</td>\n",
              "      <td>11.0014</td>\n",
              "      <td>2.291586</td>\n",
              "      <td>0.004489</td>\n",
              "      <td>127</td>\n",
              "      <td>7</td>\n",
              "      <td>2011</td>\n",
              "      <td>5</td>\n",
              "      <td>8</td>\n",
              "      <td>1</td>\n",
              "      <td>0</td>\n",
              "      <td>0</td>\n",
              "      <td>0</td>\n",
              "    </tr>\n",
              "    <tr>\n",
              "      <th>2721</th>\n",
              "      <td>0</td>\n",
              "      <td>0</td>\n",
              "      <td>21.210</td>\n",
              "      <td>0.77</td>\n",
              "      <td>19.0012</td>\n",
              "      <td>8.940201</td>\n",
              "      <td>0.015615</td>\n",
              "      <td>84</td>\n",
              "      <td>1</td>\n",
              "      <td>2011</td>\n",
              "      <td>5</td>\n",
              "      <td>12</td>\n",
              "      <td>0</td>\n",
              "      <td>0</td>\n",
              "      <td>0</td>\n",
              "      <td>0</td>\n",
              "    </tr>\n",
              "  </tbody>\n",
              "</table>\n",
              "<p>2722 rows × 16 columns</p>\n",
              "</div>\n",
              "      <button class=\"colab-df-convert\" onclick=\"convertToInteractive('df-2cffa777-a7d4-4d27-8112-3a750fc1df9f')\"\n",
              "              title=\"Convert this dataframe to an interactive table.\"\n",
              "              style=\"display:none;\">\n",
              "        \n",
              "  <svg xmlns=\"http://www.w3.org/2000/svg\" height=\"24px\"viewBox=\"0 0 24 24\"\n",
              "       width=\"24px\">\n",
              "    <path d=\"M0 0h24v24H0V0z\" fill=\"none\"/>\n",
              "    <path d=\"M18.56 5.44l.94 2.06.94-2.06 2.06-.94-2.06-.94-.94-2.06-.94 2.06-2.06.94zm-11 1L8.5 8.5l.94-2.06 2.06-.94-2.06-.94L8.5 2.5l-.94 2.06-2.06.94zm10 10l.94 2.06.94-2.06 2.06-.94-2.06-.94-.94-2.06-.94 2.06-2.06.94z\"/><path d=\"M17.41 7.96l-1.37-1.37c-.4-.4-.92-.59-1.43-.59-.52 0-1.04.2-1.43.59L10.3 9.45l-7.72 7.72c-.78.78-.78 2.05 0 2.83L4 21.41c.39.39.9.59 1.41.59.51 0 1.02-.2 1.41-.59l7.78-7.78 2.81-2.81c.8-.78.8-2.07 0-2.86zM5.41 20L4 18.59l7.72-7.72 1.47 1.35L5.41 20z\"/>\n",
              "  </svg>\n",
              "      </button>\n",
              "      \n",
              "  <style>\n",
              "    .colab-df-container {\n",
              "      display:flex;\n",
              "      flex-wrap:wrap;\n",
              "      gap: 12px;\n",
              "    }\n",
              "\n",
              "    .colab-df-convert {\n",
              "      background-color: #E8F0FE;\n",
              "      border: none;\n",
              "      border-radius: 50%;\n",
              "      cursor: pointer;\n",
              "      display: none;\n",
              "      fill: #1967D2;\n",
              "      height: 32px;\n",
              "      padding: 0 0 0 0;\n",
              "      width: 32px;\n",
              "    }\n",
              "\n",
              "    .colab-df-convert:hover {\n",
              "      background-color: #E2EBFA;\n",
              "      box-shadow: 0px 1px 2px rgba(60, 64, 67, 0.3), 0px 1px 3px 1px rgba(60, 64, 67, 0.15);\n",
              "      fill: #174EA6;\n",
              "    }\n",
              "\n",
              "    [theme=dark] .colab-df-convert {\n",
              "      background-color: #3B4455;\n",
              "      fill: #D2E3FC;\n",
              "    }\n",
              "\n",
              "    [theme=dark] .colab-df-convert:hover {\n",
              "      background-color: #434B5C;\n",
              "      box-shadow: 0px 1px 3px 1px rgba(0, 0, 0, 0.15);\n",
              "      filter: drop-shadow(0px 1px 2px rgba(0, 0, 0, 0.3));\n",
              "      fill: #FFFFFF;\n",
              "    }\n",
              "  </style>\n",
              "\n",
              "      <script>\n",
              "        const buttonEl =\n",
              "          document.querySelector('#df-2cffa777-a7d4-4d27-8112-3a750fc1df9f button.colab-df-convert');\n",
              "        buttonEl.style.display =\n",
              "          google.colab.kernel.accessAllowed ? 'block' : 'none';\n",
              "\n",
              "        async function convertToInteractive(key) {\n",
              "          const element = document.querySelector('#df-2cffa777-a7d4-4d27-8112-3a750fc1df9f');\n",
              "          const dataTable =\n",
              "            await google.colab.kernel.invokeFunction('convertToInteractive',\n",
              "                                                     [key], {});\n",
              "          if (!dataTable) return;\n",
              "\n",
              "          const docLinkHtml = 'Like what you see? Visit the ' +\n",
              "            '<a target=\"_blank\" href=https://colab.research.google.com/notebooks/data_table.ipynb>data table notebook</a>'\n",
              "            + ' to learn more about interactive tables.';\n",
              "          element.innerHTML = '';\n",
              "          dataTable['output_type'] = 'display_data';\n",
              "          await google.colab.output.renderOutput(dataTable, element);\n",
              "          const docLink = document.createElement('div');\n",
              "          docLink.innerHTML = docLinkHtml;\n",
              "          element.appendChild(docLink);\n",
              "        }\n",
              "      </script>\n",
              "    </div>\n",
              "  </div>\n",
              "  "
            ]
          },
          "metadata": {},
          "execution_count": 145
        }
      ],
      "source": [
        "df_test"
      ]
    },
    {
      "cell_type": "markdown",
      "metadata": {
        "id": "JNEiZtNKzWPy"
      },
      "source": [
        "We can see that we are missing 'weather_4' column, so we will add one full of zeros, so we can run our models properly on the test. We already know there are no missing values from the info table we showed in our exploration."
      ]
    },
    {
      "cell_type": "code",
      "execution_count": null,
      "metadata": {
        "id": "s6mUY92BzKeQ"
      },
      "outputs": [],
      "source": [
        "df_test.insert(15, 'weather_4', '0')"
      ]
    },
    {
      "cell_type": "code",
      "execution_count": null,
      "metadata": {
        "id": "jXFQh_hd2t31",
        "colab": {
          "base_uri": "https://localhost:8080/",
          "height": 488
        },
        "outputId": "2ebbd355-544e-4e15-d7b8-c8c36ac60439"
      },
      "outputs": [
        {
          "output_type": "execute_result",
          "data": {
            "text/plain": [
              "      holiday  workingday   atemp  humidity  windspeed   pollution   traffic  \\\n",
              "0           0           1  40.150      0.59     0.0000   10.317020  0.015615   \n",
              "1           1           0   6.820      0.54     6.0032    3.502209  0.004489   \n",
              "2           0           0  11.365      0.48    12.9980   25.945915  0.000000   \n",
              "3           0           1  34.090      0.62    12.9980  116.935908  0.004489   \n",
              "4           0           1  31.060      0.53    16.9979  120.824789  0.015615   \n",
              "...       ...         ...     ...       ...        ...         ...       ...   \n",
              "2717        0           0  24.240      0.29    27.9993   44.665581  0.000242   \n",
              "2718        0           0  20.455      0.37    19.9995   31.090380  0.000000   \n",
              "2719        0           1  31.060      0.74     8.9981    1.075298  0.015615   \n",
              "2720        0           0  31.060      0.65    11.0014    2.291586  0.004489   \n",
              "2721        0           0  21.210      0.77    19.0012    8.940201  0.015615   \n",
              "\n",
              "      count  month  year  day  hour  rush_h  offpeak_h  weather_2 weather_4  \\\n",
              "0       127      7  2011    1    11       0          0          0         0   \n",
              "1        13      1  2012    0     6       0          1          0         0   \n",
              "2       163     12  2011    6    18       1          0          0         0   \n",
              "3       233      8  2012    2    10       0          0          1         0   \n",
              "4       222      6  2012    4    23       0          0          0         0   \n",
              "...     ...    ...   ...  ...   ...     ...        ...        ...       ...   \n",
              "2717    313      3  2011    5    15       0          0          0         0   \n",
              "2718    314      1  2012    6    16       0          0          0         0   \n",
              "2719     26      7  2011    0     5       0          1          0         0   \n",
              "2720    127      7  2011    5     8       1          0          0         0   \n",
              "2721     84      1  2011    5    12       0          0          0         0   \n",
              "\n",
              "      weather_3  \n",
              "0             0  \n",
              "1             0  \n",
              "2             0  \n",
              "3             0  \n",
              "4             0  \n",
              "...         ...  \n",
              "2717          0  \n",
              "2718          0  \n",
              "2719          0  \n",
              "2720          0  \n",
              "2721          0  \n",
              "\n",
              "[2722 rows x 17 columns]"
            ],
            "text/html": [
              "\n",
              "  <div id=\"df-17ebe5ed-4beb-42ac-a659-ce502043e2c1\">\n",
              "    <div class=\"colab-df-container\">\n",
              "      <div>\n",
              "<style scoped>\n",
              "    .dataframe tbody tr th:only-of-type {\n",
              "        vertical-align: middle;\n",
              "    }\n",
              "\n",
              "    .dataframe tbody tr th {\n",
              "        vertical-align: top;\n",
              "    }\n",
              "\n",
              "    .dataframe thead th {\n",
              "        text-align: right;\n",
              "    }\n",
              "</style>\n",
              "<table border=\"1\" class=\"dataframe\">\n",
              "  <thead>\n",
              "    <tr style=\"text-align: right;\">\n",
              "      <th></th>\n",
              "      <th>holiday</th>\n",
              "      <th>workingday</th>\n",
              "      <th>atemp</th>\n",
              "      <th>humidity</th>\n",
              "      <th>windspeed</th>\n",
              "      <th>pollution</th>\n",
              "      <th>traffic</th>\n",
              "      <th>count</th>\n",
              "      <th>month</th>\n",
              "      <th>year</th>\n",
              "      <th>day</th>\n",
              "      <th>hour</th>\n",
              "      <th>rush_h</th>\n",
              "      <th>offpeak_h</th>\n",
              "      <th>weather_2</th>\n",
              "      <th>weather_4</th>\n",
              "      <th>weather_3</th>\n",
              "    </tr>\n",
              "  </thead>\n",
              "  <tbody>\n",
              "    <tr>\n",
              "      <th>0</th>\n",
              "      <td>0</td>\n",
              "      <td>1</td>\n",
              "      <td>40.150</td>\n",
              "      <td>0.59</td>\n",
              "      <td>0.0000</td>\n",
              "      <td>10.317020</td>\n",
              "      <td>0.015615</td>\n",
              "      <td>127</td>\n",
              "      <td>7</td>\n",
              "      <td>2011</td>\n",
              "      <td>1</td>\n",
              "      <td>11</td>\n",
              "      <td>0</td>\n",
              "      <td>0</td>\n",
              "      <td>0</td>\n",
              "      <td>0</td>\n",
              "      <td>0</td>\n",
              "    </tr>\n",
              "    <tr>\n",
              "      <th>1</th>\n",
              "      <td>1</td>\n",
              "      <td>0</td>\n",
              "      <td>6.820</td>\n",
              "      <td>0.54</td>\n",
              "      <td>6.0032</td>\n",
              "      <td>3.502209</td>\n",
              "      <td>0.004489</td>\n",
              "      <td>13</td>\n",
              "      <td>1</td>\n",
              "      <td>2012</td>\n",
              "      <td>0</td>\n",
              "      <td>6</td>\n",
              "      <td>0</td>\n",
              "      <td>1</td>\n",
              "      <td>0</td>\n",
              "      <td>0</td>\n",
              "      <td>0</td>\n",
              "    </tr>\n",
              "    <tr>\n",
              "      <th>2</th>\n",
              "      <td>0</td>\n",
              "      <td>0</td>\n",
              "      <td>11.365</td>\n",
              "      <td>0.48</td>\n",
              "      <td>12.9980</td>\n",
              "      <td>25.945915</td>\n",
              "      <td>0.000000</td>\n",
              "      <td>163</td>\n",
              "      <td>12</td>\n",
              "      <td>2011</td>\n",
              "      <td>6</td>\n",
              "      <td>18</td>\n",
              "      <td>1</td>\n",
              "      <td>0</td>\n",
              "      <td>0</td>\n",
              "      <td>0</td>\n",
              "      <td>0</td>\n",
              "    </tr>\n",
              "    <tr>\n",
              "      <th>3</th>\n",
              "      <td>0</td>\n",
              "      <td>1</td>\n",
              "      <td>34.090</td>\n",
              "      <td>0.62</td>\n",
              "      <td>12.9980</td>\n",
              "      <td>116.935908</td>\n",
              "      <td>0.004489</td>\n",
              "      <td>233</td>\n",
              "      <td>8</td>\n",
              "      <td>2012</td>\n",
              "      <td>2</td>\n",
              "      <td>10</td>\n",
              "      <td>0</td>\n",
              "      <td>0</td>\n",
              "      <td>1</td>\n",
              "      <td>0</td>\n",
              "      <td>0</td>\n",
              "    </tr>\n",
              "    <tr>\n",
              "      <th>4</th>\n",
              "      <td>0</td>\n",
              "      <td>1</td>\n",
              "      <td>31.060</td>\n",
              "      <td>0.53</td>\n",
              "      <td>16.9979</td>\n",
              "      <td>120.824789</td>\n",
              "      <td>0.015615</td>\n",
              "      <td>222</td>\n",
              "      <td>6</td>\n",
              "      <td>2012</td>\n",
              "      <td>4</td>\n",
              "      <td>23</td>\n",
              "      <td>0</td>\n",
              "      <td>0</td>\n",
              "      <td>0</td>\n",
              "      <td>0</td>\n",
              "      <td>0</td>\n",
              "    </tr>\n",
              "    <tr>\n",
              "      <th>...</th>\n",
              "      <td>...</td>\n",
              "      <td>...</td>\n",
              "      <td>...</td>\n",
              "      <td>...</td>\n",
              "      <td>...</td>\n",
              "      <td>...</td>\n",
              "      <td>...</td>\n",
              "      <td>...</td>\n",
              "      <td>...</td>\n",
              "      <td>...</td>\n",
              "      <td>...</td>\n",
              "      <td>...</td>\n",
              "      <td>...</td>\n",
              "      <td>...</td>\n",
              "      <td>...</td>\n",
              "      <td>...</td>\n",
              "      <td>...</td>\n",
              "    </tr>\n",
              "    <tr>\n",
              "      <th>2717</th>\n",
              "      <td>0</td>\n",
              "      <td>0</td>\n",
              "      <td>24.240</td>\n",
              "      <td>0.29</td>\n",
              "      <td>27.9993</td>\n",
              "      <td>44.665581</td>\n",
              "      <td>0.000242</td>\n",
              "      <td>313</td>\n",
              "      <td>3</td>\n",
              "      <td>2011</td>\n",
              "      <td>5</td>\n",
              "      <td>15</td>\n",
              "      <td>0</td>\n",
              "      <td>0</td>\n",
              "      <td>0</td>\n",
              "      <td>0</td>\n",
              "      <td>0</td>\n",
              "    </tr>\n",
              "    <tr>\n",
              "      <th>2718</th>\n",
              "      <td>0</td>\n",
              "      <td>0</td>\n",
              "      <td>20.455</td>\n",
              "      <td>0.37</td>\n",
              "      <td>19.9995</td>\n",
              "      <td>31.090380</td>\n",
              "      <td>0.000000</td>\n",
              "      <td>314</td>\n",
              "      <td>1</td>\n",
              "      <td>2012</td>\n",
              "      <td>6</td>\n",
              "      <td>16</td>\n",
              "      <td>0</td>\n",
              "      <td>0</td>\n",
              "      <td>0</td>\n",
              "      <td>0</td>\n",
              "      <td>0</td>\n",
              "    </tr>\n",
              "    <tr>\n",
              "      <th>2719</th>\n",
              "      <td>0</td>\n",
              "      <td>1</td>\n",
              "      <td>31.060</td>\n",
              "      <td>0.74</td>\n",
              "      <td>8.9981</td>\n",
              "      <td>1.075298</td>\n",
              "      <td>0.015615</td>\n",
              "      <td>26</td>\n",
              "      <td>7</td>\n",
              "      <td>2011</td>\n",
              "      <td>0</td>\n",
              "      <td>5</td>\n",
              "      <td>0</td>\n",
              "      <td>1</td>\n",
              "      <td>0</td>\n",
              "      <td>0</td>\n",
              "      <td>0</td>\n",
              "    </tr>\n",
              "    <tr>\n",
              "      <th>2720</th>\n",
              "      <td>0</td>\n",
              "      <td>0</td>\n",
              "      <td>31.060</td>\n",
              "      <td>0.65</td>\n",
              "      <td>11.0014</td>\n",
              "      <td>2.291586</td>\n",
              "      <td>0.004489</td>\n",
              "      <td>127</td>\n",
              "      <td>7</td>\n",
              "      <td>2011</td>\n",
              "      <td>5</td>\n",
              "      <td>8</td>\n",
              "      <td>1</td>\n",
              "      <td>0</td>\n",
              "      <td>0</td>\n",
              "      <td>0</td>\n",
              "      <td>0</td>\n",
              "    </tr>\n",
              "    <tr>\n",
              "      <th>2721</th>\n",
              "      <td>0</td>\n",
              "      <td>0</td>\n",
              "      <td>21.210</td>\n",
              "      <td>0.77</td>\n",
              "      <td>19.0012</td>\n",
              "      <td>8.940201</td>\n",
              "      <td>0.015615</td>\n",
              "      <td>84</td>\n",
              "      <td>1</td>\n",
              "      <td>2011</td>\n",
              "      <td>5</td>\n",
              "      <td>12</td>\n",
              "      <td>0</td>\n",
              "      <td>0</td>\n",
              "      <td>0</td>\n",
              "      <td>0</td>\n",
              "      <td>0</td>\n",
              "    </tr>\n",
              "  </tbody>\n",
              "</table>\n",
              "<p>2722 rows × 17 columns</p>\n",
              "</div>\n",
              "      <button class=\"colab-df-convert\" onclick=\"convertToInteractive('df-17ebe5ed-4beb-42ac-a659-ce502043e2c1')\"\n",
              "              title=\"Convert this dataframe to an interactive table.\"\n",
              "              style=\"display:none;\">\n",
              "        \n",
              "  <svg xmlns=\"http://www.w3.org/2000/svg\" height=\"24px\"viewBox=\"0 0 24 24\"\n",
              "       width=\"24px\">\n",
              "    <path d=\"M0 0h24v24H0V0z\" fill=\"none\"/>\n",
              "    <path d=\"M18.56 5.44l.94 2.06.94-2.06 2.06-.94-2.06-.94-.94-2.06-.94 2.06-2.06.94zm-11 1L8.5 8.5l.94-2.06 2.06-.94-2.06-.94L8.5 2.5l-.94 2.06-2.06.94zm10 10l.94 2.06.94-2.06 2.06-.94-2.06-.94-.94-2.06-.94 2.06-2.06.94z\"/><path d=\"M17.41 7.96l-1.37-1.37c-.4-.4-.92-.59-1.43-.59-.52 0-1.04.2-1.43.59L10.3 9.45l-7.72 7.72c-.78.78-.78 2.05 0 2.83L4 21.41c.39.39.9.59 1.41.59.51 0 1.02-.2 1.41-.59l7.78-7.78 2.81-2.81c.8-.78.8-2.07 0-2.86zM5.41 20L4 18.59l7.72-7.72 1.47 1.35L5.41 20z\"/>\n",
              "  </svg>\n",
              "      </button>\n",
              "      \n",
              "  <style>\n",
              "    .colab-df-container {\n",
              "      display:flex;\n",
              "      flex-wrap:wrap;\n",
              "      gap: 12px;\n",
              "    }\n",
              "\n",
              "    .colab-df-convert {\n",
              "      background-color: #E8F0FE;\n",
              "      border: none;\n",
              "      border-radius: 50%;\n",
              "      cursor: pointer;\n",
              "      display: none;\n",
              "      fill: #1967D2;\n",
              "      height: 32px;\n",
              "      padding: 0 0 0 0;\n",
              "      width: 32px;\n",
              "    }\n",
              "\n",
              "    .colab-df-convert:hover {\n",
              "      background-color: #E2EBFA;\n",
              "      box-shadow: 0px 1px 2px rgba(60, 64, 67, 0.3), 0px 1px 3px 1px rgba(60, 64, 67, 0.15);\n",
              "      fill: #174EA6;\n",
              "    }\n",
              "\n",
              "    [theme=dark] .colab-df-convert {\n",
              "      background-color: #3B4455;\n",
              "      fill: #D2E3FC;\n",
              "    }\n",
              "\n",
              "    [theme=dark] .colab-df-convert:hover {\n",
              "      background-color: #434B5C;\n",
              "      box-shadow: 0px 1px 3px 1px rgba(0, 0, 0, 0.15);\n",
              "      filter: drop-shadow(0px 1px 2px rgba(0, 0, 0, 0.3));\n",
              "      fill: #FFFFFF;\n",
              "    }\n",
              "  </style>\n",
              "\n",
              "      <script>\n",
              "        const buttonEl =\n",
              "          document.querySelector('#df-17ebe5ed-4beb-42ac-a659-ce502043e2c1 button.colab-df-convert');\n",
              "        buttonEl.style.display =\n",
              "          google.colab.kernel.accessAllowed ? 'block' : 'none';\n",
              "\n",
              "        async function convertToInteractive(key) {\n",
              "          const element = document.querySelector('#df-17ebe5ed-4beb-42ac-a659-ce502043e2c1');\n",
              "          const dataTable =\n",
              "            await google.colab.kernel.invokeFunction('convertToInteractive',\n",
              "                                                     [key], {});\n",
              "          if (!dataTable) return;\n",
              "\n",
              "          const docLinkHtml = 'Like what you see? Visit the ' +\n",
              "            '<a target=\"_blank\" href=https://colab.research.google.com/notebooks/data_table.ipynb>data table notebook</a>'\n",
              "            + ' to learn more about interactive tables.';\n",
              "          element.innerHTML = '';\n",
              "          dataTable['output_type'] = 'display_data';\n",
              "          await google.colab.output.renderOutput(dataTable, element);\n",
              "          const docLink = document.createElement('div');\n",
              "          docLink.innerHTML = docLinkHtml;\n",
              "          element.appendChild(docLink);\n",
              "        }\n",
              "      </script>\n",
              "    </div>\n",
              "  </div>\n",
              "  "
            ]
          },
          "metadata": {},
          "execution_count": 147
        }
      ],
      "source": [
        "df_test"
      ]
    },
    {
      "cell_type": "markdown",
      "metadata": {
        "id": "AVD51nrwl2-U"
      },
      "source": [
        "spliting the test data set"
      ]
    },
    {
      "cell_type": "code",
      "execution_count": null,
      "metadata": {
        "id": "9ipjMfNtCvTj"
      },
      "outputs": [],
      "source": [
        "Y_test = np.array(df_test.pop('count'))\n",
        "X_test = np.array(df_test)\n"
      ]
    },
    {
      "cell_type": "code",
      "execution_count": null,
      "metadata": {
        "id": "A0SanvO-8YDp",
        "colab": {
          "base_uri": "https://localhost:8080/"
        },
        "outputId": "bd7eefea-7a63-43cd-a668-3d2ce138f8f1"
      },
      "outputs": [
        {
          "output_type": "execute_result",
          "data": {
            "text/plain": [
              "(2722, 16)"
            ]
          },
          "metadata": {},
          "execution_count": 149
        }
      ],
      "source": [
        "X_test.shape"
      ]
    },
    {
      "cell_type": "markdown",
      "metadata": {
        "id": "wD1_RvwHmCUO"
      },
      "source": [
        "let's take a look at the chosen features fot each model that we've found in the previous stage:"
      ]
    },
    {
      "cell_type": "code",
      "execution_count": null,
      "metadata": {
        "id": "dkgClHpSmUmg",
        "colab": {
          "base_uri": "https://localhost:8080/"
        },
        "outputId": "bfef1f65-3289-4bc4-c5d8-90f410b30a02"
      },
      "outputs": [
        {
          "output_type": "execute_result",
          "data": {
            "text/plain": [
              "{'Decision tree': array([10,  5, 11,  8,  2,  7,  1,  3,  9, 14,  4,  6]),\n",
              " 'Random forest': array([10, 12,  5, 11,  2,  8,  1,  7,  3,  9, 14,  4]),\n",
              " 'Linear regression': array([ 0,  1,  2,  3, -3, -2, -1])}"
            ]
          },
          "metadata": {},
          "execution_count": 150
        }
      ],
      "source": [
        "best_features_dict"
      ]
    },
    {
      "cell_type": "markdown",
      "metadata": {
        "id": "VxznUNndmWe1"
      },
      "source": [
        "predict on the test set:"
      ]
    },
    {
      "cell_type": "code",
      "execution_count": null,
      "metadata": {
        "id": "mbKvQTyjhHt_",
        "colab": {
          "base_uri": "https://localhost:8080/"
        },
        "outputId": "ee0d7a9c-d4e4-4733-9227-b860cee80044"
      },
      "outputs": [
        {
          "output_type": "stream",
          "name": "stdout",
          "text": [
            "Runtime test_tree_pred: 0.0 seconds\n",
            "Runtime test_forest_pred: 0.11 seconds\n",
            "Runtime test_lr_pred: 0.0 seconds\n"
          ]
        }
      ],
      "source": [
        "t_dt = t.time()\n",
        "test_tree_pred = new_tree.predict(X_test[:,  best_features_dict['Decision tree']])\n",
        "print(f'Runtime test_tree_pred: {round(t.time()-t_dt,2)} seconds')\n",
        "\n",
        "t_rf = t.time()\n",
        "test_forest_pred = new_forest.predict(X_test[:, best_features_dict['Random forest']])\n",
        "print(f'Runtime test_forest_pred: {round(t.time()-t_rf,2)} seconds')\n",
        "\n",
        "t_lr = t.time()\n",
        "test_lr_pred = new_lr[0].predict(X_test[:, best_features_dict['Linear regression']])\n",
        "print(f'Runtime test_lr_pred: {round(t.time()-t_lr,2)} seconds')"
      ]
    },
    {
      "cell_type": "markdown",
      "metadata": {
        "id": "A1YGEUtWmcWs"
      },
      "source": [
        "Calculation of Scores on the test data"
      ]
    },
    {
      "cell_type": "code",
      "execution_count": null,
      "metadata": {
        "id": "z3E1HBho4Jc1",
        "colab": {
          "base_uri": "https://localhost:8080/"
        },
        "outputId": "7dab5e6d-72e1-4884-e810-f7cdf09900a7"
      },
      "outputs": [
        {
          "output_type": "execute_result",
          "data": {
            "text/plain": [
              "{GridSearchCV(cv=3, estimator=DecisionTreeRegressor(random_state=42),\n",
              "              param_grid={'max_depth': [1, 2, 5, 10],\n",
              "                          'max_features': ['auto', 'sqrt', 'log2',\n",
              "                                           0.3333333333333333]},\n",
              "              scoring='neg_root_mean_squared_error', verbose=3): 73.76967314989346,\n",
              " GridSearchCV(cv=3,\n",
              "              estimator=RandomForestRegressor(n_estimators=120, random_state=42),\n",
              "              param_grid={'max_features': ['auto', 'sqrt', 'log2',\n",
              "                                           0.3333333333333333]},\n",
              "              scoring='neg_root_mean_squared_error', verbose=3): 49.578509895782496,\n",
              " LinearRegression(): 162.42972328941522}"
            ]
          },
          "metadata": {},
          "execution_count": 152
        }
      ],
      "source": [
        "test_scores = {}\n",
        "\n",
        "test_scores[new_tree] = np.sqrt(mean_squared_error(Y_test, test_tree_pred))\n",
        "test_scores[new_forest] = np.sqrt(mean_squared_error(Y_test, test_forest_pred))\n",
        "test_scores[new_lr[0]] = np.sqrt(mean_squared_error(Y_test, test_lr_pred))\n",
        "\n",
        "test_scores"
      ]
    },
    {
      "cell_type": "markdown",
      "metadata": {
        "id": "ty_4sx6L8_pB"
      },
      "source": [
        "generating the CSV file:"
      ]
    },
    {
      "cell_type": "code",
      "execution_count": null,
      "metadata": {
        "id": "-tKLrQAH856N",
        "colab": {
          "base_uri": "https://localhost:8080/",
          "height": 326
        },
        "outputId": "0c6900bd-cb9d-4055-ee82-87079ede8252"
      },
      "outputs": [
        {
          "output_type": "execute_result",
          "data": {
            "text/plain": [
              "               model Score (RMSE)  \\\n",
              "0  Linear Regression      156.168   \n",
              "1      Decision Tree        85.89   \n",
              "2      Random Forest        74.76   \n",
              "\n",
              "                              Hyperparams used  \\\n",
              "0                                       [None]   \n",
              "1  [{'max_depth': 10, 'max_features': 'auto'}]   \n",
              "2                   [{'max_features': 'auto'}]   \n",
              "\n",
              "                                    Features dropped  \\\n",
              "0  [[windspeed, pollution, traffic, month, year, ...   \n",
              "1                    [weather_2, holiday, weather_4]   \n",
              "2                    [weather_2, holiday, weather_4]   \n",
              "\n",
              "                                New features created  \\\n",
              "0  [season_2, season_3, season_4, weather_2, weat...   \n",
              "1  [season_2, season_3, season_4, weather_2, weat...   \n",
              "2  [season_2, season_3, season_4, weather_2, weat...   \n",
              "\n",
              "  Runtime trainining + inference (seconds) Hardware used (GPU/CPU/TPU)  \\\n",
              "0                                     0.03                         CPU   \n",
              "1                                     0.55                         CPU   \n",
              "2                                    26.12                         CPU   \n",
              "\n",
              "    Explainability (top 3 features)  \n",
              "0  [holiday, workingday, weather_4]  \n",
              "1       [[hour, pollution, rush_h]]  \n",
              "2    [[hour, offpeak_h, pollution]]  "
            ],
            "text/html": [
              "\n",
              "  <div id=\"df-53261421-c539-4ef2-b62f-ca4599ff6813\">\n",
              "    <div class=\"colab-df-container\">\n",
              "      <div>\n",
              "<style scoped>\n",
              "    .dataframe tbody tr th:only-of-type {\n",
              "        vertical-align: middle;\n",
              "    }\n",
              "\n",
              "    .dataframe tbody tr th {\n",
              "        vertical-align: top;\n",
              "    }\n",
              "\n",
              "    .dataframe thead th {\n",
              "        text-align: right;\n",
              "    }\n",
              "</style>\n",
              "<table border=\"1\" class=\"dataframe\">\n",
              "  <thead>\n",
              "    <tr style=\"text-align: right;\">\n",
              "      <th></th>\n",
              "      <th>model</th>\n",
              "      <th>Score (RMSE)</th>\n",
              "      <th>Hyperparams used</th>\n",
              "      <th>Features dropped</th>\n",
              "      <th>New features created</th>\n",
              "      <th>Runtime trainining + inference (seconds)</th>\n",
              "      <th>Hardware used (GPU/CPU/TPU)</th>\n",
              "      <th>Explainability (top 3 features)</th>\n",
              "    </tr>\n",
              "  </thead>\n",
              "  <tbody>\n",
              "    <tr>\n",
              "      <th>0</th>\n",
              "      <td>Linear Regression</td>\n",
              "      <td>156.168</td>\n",
              "      <td>[None]</td>\n",
              "      <td>[[windspeed, pollution, traffic, month, year, ...</td>\n",
              "      <td>[season_2, season_3, season_4, weather_2, weat...</td>\n",
              "      <td>0.03</td>\n",
              "      <td>CPU</td>\n",
              "      <td>[holiday, workingday, weather_4]</td>\n",
              "    </tr>\n",
              "    <tr>\n",
              "      <th>1</th>\n",
              "      <td>Decision Tree</td>\n",
              "      <td>85.89</td>\n",
              "      <td>[{'max_depth': 10, 'max_features': 'auto'}]</td>\n",
              "      <td>[weather_2, holiday, weather_4]</td>\n",
              "      <td>[season_2, season_3, season_4, weather_2, weat...</td>\n",
              "      <td>0.55</td>\n",
              "      <td>CPU</td>\n",
              "      <td>[[hour, pollution, rush_h]]</td>\n",
              "    </tr>\n",
              "    <tr>\n",
              "      <th>2</th>\n",
              "      <td>Random Forest</td>\n",
              "      <td>74.76</td>\n",
              "      <td>[{'max_features': 'auto'}]</td>\n",
              "      <td>[weather_2, holiday, weather_4]</td>\n",
              "      <td>[season_2, season_3, season_4, weather_2, weat...</td>\n",
              "      <td>26.12</td>\n",
              "      <td>CPU</td>\n",
              "      <td>[[hour, offpeak_h, pollution]]</td>\n",
              "    </tr>\n",
              "  </tbody>\n",
              "</table>\n",
              "</div>\n",
              "      <button class=\"colab-df-convert\" onclick=\"convertToInteractive('df-53261421-c539-4ef2-b62f-ca4599ff6813')\"\n",
              "              title=\"Convert this dataframe to an interactive table.\"\n",
              "              style=\"display:none;\">\n",
              "        \n",
              "  <svg xmlns=\"http://www.w3.org/2000/svg\" height=\"24px\"viewBox=\"0 0 24 24\"\n",
              "       width=\"24px\">\n",
              "    <path d=\"M0 0h24v24H0V0z\" fill=\"none\"/>\n",
              "    <path d=\"M18.56 5.44l.94 2.06.94-2.06 2.06-.94-2.06-.94-.94-2.06-.94 2.06-2.06.94zm-11 1L8.5 8.5l.94-2.06 2.06-.94-2.06-.94L8.5 2.5l-.94 2.06-2.06.94zm10 10l.94 2.06.94-2.06 2.06-.94-2.06-.94-.94-2.06-.94 2.06-2.06.94z\"/><path d=\"M17.41 7.96l-1.37-1.37c-.4-.4-.92-.59-1.43-.59-.52 0-1.04.2-1.43.59L10.3 9.45l-7.72 7.72c-.78.78-.78 2.05 0 2.83L4 21.41c.39.39.9.59 1.41.59.51 0 1.02-.2 1.41-.59l7.78-7.78 2.81-2.81c.8-.78.8-2.07 0-2.86zM5.41 20L4 18.59l7.72-7.72 1.47 1.35L5.41 20z\"/>\n",
              "  </svg>\n",
              "      </button>\n",
              "      \n",
              "  <style>\n",
              "    .colab-df-container {\n",
              "      display:flex;\n",
              "      flex-wrap:wrap;\n",
              "      gap: 12px;\n",
              "    }\n",
              "\n",
              "    .colab-df-convert {\n",
              "      background-color: #E8F0FE;\n",
              "      border: none;\n",
              "      border-radius: 50%;\n",
              "      cursor: pointer;\n",
              "      display: none;\n",
              "      fill: #1967D2;\n",
              "      height: 32px;\n",
              "      padding: 0 0 0 0;\n",
              "      width: 32px;\n",
              "    }\n",
              "\n",
              "    .colab-df-convert:hover {\n",
              "      background-color: #E2EBFA;\n",
              "      box-shadow: 0px 1px 2px rgba(60, 64, 67, 0.3), 0px 1px 3px 1px rgba(60, 64, 67, 0.15);\n",
              "      fill: #174EA6;\n",
              "    }\n",
              "\n",
              "    [theme=dark] .colab-df-convert {\n",
              "      background-color: #3B4455;\n",
              "      fill: #D2E3FC;\n",
              "    }\n",
              "\n",
              "    [theme=dark] .colab-df-convert:hover {\n",
              "      background-color: #434B5C;\n",
              "      box-shadow: 0px 1px 3px 1px rgba(0, 0, 0, 0.15);\n",
              "      filter: drop-shadow(0px 1px 2px rgba(0, 0, 0, 0.3));\n",
              "      fill: #FFFFFF;\n",
              "    }\n",
              "  </style>\n",
              "\n",
              "      <script>\n",
              "        const buttonEl =\n",
              "          document.querySelector('#df-53261421-c539-4ef2-b62f-ca4599ff6813 button.colab-df-convert');\n",
              "        buttonEl.style.display =\n",
              "          google.colab.kernel.accessAllowed ? 'block' : 'none';\n",
              "\n",
              "        async function convertToInteractive(key) {\n",
              "          const element = document.querySelector('#df-53261421-c539-4ef2-b62f-ca4599ff6813');\n",
              "          const dataTable =\n",
              "            await google.colab.kernel.invokeFunction('convertToInteractive',\n",
              "                                                     [key], {});\n",
              "          if (!dataTable) return;\n",
              "\n",
              "          const docLinkHtml = 'Like what you see? Visit the ' +\n",
              "            '<a target=\"_blank\" href=https://colab.research.google.com/notebooks/data_table.ipynb>data table notebook</a>'\n",
              "            + ' to learn more about interactive tables.';\n",
              "          element.innerHTML = '';\n",
              "          dataTable['output_type'] = 'display_data';\n",
              "          await google.colab.output.renderOutput(dataTable, element);\n",
              "          const docLink = document.createElement('div');\n",
              "          docLink.innerHTML = docLinkHtml;\n",
              "          element.appendChild(docLink);\n",
              "        }\n",
              "      </script>\n",
              "    </div>\n",
              "  </div>\n",
              "  "
            ]
          },
          "metadata": {},
          "execution_count": 153
        }
      ],
      "source": [
        "# Keep keys the same, and replace values according to your results and the specified type \n",
        "new_feat = ['season_2', 'season_3', 'season_4', 'weather_2', 'weather_3', 'weather_4', 'year', 'offpeak_h', 'rush_h']\n",
        "\n",
        "results = {'model': ['Linear Regression', 'Decision Tree', 'Random Forest'],\n",
        "           'Score (RMSE)': ['156.168', '85.89', '74.76'],\n",
        "           'Hyperparams used': [['None'], [models['Decision tree'].best_params_], [models['Random forest'].best_params_]],\n",
        "           'Features dropped': [[df_copy.columns[4:-3]], ['weather_2','holiday', 'weather_4'], ['weather_2','holiday', 'weather_4']],\n",
        "           'New features created': [new_feat, new_feat, new_feat],\n",
        "           'Runtime trainining + inference (seconds)': ['0.03', '0.55', '26.12'],\n",
        "           'Hardware used (GPU/CPU/TPU)': ['CPU', 'CPU', 'CPU'],\n",
        "           'Explainability (top 3 features)': [['holiday', 'workingday', 'weather_4'], [df_copy.columns[best_features_dict['Decision tree'][:3]]], [df_copy.columns[best_features_dict['Random forest'][:3]]]]\n",
        "           }\n",
        "\n",
        "df = pd.DataFrame(results)\n",
        "df"
      ]
    },
    {
      "cell_type": "code",
      "source": [
        "df.to_csv(os.path.join(os.getcwd(), 'exercise1.csv'))"
      ],
      "metadata": {
        "id": "pOLPVN-ABARd"
      },
      "execution_count": null,
      "outputs": []
    }
  ],
  "metadata": {
    "colab": {
      "provenance": [],
      "collapsed_sections": [
        "7GR73e4gtCG-",
        "OGAdTMkvnCfW",
        "VcVBHXCeQfNk",
        "vIMKD0ti4aRF",
        "S_JbY-j-Ikhy",
        "rnxdi2b05Ahy",
        "uXQnFVH3aGdZ",
        "6Ji3oOR42ycV"
      ],
      "include_colab_link": true
    },
    "kernelspec": {
      "display_name": "Python 3",
      "name": "python3"
    },
    "language_info": {
      "name": "python"
    }
  },
  "nbformat": 4,
  "nbformat_minor": 0
}